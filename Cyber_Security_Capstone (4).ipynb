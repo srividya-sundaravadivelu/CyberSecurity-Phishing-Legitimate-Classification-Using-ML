{
  "nbformat": 4,
  "nbformat_minor": 0,
  "metadata": {
    "colab": {
      "name": "Cyber_Security_Capstone.ipynb",
      "provenance": [],
      "collapsed_sections": []
    },
    "kernelspec": {
      "name": "python3",
      "display_name": "Python 3"
    },
    "language_info": {
      "name": "python"
    }
  },
  "cells": [
    {
      "cell_type": "markdown",
      "source": [
        "# Problem Statement\n",
        "\n",
        "Book-My-Show will enable the ads on their website, but they are also very cautious about their user privacy and information who visit their website. Some ads URL could contain a malicious link that can trick any recipient and lead to a malware installation, freezing the system as part of a ransomware attack or revealing sensitive information. Book-My-Show now wants to analyze that whether the particular URL is prone to phishing (malicious) or not."
      ],
      "metadata": {
        "id": "viJ7641Sllqg"
      }
    },
    {
      "cell_type": "code",
      "source": [
        "#Import the libraries\n",
        "import pandas as pd\n",
        "import numpy as np\n",
        "\n",
        "import matplotlib.pyplot as plt\n",
        "import seaborn as sns\n",
        "\n",
        "from sklearn import preprocessing\n",
        "from sklearn.model_selection import train_test_split\n",
        "\n",
        "from sklearn.linear_model import SGDClassifier\n",
        "from sklearn.linear_model import LogisticRegression\n",
        "from sklearn.model_selection import GridSearchCV\n",
        "from sklearn.ensemble import RandomForestClassifier\n",
        "\n",
        "from sklearn.metrics import accuracy_score,roc_curve,auc, confusion_matrix\n",
        "from sklearn.metrics import precision_score, recall_score, f1_score, classification_report\n",
        "from sklearn.model_selection import cross_val_score\n",
        "from sklearn.model_selection import cross_val_predict\n",
        "from sklearn.metrics import confusion_matrix\n",
        "from sklearn.metrics import roc_curve\n",
        "from sklearn.metrics import roc_auc_score\n"
      ],
      "metadata": {
        "id": "RxOVZgS8ls--"
      },
      "execution_count": 1,
      "outputs": []
    },
    {
      "cell_type": "markdown",
      "source": [
        "# Data Retrieval"
      ],
      "metadata": {
        "id": "5qnC8OFSl4dR"
      }
    },
    {
      "cell_type": "code",
      "source": [
        "# Read the csv file using pandas \n",
        "df = pd.read_csv(\"dataset.csv\")"
      ],
      "metadata": {
        "id": "-Uhuk_hpcu-X"
      },
      "execution_count": 2,
      "outputs": []
    },
    {
      "cell_type": "code",
      "source": [
        "# Display first 5 records\n",
        "df.head()"
      ],
      "metadata": {
        "colab": {
          "base_uri": "https://localhost:8080/",
          "height": 299
        },
        "id": "r81A_UNtc_jP",
        "outputId": "58f7cc60-b861-44a6-f68f-f6a1d3a2f685"
      },
      "execution_count": 3,
      "outputs": [
        {
          "output_type": "execute_result",
          "data": {
            "text/plain": [
              "   index  having_IPhaving_IP_Address  URLURL_Length  Shortining_Service  \\\n",
              "0      1                          -1              1                   1   \n",
              "1      2                           1              1                   1   \n",
              "2      3                           1              0                   1   \n",
              "3      4                           1              0                   1   \n",
              "4      5                           1              0                  -1   \n",
              "\n",
              "   having_At_Symbol  double_slash_redirecting  Prefix_Suffix  \\\n",
              "0                 1                        -1             -1   \n",
              "1                 1                         1             -1   \n",
              "2                 1                         1             -1   \n",
              "3                 1                         1             -1   \n",
              "4                 1                         1             -1   \n",
              "\n",
              "   having_Sub_Domain  SSLfinal_State  Domain_registeration_length  ...  \\\n",
              "0                 -1              -1                           -1  ...   \n",
              "1                  0               1                           -1  ...   \n",
              "2                 -1              -1                           -1  ...   \n",
              "3                 -1              -1                            1  ...   \n",
              "4                  1               1                           -1  ...   \n",
              "\n",
              "   popUpWidnow  Iframe  age_of_domain  DNSRecord  web_traffic  Page_Rank  \\\n",
              "0            1       1             -1         -1           -1         -1   \n",
              "1            1       1             -1         -1            0         -1   \n",
              "2            1       1              1         -1            1         -1   \n",
              "3            1       1             -1         -1            1         -1   \n",
              "4           -1       1             -1         -1            0         -1   \n",
              "\n",
              "   Google_Index  Links_pointing_to_page  Statistical_report  Result  \n",
              "0             1                       1                  -1      -1  \n",
              "1             1                       1                   1      -1  \n",
              "2             1                       0                  -1      -1  \n",
              "3             1                      -1                   1      -1  \n",
              "4             1                       1                   1       1  \n",
              "\n",
              "[5 rows x 32 columns]"
            ],
            "text/html": [
              "\n",
              "  <div id=\"df-b479bcde-266a-4b66-8904-e8920105e090\">\n",
              "    <div class=\"colab-df-container\">\n",
              "      <div>\n",
              "<style scoped>\n",
              "    .dataframe tbody tr th:only-of-type {\n",
              "        vertical-align: middle;\n",
              "    }\n",
              "\n",
              "    .dataframe tbody tr th {\n",
              "        vertical-align: top;\n",
              "    }\n",
              "\n",
              "    .dataframe thead th {\n",
              "        text-align: right;\n",
              "    }\n",
              "</style>\n",
              "<table border=\"1\" class=\"dataframe\">\n",
              "  <thead>\n",
              "    <tr style=\"text-align: right;\">\n",
              "      <th></th>\n",
              "      <th>index</th>\n",
              "      <th>having_IPhaving_IP_Address</th>\n",
              "      <th>URLURL_Length</th>\n",
              "      <th>Shortining_Service</th>\n",
              "      <th>having_At_Symbol</th>\n",
              "      <th>double_slash_redirecting</th>\n",
              "      <th>Prefix_Suffix</th>\n",
              "      <th>having_Sub_Domain</th>\n",
              "      <th>SSLfinal_State</th>\n",
              "      <th>Domain_registeration_length</th>\n",
              "      <th>...</th>\n",
              "      <th>popUpWidnow</th>\n",
              "      <th>Iframe</th>\n",
              "      <th>age_of_domain</th>\n",
              "      <th>DNSRecord</th>\n",
              "      <th>web_traffic</th>\n",
              "      <th>Page_Rank</th>\n",
              "      <th>Google_Index</th>\n",
              "      <th>Links_pointing_to_page</th>\n",
              "      <th>Statistical_report</th>\n",
              "      <th>Result</th>\n",
              "    </tr>\n",
              "  </thead>\n",
              "  <tbody>\n",
              "    <tr>\n",
              "      <th>0</th>\n",
              "      <td>1</td>\n",
              "      <td>-1</td>\n",
              "      <td>1</td>\n",
              "      <td>1</td>\n",
              "      <td>1</td>\n",
              "      <td>-1</td>\n",
              "      <td>-1</td>\n",
              "      <td>-1</td>\n",
              "      <td>-1</td>\n",
              "      <td>-1</td>\n",
              "      <td>...</td>\n",
              "      <td>1</td>\n",
              "      <td>1</td>\n",
              "      <td>-1</td>\n",
              "      <td>-1</td>\n",
              "      <td>-1</td>\n",
              "      <td>-1</td>\n",
              "      <td>1</td>\n",
              "      <td>1</td>\n",
              "      <td>-1</td>\n",
              "      <td>-1</td>\n",
              "    </tr>\n",
              "    <tr>\n",
              "      <th>1</th>\n",
              "      <td>2</td>\n",
              "      <td>1</td>\n",
              "      <td>1</td>\n",
              "      <td>1</td>\n",
              "      <td>1</td>\n",
              "      <td>1</td>\n",
              "      <td>-1</td>\n",
              "      <td>0</td>\n",
              "      <td>1</td>\n",
              "      <td>-1</td>\n",
              "      <td>...</td>\n",
              "      <td>1</td>\n",
              "      <td>1</td>\n",
              "      <td>-1</td>\n",
              "      <td>-1</td>\n",
              "      <td>0</td>\n",
              "      <td>-1</td>\n",
              "      <td>1</td>\n",
              "      <td>1</td>\n",
              "      <td>1</td>\n",
              "      <td>-1</td>\n",
              "    </tr>\n",
              "    <tr>\n",
              "      <th>2</th>\n",
              "      <td>3</td>\n",
              "      <td>1</td>\n",
              "      <td>0</td>\n",
              "      <td>1</td>\n",
              "      <td>1</td>\n",
              "      <td>1</td>\n",
              "      <td>-1</td>\n",
              "      <td>-1</td>\n",
              "      <td>-1</td>\n",
              "      <td>-1</td>\n",
              "      <td>...</td>\n",
              "      <td>1</td>\n",
              "      <td>1</td>\n",
              "      <td>1</td>\n",
              "      <td>-1</td>\n",
              "      <td>1</td>\n",
              "      <td>-1</td>\n",
              "      <td>1</td>\n",
              "      <td>0</td>\n",
              "      <td>-1</td>\n",
              "      <td>-1</td>\n",
              "    </tr>\n",
              "    <tr>\n",
              "      <th>3</th>\n",
              "      <td>4</td>\n",
              "      <td>1</td>\n",
              "      <td>0</td>\n",
              "      <td>1</td>\n",
              "      <td>1</td>\n",
              "      <td>1</td>\n",
              "      <td>-1</td>\n",
              "      <td>-1</td>\n",
              "      <td>-1</td>\n",
              "      <td>1</td>\n",
              "      <td>...</td>\n",
              "      <td>1</td>\n",
              "      <td>1</td>\n",
              "      <td>-1</td>\n",
              "      <td>-1</td>\n",
              "      <td>1</td>\n",
              "      <td>-1</td>\n",
              "      <td>1</td>\n",
              "      <td>-1</td>\n",
              "      <td>1</td>\n",
              "      <td>-1</td>\n",
              "    </tr>\n",
              "    <tr>\n",
              "      <th>4</th>\n",
              "      <td>5</td>\n",
              "      <td>1</td>\n",
              "      <td>0</td>\n",
              "      <td>-1</td>\n",
              "      <td>1</td>\n",
              "      <td>1</td>\n",
              "      <td>-1</td>\n",
              "      <td>1</td>\n",
              "      <td>1</td>\n",
              "      <td>-1</td>\n",
              "      <td>...</td>\n",
              "      <td>-1</td>\n",
              "      <td>1</td>\n",
              "      <td>-1</td>\n",
              "      <td>-1</td>\n",
              "      <td>0</td>\n",
              "      <td>-1</td>\n",
              "      <td>1</td>\n",
              "      <td>1</td>\n",
              "      <td>1</td>\n",
              "      <td>1</td>\n",
              "    </tr>\n",
              "  </tbody>\n",
              "</table>\n",
              "<p>5 rows × 32 columns</p>\n",
              "</div>\n",
              "      <button class=\"colab-df-convert\" onclick=\"convertToInteractive('df-b479bcde-266a-4b66-8904-e8920105e090')\"\n",
              "              title=\"Convert this dataframe to an interactive table.\"\n",
              "              style=\"display:none;\">\n",
              "        \n",
              "  <svg xmlns=\"http://www.w3.org/2000/svg\" height=\"24px\"viewBox=\"0 0 24 24\"\n",
              "       width=\"24px\">\n",
              "    <path d=\"M0 0h24v24H0V0z\" fill=\"none\"/>\n",
              "    <path d=\"M18.56 5.44l.94 2.06.94-2.06 2.06-.94-2.06-.94-.94-2.06-.94 2.06-2.06.94zm-11 1L8.5 8.5l.94-2.06 2.06-.94-2.06-.94L8.5 2.5l-.94 2.06-2.06.94zm10 10l.94 2.06.94-2.06 2.06-.94-2.06-.94-.94-2.06-.94 2.06-2.06.94z\"/><path d=\"M17.41 7.96l-1.37-1.37c-.4-.4-.92-.59-1.43-.59-.52 0-1.04.2-1.43.59L10.3 9.45l-7.72 7.72c-.78.78-.78 2.05 0 2.83L4 21.41c.39.39.9.59 1.41.59.51 0 1.02-.2 1.41-.59l7.78-7.78 2.81-2.81c.8-.78.8-2.07 0-2.86zM5.41 20L4 18.59l7.72-7.72 1.47 1.35L5.41 20z\"/>\n",
              "  </svg>\n",
              "      </button>\n",
              "      \n",
              "  <style>\n",
              "    .colab-df-container {\n",
              "      display:flex;\n",
              "      flex-wrap:wrap;\n",
              "      gap: 12px;\n",
              "    }\n",
              "\n",
              "    .colab-df-convert {\n",
              "      background-color: #E8F0FE;\n",
              "      border: none;\n",
              "      border-radius: 50%;\n",
              "      cursor: pointer;\n",
              "      display: none;\n",
              "      fill: #1967D2;\n",
              "      height: 32px;\n",
              "      padding: 0 0 0 0;\n",
              "      width: 32px;\n",
              "    }\n",
              "\n",
              "    .colab-df-convert:hover {\n",
              "      background-color: #E2EBFA;\n",
              "      box-shadow: 0px 1px 2px rgba(60, 64, 67, 0.3), 0px 1px 3px 1px rgba(60, 64, 67, 0.15);\n",
              "      fill: #174EA6;\n",
              "    }\n",
              "\n",
              "    [theme=dark] .colab-df-convert {\n",
              "      background-color: #3B4455;\n",
              "      fill: #D2E3FC;\n",
              "    }\n",
              "\n",
              "    [theme=dark] .colab-df-convert:hover {\n",
              "      background-color: #434B5C;\n",
              "      box-shadow: 0px 1px 3px 1px rgba(0, 0, 0, 0.15);\n",
              "      filter: drop-shadow(0px 1px 2px rgba(0, 0, 0, 0.3));\n",
              "      fill: #FFFFFF;\n",
              "    }\n",
              "  </style>\n",
              "\n",
              "      <script>\n",
              "        const buttonEl =\n",
              "          document.querySelector('#df-b479bcde-266a-4b66-8904-e8920105e090 button.colab-df-convert');\n",
              "        buttonEl.style.display =\n",
              "          google.colab.kernel.accessAllowed ? 'block' : 'none';\n",
              "\n",
              "        async function convertToInteractive(key) {\n",
              "          const element = document.querySelector('#df-b479bcde-266a-4b66-8904-e8920105e090');\n",
              "          const dataTable =\n",
              "            await google.colab.kernel.invokeFunction('convertToInteractive',\n",
              "                                                     [key], {});\n",
              "          if (!dataTable) return;\n",
              "\n",
              "          const docLinkHtml = 'Like what you see? Visit the ' +\n",
              "            '<a target=\"_blank\" href=https://colab.research.google.com/notebooks/data_table.ipynb>data table notebook</a>'\n",
              "            + ' to learn more about interactive tables.';\n",
              "          element.innerHTML = '';\n",
              "          dataTable['output_type'] = 'display_data';\n",
              "          await google.colab.output.renderOutput(dataTable, element);\n",
              "          const docLink = document.createElement('div');\n",
              "          docLink.innerHTML = docLinkHtml;\n",
              "          element.appendChild(docLink);\n",
              "        }\n",
              "      </script>\n",
              "    </div>\n",
              "  </div>\n",
              "  "
            ]
          },
          "metadata": {},
          "execution_count": 3
        }
      ]
    },
    {
      "cell_type": "markdown",
      "source": [
        "# Data Exploration"
      ],
      "metadata": {
        "id": "l6Nsy7KZmV5r"
      }
    },
    {
      "cell_type": "markdown",
      "source": [
        "## Number of samples"
      ],
      "metadata": {
        "id": "cWmaMFPVAPjF"
      }
    },
    {
      "cell_type": "code",
      "source": [
        "#Determine the number of samples present in the data\n",
        "df.shape"
      ],
      "metadata": {
        "colab": {
          "base_uri": "https://localhost:8080/"
        },
        "id": "yMy_7gIbc5JU",
        "outputId": "4aa57783-e8cd-4a79-ff28-08a69cbd7238"
      },
      "execution_count": 4,
      "outputs": [
        {
          "output_type": "execute_result",
          "data": {
            "text/plain": [
              "(11055, 32)"
            ]
          },
          "metadata": {},
          "execution_count": 4
        }
      ]
    },
    {
      "cell_type": "markdown",
      "source": [
        "The dataframe has 11055 rows and 32 columns. \"Result\" column is the y variable(Dependent variable). Since it has labelled data, we are dealing with a supervised learning problem."
      ],
      "metadata": {
        "id": "foMi301oesMZ"
      }
    },
    {
      "cell_type": "code",
      "source": [
        "# List all the columns in the dataframe\n",
        "df.columns"
      ],
      "metadata": {
        "colab": {
          "base_uri": "https://localhost:8080/"
        },
        "id": "C95zxkmJdD37",
        "outputId": "7656e024-efff-4bfd-c1d3-e8603ef43c6e"
      },
      "execution_count": 5,
      "outputs": [
        {
          "output_type": "execute_result",
          "data": {
            "text/plain": [
              "Index(['index', 'having_IPhaving_IP_Address', 'URLURL_Length',\n",
              "       'Shortining_Service', 'having_At_Symbol', 'double_slash_redirecting',\n",
              "       'Prefix_Suffix', 'having_Sub_Domain', 'SSLfinal_State',\n",
              "       'Domain_registeration_length', 'Favicon', 'port', 'HTTPS_token',\n",
              "       'Request_URL', 'URL_of_Anchor', 'Links_in_tags', 'SFH',\n",
              "       'Submitting_to_email', 'Abnormal_URL', 'Redirect', 'on_mouseover',\n",
              "       'RightClick', 'popUpWidnow', 'Iframe', 'age_of_domain', 'DNSRecord',\n",
              "       'web_traffic', 'Page_Rank', 'Google_Index', 'Links_pointing_to_page',\n",
              "       'Statistical_report', 'Result'],\n",
              "      dtype='object')"
            ]
          },
          "metadata": {},
          "execution_count": 5
        }
      ]
    },
    {
      "cell_type": "markdown",
      "source": [
        "## Check for null values"
      ],
      "metadata": {
        "id": "VXkH3Hy0AVXy"
      }
    },
    {
      "cell_type": "code",
      "source": [
        "#Check if there is any null value in any features. \n",
        "df.info()"
      ],
      "metadata": {
        "colab": {
          "base_uri": "https://localhost:8080/"
        },
        "id": "gWZbsi-sdEco",
        "outputId": "8ac5f3e1-908a-4fe5-b0e7-46b789018f11"
      },
      "execution_count": 6,
      "outputs": [
        {
          "output_type": "stream",
          "name": "stdout",
          "text": [
            "<class 'pandas.core.frame.DataFrame'>\n",
            "RangeIndex: 11055 entries, 0 to 11054\n",
            "Data columns (total 32 columns):\n",
            " #   Column                       Non-Null Count  Dtype\n",
            "---  ------                       --------------  -----\n",
            " 0   index                        11055 non-null  int64\n",
            " 1   having_IPhaving_IP_Address   11055 non-null  int64\n",
            " 2   URLURL_Length                11055 non-null  int64\n",
            " 3   Shortining_Service           11055 non-null  int64\n",
            " 4   having_At_Symbol             11055 non-null  int64\n",
            " 5   double_slash_redirecting     11055 non-null  int64\n",
            " 6   Prefix_Suffix                11055 non-null  int64\n",
            " 7   having_Sub_Domain            11055 non-null  int64\n",
            " 8   SSLfinal_State               11055 non-null  int64\n",
            " 9   Domain_registeration_length  11055 non-null  int64\n",
            " 10  Favicon                      11055 non-null  int64\n",
            " 11  port                         11055 non-null  int64\n",
            " 12  HTTPS_token                  11055 non-null  int64\n",
            " 13  Request_URL                  11055 non-null  int64\n",
            " 14  URL_of_Anchor                11055 non-null  int64\n",
            " 15  Links_in_tags                11055 non-null  int64\n",
            " 16  SFH                          11055 non-null  int64\n",
            " 17  Submitting_to_email          11055 non-null  int64\n",
            " 18  Abnormal_URL                 11055 non-null  int64\n",
            " 19  Redirect                     11055 non-null  int64\n",
            " 20  on_mouseover                 11055 non-null  int64\n",
            " 21  RightClick                   11055 non-null  int64\n",
            " 22  popUpWidnow                  11055 non-null  int64\n",
            " 23  Iframe                       11055 non-null  int64\n",
            " 24  age_of_domain                11055 non-null  int64\n",
            " 25  DNSRecord                    11055 non-null  int64\n",
            " 26  web_traffic                  11055 non-null  int64\n",
            " 27  Page_Rank                    11055 non-null  int64\n",
            " 28  Google_Index                 11055 non-null  int64\n",
            " 29  Links_pointing_to_page       11055 non-null  int64\n",
            " 30  Statistical_report           11055 non-null  int64\n",
            " 31  Result                       11055 non-null  int64\n",
            "dtypes: int64(32)\n",
            "memory usage: 2.7 MB\n"
          ]
        }
      ]
    },
    {
      "cell_type": "markdown",
      "source": [
        "There are no null values in any of the columns. All the columns are of type integer."
      ],
      "metadata": {
        "id": "Jhjv96KYe7w1"
      }
    },
    {
      "cell_type": "markdown",
      "source": [
        "## Get the unique values"
      ],
      "metadata": {
        "id": "wIqo9KMLAb_V"
      }
    },
    {
      "cell_type": "code",
      "source": [
        "# determine the unique elements in all the features. \n",
        "pd.Series({col: df[col].unique() for col in df})"
      ],
      "metadata": {
        "colab": {
          "base_uri": "https://localhost:8080/"
        },
        "id": "-cF9DGe4dLXU",
        "outputId": "a671fbe4-cab0-4f17-a10f-59a1752d1787"
      },
      "execution_count": 7,
      "outputs": [
        {
          "output_type": "execute_result",
          "data": {
            "text/plain": [
              "index                          [1, 2, 3, 4, 5, 6, 7, 8, 9, 10, 11, 12, 13, 14...\n",
              "having_IPhaving_IP_Address                                               [-1, 1]\n",
              "URLURL_Length                                                         [1, 0, -1]\n",
              "Shortining_Service                                                       [1, -1]\n",
              "having_At_Symbol                                                         [1, -1]\n",
              "double_slash_redirecting                                                 [-1, 1]\n",
              "Prefix_Suffix                                                            [-1, 1]\n",
              "having_Sub_Domain                                                     [-1, 0, 1]\n",
              "SSLfinal_State                                                        [-1, 1, 0]\n",
              "Domain_registeration_length                                              [-1, 1]\n",
              "Favicon                                                                  [1, -1]\n",
              "port                                                                     [1, -1]\n",
              "HTTPS_token                                                              [-1, 1]\n",
              "Request_URL                                                              [1, -1]\n",
              "URL_of_Anchor                                                         [-1, 0, 1]\n",
              "Links_in_tags                                                         [1, -1, 0]\n",
              "SFH                                                                   [-1, 1, 0]\n",
              "Submitting_to_email                                                      [-1, 1]\n",
              "Abnormal_URL                                                             [-1, 1]\n",
              "Redirect                                                                  [0, 1]\n",
              "on_mouseover                                                             [1, -1]\n",
              "RightClick                                                               [1, -1]\n",
              "popUpWidnow                                                              [1, -1]\n",
              "Iframe                                                                   [1, -1]\n",
              "age_of_domain                                                            [-1, 1]\n",
              "DNSRecord                                                                [-1, 1]\n",
              "web_traffic                                                           [-1, 0, 1]\n",
              "Page_Rank                                                                [-1, 1]\n",
              "Google_Index                                                             [1, -1]\n",
              "Links_pointing_to_page                                                [1, 0, -1]\n",
              "Statistical_report                                                       [-1, 1]\n",
              "Result                                                                   [-1, 1]\n",
              "dtype: object"
            ]
          },
          "metadata": {},
          "execution_count": 7
        }
      ]
    },
    {
      "cell_type": "markdown",
      "source": [
        "All the columns have only 2 or all of the values : -1, 0 and 1.  \n",
        "\n",
        "-1: Phishing\n",
        " 0: Suspicious\n",
        " 1: Legitimate\n",
        "\n",
        "The \"Result\" column has 2 possible outcomes -1 and 1 where -1 is Phishing and 1 is Legitimate. \n",
        "\n",
        "The \"Result\" is the dependent variable which we must predict. This is the \"y\" variable. Since the \"Result\" has 2 classes, this is a Binary classification problem."
      ],
      "metadata": {
        "id": "kTvw7gsHfL2j"
      }
    },
    {
      "cell_type": "markdown",
      "source": [
        "## Heat map"
      ],
      "metadata": {
        "id": "O27oeMigAlIY"
      }
    },
    {
      "cell_type": "code",
      "source": [
        "# Find the correlation between the features and plot the heat map.\n",
        "plt.figure(figsize=(20,15))\n",
        "sns.heatmap(df.corr())\n"
      ],
      "metadata": {
        "colab": {
          "base_uri": "https://localhost:8080/",
          "height": 957
        },
        "id": "3dTirACIgfk1",
        "outputId": "0e9c1378-d55e-4476-9011-8f0a09895e5d"
      },
      "execution_count": 8,
      "outputs": [
        {
          "output_type": "execute_result",
          "data": {
            "text/plain": [
              "<matplotlib.axes._subplots.AxesSubplot at 0x7f3e95955a90>"
            ]
          },
          "metadata": {},
          "execution_count": 8
        },
        {
          "output_type": "display_data",
          "data": {
            "text/plain": [
              "<Figure size 1440x1080 with 2 Axes>"
            ],
            "image/png": "[encoded data removed]"
          },
          "metadata": {
            "needs_background": "light"
          }
        }
      ]
    },
    {
      "cell_type": "markdown",
      "source": [
        "From the heatmap, its evident that \"popUpWindow\" and \"Favicon\" are having strong correlations, since the color is almost white(closer to 1.0). This suggests data redundancy. One of these columns must be removed."
      ],
      "metadata": {
        "id": "JBPlRo6GXYux"
      }
    },
    {
      "cell_type": "code",
      "source": [
        "# Drop the Index and Result columns from original dataframe\n",
        "# Index is irrelevant, so we can drop it.\n",
        "# We can drop the Result also for now, since we are going to check if the independent variables are highly correlated among themselves.\n",
        "new_df = df.drop([\"index\",\"Result\"],axis=1)"
      ],
      "metadata": {
        "id": "24PLSl52pgKw"
      },
      "execution_count": 9,
      "outputs": []
    },
    {
      "cell_type": "code",
      "source": [
        "# find if there are any correlated features present in the data.\n",
        "cor_matrix =  new_df.corr().abs()\n",
        "cor_matrix"
      ],
      "metadata": {
        "colab": {
          "base_uri": "https://localhost:8080/",
          "height": 1000
        },
        "id": "KSOaQqT1d7UD",
        "outputId": "3f72f66d-3e6d-485d-c931-2040b50b7324"
      },
      "execution_count": 10,
      "outputs": [
        {
          "output_type": "execute_result",
          "data": {
            "text/plain": [
              "                             having_IPhaving_IP_Address  URLURL_Length  \\\n",
              "having_IPhaving_IP_Address                     1.000000       0.052411   \n",
              "URLURL_Length                                  0.052411       1.000000   \n",
              "Shortining_Service                             0.403461       0.097881   \n",
              "having_At_Symbol                               0.158699       0.075108   \n",
              "double_slash_redirecting                       0.397389       0.081247   \n",
              "Prefix_Suffix                                  0.005257       0.055247   \n",
              "having_Sub_Domain                              0.080745       0.003997   \n",
              "SSLfinal_State                                 0.071414       0.048754   \n",
              "Domain_registeration_length                    0.022739       0.221892   \n",
              "Favicon                                        0.087025       0.042497   \n",
              "port                                           0.060979       0.000323   \n",
              "HTTPS_token                                    0.363534       0.089383   \n",
              "Request_URL                                    0.029773       0.246348   \n",
              "URL_of_Anchor                                  0.099847       0.023396   \n",
              "Links_in_tags                                  0.006212       0.052869   \n",
              "SFH                                            0.010962       0.414196   \n",
              "Submitting_to_email                            0.077989       0.014457   \n",
              "Abnormal_URL                                   0.336549       0.106761   \n",
              "Redirect                                       0.321181       0.046832   \n",
              "on_mouseover                                   0.084059       0.045103   \n",
              "RightClick                                     0.042881       0.013613   \n",
              "popUpWidnow                                    0.096882       0.049381   \n",
              "Iframe                                         0.054694       0.013838   \n",
              "age_of_domain                                  0.010446       0.179426   \n",
              "DNSRecord                                      0.050733       0.040823   \n",
              "web_traffic                                    0.002922       0.008993   \n",
              "Page_Rank                                      0.091774       0.183518   \n",
              "Google_Index                                   0.029153       0.002902   \n",
              "Links_pointing_to_page                         0.339065       0.022987   \n",
              "Statistical_report                             0.019103       0.067153   \n",
              "\n",
              "                             Shortining_Service  having_At_Symbol  \\\n",
              "having_IPhaving_IP_Address             0.403461          0.158699   \n",
              "URLURL_Length                          0.097881          0.075108   \n",
              "Shortining_Service                     1.000000          0.104447   \n",
              "having_At_Symbol                       0.104447          1.000000   \n",
              "double_slash_redirecting               0.842796          0.086960   \n",
              "Prefix_Suffix                          0.080471          0.011726   \n",
              "having_Sub_Domain                      0.041916          0.058976   \n",
              "SSLfinal_State                         0.061426          0.031220   \n",
              "Domain_registeration_length            0.060923          0.015522   \n",
              "Favicon                                0.006101          0.304899   \n",
              "port                                   0.002201          0.364891   \n",
              "HTTPS_token                            0.757838          0.104561   \n",
              "Request_URL                            0.037235          0.027909   \n",
              "URL_of_Anchor                          0.000561          0.057914   \n",
              "Links_in_tags                          0.133379          0.070861   \n",
              "SFH                                    0.022723          0.008672   \n",
              "Submitting_to_email                    0.049328          0.370123   \n",
              "Abnormal_URL                           0.739290          0.203945   \n",
              "Redirect                               0.534530          0.028160   \n",
              "on_mouseover                           0.062383          0.279697   \n",
              "RightClick                             0.038118          0.219503   \n",
              "popUpWidnow                            0.036616          0.290893   \n",
              "Iframe                                 0.016581          0.284410   \n",
              "age_of_domain                          0.052596          0.005499   \n",
              "DNSRecord                              0.436064          0.047872   \n",
              "web_traffic                            0.047074          0.032918   \n",
              "Page_Rank                              0.014591          0.064735   \n",
              "Google_Index                           0.155844          0.037061   \n",
              "Links_pointing_to_page                 0.198410          0.006080   \n",
              "Statistical_report                     0.085461          0.080357   \n",
              "\n",
              "                             double_slash_redirecting  Prefix_Suffix  \\\n",
              "having_IPhaving_IP_Address                   0.397389       0.005257   \n",
              "URLURL_Length                                0.081247       0.055247   \n",
              "Shortining_Service                           0.842796       0.080471   \n",
              "having_At_Symbol                             0.086960       0.011726   \n",
              "double_slash_redirecting                     1.000000       0.085590   \n",
              "Prefix_Suffix                                0.085590       1.000000   \n",
              "having_Sub_Domain                            0.043079       0.087891   \n",
              "SSLfinal_State                               0.036200       0.261391   \n",
              "Domain_registeration_length                  0.047464       0.096799   \n",
              "Favicon                                      0.035100       0.007504   \n",
              "port                                         0.025060       0.022546   \n",
              "HTTPS_token                                  0.760799       0.070153   \n",
              "Request_URL                                  0.026368       0.098675   \n",
              "URL_of_Anchor                                0.005036       0.348871   \n",
              "Links_in_tags                                0.125583       0.100254   \n",
              "SFH                                          0.041672       0.001326   \n",
              "Submitting_to_email                          0.031898       0.045000   \n",
              "Abnormal_URL                                 0.723724       0.077620   \n",
              "Redirect                                     0.591478       0.016271   \n",
              "on_mouseover                                 0.086635       0.012578   \n",
              "RightClick                                   0.025863       0.024868   \n",
              "popUpWidnow                                  0.054463       0.014733   \n",
              "Iframe                                       0.010459       0.036904   \n",
              "age_of_domain                                0.050107       0.074116   \n",
              "DNSRecord                                    0.431409       0.016556   \n",
              "web_traffic                                  0.062369       0.110598   \n",
              "Page_Rank                                    0.003132       0.006834   \n",
              "Google_Index                                 0.178415       0.067781   \n",
              "Links_pointing_to_page                       0.194165       0.067423   \n",
              "Statistical_report                           0.070390       0.002763   \n",
              "\n",
              "                             having_Sub_Domain  SSLfinal_State  \\\n",
              "having_IPhaving_IP_Address            0.080745        0.071414   \n",
              "URLURL_Length                         0.003997        0.048754   \n",
              "Shortining_Service                    0.041916        0.061426   \n",
              "having_At_Symbol                      0.058976        0.031220   \n",
              "double_slash_redirecting              0.043079        0.036200   \n",
              "Prefix_Suffix                         0.087891        0.261391   \n",
              "having_Sub_Domain                     1.000000        0.267649   \n",
              "SSLfinal_State                        0.267649        1.000000   \n",
              "Domain_registeration_length           0.082839        0.193622   \n",
              "Favicon                               0.016704        0.014757   \n",
              "port                                  0.004863        0.027473   \n",
              "HTTPS_token                           0.037239        0.029941   \n",
              "Request_URL                           0.104857        0.193054   \n",
              "URL_of_Anchor                         0.229491        0.535786   \n",
              "Links_in_tags                         0.093646        0.176825   \n",
              "SFH                                   0.096089        0.171402   \n",
              "Submitting_to_email                   0.008830        0.008062   \n",
              "Abnormal_URL                          0.034908        0.046245   \n",
              "Redirect                              0.031206        0.021070   \n",
              "on_mouseover                          0.018082        0.023586   \n",
              "RightClick                            0.018230        0.015854   \n",
              "popUpWidnow                           0.025312        0.013005   \n",
              "Iframe                                0.010637        0.002773   \n",
              "age_of_domain                         0.119254        0.162809   \n",
              "DNSRecord                             0.125493        0.050972   \n",
              "web_traffic                           0.005764        0.258768   \n",
              "Page_Rank                             0.120730        0.074545   \n",
              "Google_Index                          0.057673        0.096051   \n",
              "Links_pointing_to_page                0.010526        0.011710   \n",
              "Statistical_report                    0.081627        0.063411   \n",
              "\n",
              "                             Domain_registeration_length   Favicon  ...  \\\n",
              "having_IPhaving_IP_Address                      0.022739  0.087025  ...   \n",
              "URLURL_Length                                   0.221892  0.042497  ...   \n",
              "Shortining_Service                              0.060923  0.006101  ...   \n",
              "having_At_Symbol                                0.015522  0.304899  ...   \n",
              "double_slash_redirecting                        0.047464  0.035100  ...   \n",
              "Prefix_Suffix                                   0.096799  0.007504  ...   \n",
              "having_Sub_Domain                               0.082839  0.016704  ...   \n",
              "SSLfinal_State                                  0.193622  0.014757  ...   \n",
              "Domain_registeration_length                     1.000000  0.054253  ...   \n",
              "Favicon                                         0.054253  1.000000  ...   \n",
              "port                                            0.022478  0.803834  ...   \n",
              "HTTPS_token                                     0.059161  0.049483  ...   \n",
              "Request_URL                                     0.609970  0.004620  ...   \n",
              "URL_of_Anchor                                   0.160257  0.037698  ...   \n",
              "Links_in_tags                                   0.101084  0.100341  ...   \n",
              "SFH                                             0.136422  0.012279  ...   \n",
              "Submitting_to_email                             0.039260  0.668317  ...   \n",
              "Abnormal_URL                                    0.058109  0.071848  ...   \n",
              "Redirect                                        0.016300  0.015621  ...   \n",
              "on_mouseover                                    0.023784  0.706179  ...   \n",
              "RightClick                                      0.023520  0.414382  ...   \n",
              "popUpWidnow                                     0.051410  0.939633  ...   \n",
              "Iframe                                          0.004393  0.627607  ...   \n",
              "age_of_domain                                   0.062851  0.002628  ...   \n",
              "DNSRecord                                       0.010477  0.088211  ...   \n",
              "web_traffic                                     0.134454  0.050922  ...   \n",
              "Page_Rank                                       0.059898  0.011699  ...   \n",
              "Google_Index                                    0.039766  0.016668  ...   \n",
              "Links_pointing_to_page                          0.122672  0.127243  ...   \n",
              "Statistical_report                              0.002212  0.300917  ...   \n",
              "\n",
              "                             RightClick  popUpWidnow    Iframe  age_of_domain  \\\n",
              "having_IPhaving_IP_Address     0.042881     0.096882  0.054694       0.010446   \n",
              "URLURL_Length                  0.013613     0.049381  0.013838       0.179426   \n",
              "Shortining_Service             0.038118     0.036616  0.016581       0.052596   \n",
              "having_At_Symbol               0.219503     0.290893  0.284410       0.005499   \n",
              "double_slash_redirecting       0.025863     0.054463  0.010459       0.050107   \n",
              "Prefix_Suffix                  0.024868     0.014733  0.036904       0.074116   \n",
              "having_Sub_Domain              0.018230     0.025312  0.010637       0.119254   \n",
              "SSLfinal_State                 0.015854     0.013005  0.002773       0.162809   \n",
              "Domain_registeration_length    0.023520     0.051410  0.004393       0.062851   \n",
              "Favicon                        0.414382     0.939633  0.627607       0.002628   \n",
              "port                           0.481631     0.748517  0.687044       0.008459   \n",
              "HTTPS_token                    0.009265     0.066957  0.017509       0.049632   \n",
              "Request_URL                    0.020452     0.004622  0.016934       0.090455   \n",
              "URL_of_Anchor                  0.022168     0.041150  0.013403       0.075508   \n",
              "Links_in_tags                  0.037469     0.112282  0.070030       0.078057   \n",
              "SFH                            0.008467     0.004863  0.007067       0.015840   \n",
              "Submitting_to_email            0.398629     0.629462  0.577490       0.007357   \n",
              "Abnormal_URL                   0.023710     0.091188  0.017590       0.032533   \n",
              "Redirect                       0.023586     0.026327  0.012668       0.022476   \n",
              "on_mouseover                   0.474054     0.733629  0.659478       0.013306   \n",
              "RightClick                     1.000000     0.415268  0.655863       0.006764   \n",
              "popUpWidnow                    0.415268     1.000000  0.629406       0.000948   \n",
              "Iframe                         0.655863     0.629406  1.000000       0.018848   \n",
              "age_of_domain                  0.006764     0.000948  0.018848       1.000000   \n",
              "DNSRecord                      0.038255     0.098658  0.047293       0.034082   \n",
              "web_traffic                    0.013594     0.043190  0.022080       0.089949   \n",
              "Page_Rank                      0.025341     0.017114  0.022407       0.147194   \n",
              "Google_Index                   0.008066     0.010256  0.003519       0.028471   \n",
              "Links_pointing_to_page         0.119831     0.121325  0.140824       0.040407   \n",
              "Statistical_report             0.204409     0.285261  0.268418       0.009115   \n",
              "\n",
              "                             DNSRecord  web_traffic  Page_Rank  Google_Index  \\\n",
              "having_IPhaving_IP_Address    0.050733     0.002922   0.091774      0.029153   \n",
              "URLURL_Length                 0.040823     0.008993   0.183518      0.002902   \n",
              "Shortining_Service            0.436064     0.047074   0.014591      0.155844   \n",
              "having_At_Symbol              0.047872     0.032918   0.064735      0.037061   \n",
              "double_slash_redirecting      0.431409     0.062369   0.003132      0.178415   \n",
              "Prefix_Suffix                 0.016556     0.110598   0.006834      0.067781   \n",
              "having_Sub_Domain             0.125493     0.005764   0.120730      0.057673   \n",
              "SSLfinal_State                0.050972     0.258768   0.074545      0.096051   \n",
              "Domain_registeration_length   0.010477     0.134454   0.059898      0.039766   \n",
              "Favicon                       0.088211     0.050922   0.011699      0.016668   \n",
              "port                          0.054849     0.028543   0.017954      0.005413   \n",
              "HTTPS_token                   0.395387     0.039708   0.021104      0.115450   \n",
              "Request_URL                   0.015933     0.161166   0.055734      0.046409   \n",
              "URL_of_Anchor                 0.093288     0.326293   0.099261      0.038816   \n",
              "Links_in_tags                 0.038545     0.064548   0.006450      0.045557   \n",
              "SFH                           0.034440     0.052706   0.001979      0.027588   \n",
              "Submitting_to_email           0.064145     0.015685   0.026208      0.008378   \n",
              "Abnormal_URL                  0.366833     0.052416   0.007318      0.124751   \n",
              "Redirect                      0.211096     0.004631   0.052867      0.057230   \n",
              "on_mouseover                  0.087161     0.036531   0.015634      0.006510   \n",
              "RightClick                    0.038255     0.013594   0.025341      0.008066   \n",
              "popUpWidnow                   0.098658     0.043190   0.017114      0.010256   \n",
              "Iframe                        0.047293     0.022080   0.022407      0.003519   \n",
              "age_of_domain                 0.034082     0.089949   0.147194      0.028471   \n",
              "DNSRecord                     1.000000     0.048650   0.137860      0.137509   \n",
              "web_traffic                   0.048650     1.000000   0.030984      0.012584   \n",
              "Page_Rank                     0.137860     0.030984   1.000000      0.032431   \n",
              "Google_Index                  0.137509     0.012584   0.032431      1.000000   \n",
              "Links_pointing_to_page        0.318266     0.019860   0.028216      0.038777   \n",
              "Statistical_report            0.136860     0.009223   0.031049      0.005103   \n",
              "\n",
              "                             Links_pointing_to_page  Statistical_report  \n",
              "having_IPhaving_IP_Address                 0.339065            0.019103  \n",
              "URLURL_Length                              0.022987            0.067153  \n",
              "Shortining_Service                         0.198410            0.085461  \n",
              "having_At_Symbol                           0.006080            0.080357  \n",
              "double_slash_redirecting                   0.194165            0.070390  \n",
              "Prefix_Suffix                              0.067423            0.002763  \n",
              "having_Sub_Domain                          0.010526            0.081627  \n",
              "SSLfinal_State                             0.011710            0.063411  \n",
              "Domain_registeration_length                0.122672            0.002212  \n",
              "Favicon                                    0.127243            0.300917  \n",
              "port                                       0.139104            0.343987  \n",
              "HTTPS_token                                0.128724            0.096187  \n",
              "Request_URL                                0.067109            0.035412  \n",
              "URL_of_Anchor                              0.018651            0.077377  \n",
              "Links_in_tags                              0.013561            0.087343  \n",
              "SFH                                        0.009068            0.005289  \n",
              "Submitting_to_email                        0.039956            0.352074  \n",
              "Abnormal_URL                               0.161027            0.186399  \n",
              "Redirect                                   0.161278            0.059194  \n",
              "on_mouseover                               0.038551            0.277347  \n",
              "RightClick                                 0.119831            0.204409  \n",
              "popUpWidnow                                0.121325            0.285261  \n",
              "Iframe                                     0.140824            0.268418  \n",
              "age_of_domain                              0.040407            0.009115  \n",
              "DNSRecord                                  0.318266            0.136860  \n",
              "web_traffic                                0.019860            0.009223  \n",
              "Page_Rank                                  0.028216            0.031049  \n",
              "Google_Index                               0.038777            0.005103  \n",
              "Links_pointing_to_page                     1.000000            0.016817  \n",
              "Statistical_report                         0.016817            1.000000  \n",
              "\n",
              "[30 rows x 30 columns]"
            ],
            "text/html": [
              "\n",
              "  <div id=\"df-a56b35c4-5aa7-4e01-9907-2770938717cc\">\n",
              "    <div class=\"colab-df-container\">\n",
              "      <div>\n",
              "<style scoped>\n",
              "    .dataframe tbody tr th:only-of-type {\n",
              "        vertical-align: middle;\n",
              "    }\n",
              "\n",
              "    .dataframe tbody tr th {\n",
              "        vertical-align: top;\n",
              "    }\n",
              "\n",
              "    .dataframe thead th {\n",
              "        text-align: right;\n",
              "    }\n",
              "</style>\n",
              "<table border=\"1\" class=\"dataframe\">\n",
              "  <thead>\n",
              "    <tr style=\"text-align: right;\">\n",
              "      <th></th>\n",
              "      <th>having_IPhaving_IP_Address</th>\n",
              "      <th>URLURL_Length</th>\n",
              "      <th>Shortining_Service</th>\n",
              "      <th>having_At_Symbol</th>\n",
              "      <th>double_slash_redirecting</th>\n",
              "      <th>Prefix_Suffix</th>\n",
              "      <th>having_Sub_Domain</th>\n",
              "      <th>SSLfinal_State</th>\n",
              "      <th>Domain_registeration_length</th>\n",
              "      <th>Favicon</th>\n",
              "      <th>...</th>\n",
              "      <th>RightClick</th>\n",
              "      <th>popUpWidnow</th>\n",
              "      <th>Iframe</th>\n",
              "      <th>age_of_domain</th>\n",
              "      <th>DNSRecord</th>\n",
              "      <th>web_traffic</th>\n",
              "      <th>Page_Rank</th>\n",
              "      <th>Google_Index</th>\n",
              "      <th>Links_pointing_to_page</th>\n",
              "      <th>Statistical_report</th>\n",
              "    </tr>\n",
              "  </thead>\n",
              "  <tbody>\n",
              "    <tr>\n",
              "      <th>having_IPhaving_IP_Address</th>\n",
              "      <td>1.000000</td>\n",
              "      <td>0.052411</td>\n",
              "      <td>0.403461</td>\n",
              "      <td>0.158699</td>\n",
              "      <td>0.397389</td>\n",
              "      <td>0.005257</td>\n",
              "      <td>0.080745</td>\n",
              "      <td>0.071414</td>\n",
              "      <td>0.022739</td>\n",
              "      <td>0.087025</td>\n",
              "      <td>...</td>\n",
              "      <td>0.042881</td>\n",
              "      <td>0.096882</td>\n",
              "      <td>0.054694</td>\n",
              "      <td>0.010446</td>\n",
              "      <td>0.050733</td>\n",
              "      <td>0.002922</td>\n",
              "      <td>0.091774</td>\n",
              "      <td>0.029153</td>\n",
              "      <td>0.339065</td>\n",
              "      <td>0.019103</td>\n",
              "    </tr>\n",
              "    <tr>\n",
              "      <th>URLURL_Length</th>\n",
              "      <td>0.052411</td>\n",
              "      <td>1.000000</td>\n",
              "      <td>0.097881</td>\n",
              "      <td>0.075108</td>\n",
              "      <td>0.081247</td>\n",
              "      <td>0.055247</td>\n",
              "      <td>0.003997</td>\n",
              "      <td>0.048754</td>\n",
              "      <td>0.221892</td>\n",
              "      <td>0.042497</td>\n",
              "      <td>...</td>\n",
              "      <td>0.013613</td>\n",
              "      <td>0.049381</td>\n",
              "      <td>0.013838</td>\n",
              "      <td>0.179426</td>\n",
              "      <td>0.040823</td>\n",
              "      <td>0.008993</td>\n",
              "      <td>0.183518</td>\n",
              "      <td>0.002902</td>\n",
              "      <td>0.022987</td>\n",
              "      <td>0.067153</td>\n",
              "    </tr>\n",
              "    <tr>\n",
              "      <th>Shortining_Service</th>\n",
              "      <td>0.403461</td>\n",
              "      <td>0.097881</td>\n",
              "      <td>1.000000</td>\n",
              "      <td>0.104447</td>\n",
              "      <td>0.842796</td>\n",
              "      <td>0.080471</td>\n",
              "      <td>0.041916</td>\n",
              "      <td>0.061426</td>\n",
              "      <td>0.060923</td>\n",
              "      <td>0.006101</td>\n",
              "      <td>...</td>\n",
              "      <td>0.038118</td>\n",
              "      <td>0.036616</td>\n",
              "      <td>0.016581</td>\n",
              "      <td>0.052596</td>\n",
              "      <td>0.436064</td>\n",
              "      <td>0.047074</td>\n",
              "      <td>0.014591</td>\n",
              "      <td>0.155844</td>\n",
              "      <td>0.198410</td>\n",
              "      <td>0.085461</td>\n",
              "    </tr>\n",
              "    <tr>\n",
              "      <th>having_At_Symbol</th>\n",
              "      <td>0.158699</td>\n",
              "      <td>0.075108</td>\n",
              "      <td>0.104447</td>\n",
              "      <td>1.000000</td>\n",
              "      <td>0.086960</td>\n",
              "      <td>0.011726</td>\n",
              "      <td>0.058976</td>\n",
              "      <td>0.031220</td>\n",
              "      <td>0.015522</td>\n",
              "      <td>0.304899</td>\n",
              "      <td>...</td>\n",
              "      <td>0.219503</td>\n",
              "      <td>0.290893</td>\n",
              "      <td>0.284410</td>\n",
              "      <td>0.005499</td>\n",
              "      <td>0.047872</td>\n",
              "      <td>0.032918</td>\n",
              "      <td>0.064735</td>\n",
              "      <td>0.037061</td>\n",
              "      <td>0.006080</td>\n",
              "      <td>0.080357</td>\n",
              "    </tr>\n",
              "    <tr>\n",
              "      <th>double_slash_redirecting</th>\n",
              "      <td>0.397389</td>\n",
              "      <td>0.081247</td>\n",
              "      <td>0.842796</td>\n",
              "      <td>0.086960</td>\n",
              "      <td>1.000000</td>\n",
              "      <td>0.085590</td>\n",
              "      <td>0.043079</td>\n",
              "      <td>0.036200</td>\n",
              "      <td>0.047464</td>\n",
              "      <td>0.035100</td>\n",
              "      <td>...</td>\n",
              "      <td>0.025863</td>\n",
              "      <td>0.054463</td>\n",
              "      <td>0.010459</td>\n",
              "      <td>0.050107</td>\n",
              "      <td>0.431409</td>\n",
              "      <td>0.062369</td>\n",
              "      <td>0.003132</td>\n",
              "      <td>0.178415</td>\n",
              "      <td>0.194165</td>\n",
              "      <td>0.070390</td>\n",
              "    </tr>\n",
              "    <tr>\n",
              "      <th>Prefix_Suffix</th>\n",
              "      <td>0.005257</td>\n",
              "      <td>0.055247</td>\n",
              "      <td>0.080471</td>\n",
              "      <td>0.011726</td>\n",
              "      <td>0.085590</td>\n",
              "      <td>1.000000</td>\n",
              "      <td>0.087891</td>\n",
              "      <td>0.261391</td>\n",
              "      <td>0.096799</td>\n",
              "      <td>0.007504</td>\n",
              "      <td>...</td>\n",
              "      <td>0.024868</td>\n",
              "      <td>0.014733</td>\n",
              "      <td>0.036904</td>\n",
              "      <td>0.074116</td>\n",
              "      <td>0.016556</td>\n",
              "      <td>0.110598</td>\n",
              "      <td>0.006834</td>\n",
              "      <td>0.067781</td>\n",
              "      <td>0.067423</td>\n",
              "      <td>0.002763</td>\n",
              "    </tr>\n",
              "    <tr>\n",
              "      <th>having_Sub_Domain</th>\n",
              "      <td>0.080745</td>\n",
              "      <td>0.003997</td>\n",
              "      <td>0.041916</td>\n",
              "      <td>0.058976</td>\n",
              "      <td>0.043079</td>\n",
              "      <td>0.087891</td>\n",
              "      <td>1.000000</td>\n",
              "      <td>0.267649</td>\n",
              "      <td>0.082839</td>\n",
              "      <td>0.016704</td>\n",
              "      <td>...</td>\n",
              "      <td>0.018230</td>\n",
              "      <td>0.025312</td>\n",
              "      <td>0.010637</td>\n",
              "      <td>0.119254</td>\n",
              "      <td>0.125493</td>\n",
              "      <td>0.005764</td>\n",
              "      <td>0.120730</td>\n",
              "      <td>0.057673</td>\n",
              "      <td>0.010526</td>\n",
              "      <td>0.081627</td>\n",
              "    </tr>\n",
              "    <tr>\n",
              "      <th>SSLfinal_State</th>\n",
              "      <td>0.071414</td>\n",
              "      <td>0.048754</td>\n",
              "      <td>0.061426</td>\n",
              "      <td>0.031220</td>\n",
              "      <td>0.036200</td>\n",
              "      <td>0.261391</td>\n",
              "      <td>0.267649</td>\n",
              "      <td>1.000000</td>\n",
              "      <td>0.193622</td>\n",
              "      <td>0.014757</td>\n",
              "      <td>...</td>\n",
              "      <td>0.015854</td>\n",
              "      <td>0.013005</td>\n",
              "      <td>0.002773</td>\n",
              "      <td>0.162809</td>\n",
              "      <td>0.050972</td>\n",
              "      <td>0.258768</td>\n",
              "      <td>0.074545</td>\n",
              "      <td>0.096051</td>\n",
              "      <td>0.011710</td>\n",
              "      <td>0.063411</td>\n",
              "    </tr>\n",
              "    <tr>\n",
              "      <th>Domain_registeration_length</th>\n",
              "      <td>0.022739</td>\n",
              "      <td>0.221892</td>\n",
              "      <td>0.060923</td>\n",
              "      <td>0.015522</td>\n",
              "      <td>0.047464</td>\n",
              "      <td>0.096799</td>\n",
              "      <td>0.082839</td>\n",
              "      <td>0.193622</td>\n",
              "      <td>1.000000</td>\n",
              "      <td>0.054253</td>\n",
              "      <td>...</td>\n",
              "      <td>0.023520</td>\n",
              "      <td>0.051410</td>\n",
              "      <td>0.004393</td>\n",
              "      <td>0.062851</td>\n",
              "      <td>0.010477</td>\n",
              "      <td>0.134454</td>\n",
              "      <td>0.059898</td>\n",
              "      <td>0.039766</td>\n",
              "      <td>0.122672</td>\n",
              "      <td>0.002212</td>\n",
              "    </tr>\n",
              "    <tr>\n",
              "      <th>Favicon</th>\n",
              "      <td>0.087025</td>\n",
              "      <td>0.042497</td>\n",
              "      <td>0.006101</td>\n",
              "      <td>0.304899</td>\n",
              "      <td>0.035100</td>\n",
              "      <td>0.007504</td>\n",
              "      <td>0.016704</td>\n",
              "      <td>0.014757</td>\n",
              "      <td>0.054253</td>\n",
              "      <td>1.000000</td>\n",
              "      <td>...</td>\n",
              "      <td>0.414382</td>\n",
              "      <td>0.939633</td>\n",
              "      <td>0.627607</td>\n",
              "      <td>0.002628</td>\n",
              "      <td>0.088211</td>\n",
              "      <td>0.050922</td>\n",
              "      <td>0.011699</td>\n",
              "      <td>0.016668</td>\n",
              "      <td>0.127243</td>\n",
              "      <td>0.300917</td>\n",
              "    </tr>\n",
              "    <tr>\n",
              "      <th>port</th>\n",
              "      <td>0.060979</td>\n",
              "      <td>0.000323</td>\n",
              "      <td>0.002201</td>\n",
              "      <td>0.364891</td>\n",
              "      <td>0.025060</td>\n",
              "      <td>0.022546</td>\n",
              "      <td>0.004863</td>\n",
              "      <td>0.027473</td>\n",
              "      <td>0.022478</td>\n",
              "      <td>0.803834</td>\n",
              "      <td>...</td>\n",
              "      <td>0.481631</td>\n",
              "      <td>0.748517</td>\n",
              "      <td>0.687044</td>\n",
              "      <td>0.008459</td>\n",
              "      <td>0.054849</td>\n",
              "      <td>0.028543</td>\n",
              "      <td>0.017954</td>\n",
              "      <td>0.005413</td>\n",
              "      <td>0.139104</td>\n",
              "      <td>0.343987</td>\n",
              "    </tr>\n",
              "    <tr>\n",
              "      <th>HTTPS_token</th>\n",
              "      <td>0.363534</td>\n",
              "      <td>0.089383</td>\n",
              "      <td>0.757838</td>\n",
              "      <td>0.104561</td>\n",
              "      <td>0.760799</td>\n",
              "      <td>0.070153</td>\n",
              "      <td>0.037239</td>\n",
              "      <td>0.029941</td>\n",
              "      <td>0.059161</td>\n",
              "      <td>0.049483</td>\n",
              "      <td>...</td>\n",
              "      <td>0.009265</td>\n",
              "      <td>0.066957</td>\n",
              "      <td>0.017509</td>\n",
              "      <td>0.049632</td>\n",
              "      <td>0.395387</td>\n",
              "      <td>0.039708</td>\n",
              "      <td>0.021104</td>\n",
              "      <td>0.115450</td>\n",
              "      <td>0.128724</td>\n",
              "      <td>0.096187</td>\n",
              "    </tr>\n",
              "    <tr>\n",
              "      <th>Request_URL</th>\n",
              "      <td>0.029773</td>\n",
              "      <td>0.246348</td>\n",
              "      <td>0.037235</td>\n",
              "      <td>0.027909</td>\n",
              "      <td>0.026368</td>\n",
              "      <td>0.098675</td>\n",
              "      <td>0.104857</td>\n",
              "      <td>0.193054</td>\n",
              "      <td>0.609970</td>\n",
              "      <td>0.004620</td>\n",
              "      <td>...</td>\n",
              "      <td>0.020452</td>\n",
              "      <td>0.004622</td>\n",
              "      <td>0.016934</td>\n",
              "      <td>0.090455</td>\n",
              "      <td>0.015933</td>\n",
              "      <td>0.161166</td>\n",
              "      <td>0.055734</td>\n",
              "      <td>0.046409</td>\n",
              "      <td>0.067109</td>\n",
              "      <td>0.035412</td>\n",
              "    </tr>\n",
              "    <tr>\n",
              "      <th>URL_of_Anchor</th>\n",
              "      <td>0.099847</td>\n",
              "      <td>0.023396</td>\n",
              "      <td>0.000561</td>\n",
              "      <td>0.057914</td>\n",
              "      <td>0.005036</td>\n",
              "      <td>0.348871</td>\n",
              "      <td>0.229491</td>\n",
              "      <td>0.535786</td>\n",
              "      <td>0.160257</td>\n",
              "      <td>0.037698</td>\n",
              "      <td>...</td>\n",
              "      <td>0.022168</td>\n",
              "      <td>0.041150</td>\n",
              "      <td>0.013403</td>\n",
              "      <td>0.075508</td>\n",
              "      <td>0.093288</td>\n",
              "      <td>0.326293</td>\n",
              "      <td>0.099261</td>\n",
              "      <td>0.038816</td>\n",
              "      <td>0.018651</td>\n",
              "      <td>0.077377</td>\n",
              "    </tr>\n",
              "    <tr>\n",
              "      <th>Links_in_tags</th>\n",
              "      <td>0.006212</td>\n",
              "      <td>0.052869</td>\n",
              "      <td>0.133379</td>\n",
              "      <td>0.070861</td>\n",
              "      <td>0.125583</td>\n",
              "      <td>0.100254</td>\n",
              "      <td>0.093646</td>\n",
              "      <td>0.176825</td>\n",
              "      <td>0.101084</td>\n",
              "      <td>0.100341</td>\n",
              "      <td>...</td>\n",
              "      <td>0.037469</td>\n",
              "      <td>0.112282</td>\n",
              "      <td>0.070030</td>\n",
              "      <td>0.078057</td>\n",
              "      <td>0.038545</td>\n",
              "      <td>0.064548</td>\n",
              "      <td>0.006450</td>\n",
              "      <td>0.045557</td>\n",
              "      <td>0.013561</td>\n",
              "      <td>0.087343</td>\n",
              "    </tr>\n",
              "    <tr>\n",
              "      <th>SFH</th>\n",
              "      <td>0.010962</td>\n",
              "      <td>0.414196</td>\n",
              "      <td>0.022723</td>\n",
              "      <td>0.008672</td>\n",
              "      <td>0.041672</td>\n",
              "      <td>0.001326</td>\n",
              "      <td>0.096089</td>\n",
              "      <td>0.171402</td>\n",
              "      <td>0.136422</td>\n",
              "      <td>0.012279</td>\n",
              "      <td>...</td>\n",
              "      <td>0.008467</td>\n",
              "      <td>0.004863</td>\n",
              "      <td>0.007067</td>\n",
              "      <td>0.015840</td>\n",
              "      <td>0.034440</td>\n",
              "      <td>0.052706</td>\n",
              "      <td>0.001979</td>\n",
              "      <td>0.027588</td>\n",
              "      <td>0.009068</td>\n",
              "      <td>0.005289</td>\n",
              "    </tr>\n",
              "    <tr>\n",
              "      <th>Submitting_to_email</th>\n",
              "      <td>0.077989</td>\n",
              "      <td>0.014457</td>\n",
              "      <td>0.049328</td>\n",
              "      <td>0.370123</td>\n",
              "      <td>0.031898</td>\n",
              "      <td>0.045000</td>\n",
              "      <td>0.008830</td>\n",
              "      <td>0.008062</td>\n",
              "      <td>0.039260</td>\n",
              "      <td>0.668317</td>\n",
              "      <td>...</td>\n",
              "      <td>0.398629</td>\n",
              "      <td>0.629462</td>\n",
              "      <td>0.577490</td>\n",
              "      <td>0.007357</td>\n",
              "      <td>0.064145</td>\n",
              "      <td>0.015685</td>\n",
              "      <td>0.026208</td>\n",
              "      <td>0.008378</td>\n",
              "      <td>0.039956</td>\n",
              "      <td>0.352074</td>\n",
              "    </tr>\n",
              "    <tr>\n",
              "      <th>Abnormal_URL</th>\n",
              "      <td>0.336549</td>\n",
              "      <td>0.106761</td>\n",
              "      <td>0.739290</td>\n",
              "      <td>0.203945</td>\n",
              "      <td>0.723724</td>\n",
              "      <td>0.077620</td>\n",
              "      <td>0.034908</td>\n",
              "      <td>0.046245</td>\n",
              "      <td>0.058109</td>\n",
              "      <td>0.071848</td>\n",
              "      <td>...</td>\n",
              "      <td>0.023710</td>\n",
              "      <td>0.091188</td>\n",
              "      <td>0.017590</td>\n",
              "      <td>0.032533</td>\n",
              "      <td>0.366833</td>\n",
              "      <td>0.052416</td>\n",
              "      <td>0.007318</td>\n",
              "      <td>0.124751</td>\n",
              "      <td>0.161027</td>\n",
              "      <td>0.186399</td>\n",
              "    </tr>\n",
              "    <tr>\n",
              "      <th>Redirect</th>\n",
              "      <td>0.321181</td>\n",
              "      <td>0.046832</td>\n",
              "      <td>0.534530</td>\n",
              "      <td>0.028160</td>\n",
              "      <td>0.591478</td>\n",
              "      <td>0.016271</td>\n",
              "      <td>0.031206</td>\n",
              "      <td>0.021070</td>\n",
              "      <td>0.016300</td>\n",
              "      <td>0.015621</td>\n",
              "      <td>...</td>\n",
              "      <td>0.023586</td>\n",
              "      <td>0.026327</td>\n",
              "      <td>0.012668</td>\n",
              "      <td>0.022476</td>\n",
              "      <td>0.211096</td>\n",
              "      <td>0.004631</td>\n",
              "      <td>0.052867</td>\n",
              "      <td>0.057230</td>\n",
              "      <td>0.161278</td>\n",
              "      <td>0.059194</td>\n",
              "    </tr>\n",
              "    <tr>\n",
              "      <th>on_mouseover</th>\n",
              "      <td>0.084059</td>\n",
              "      <td>0.045103</td>\n",
              "      <td>0.062383</td>\n",
              "      <td>0.279697</td>\n",
              "      <td>0.086635</td>\n",
              "      <td>0.012578</td>\n",
              "      <td>0.018082</td>\n",
              "      <td>0.023586</td>\n",
              "      <td>0.023784</td>\n",
              "      <td>0.706179</td>\n",
              "      <td>...</td>\n",
              "      <td>0.474054</td>\n",
              "      <td>0.733629</td>\n",
              "      <td>0.659478</td>\n",
              "      <td>0.013306</td>\n",
              "      <td>0.087161</td>\n",
              "      <td>0.036531</td>\n",
              "      <td>0.015634</td>\n",
              "      <td>0.006510</td>\n",
              "      <td>0.038551</td>\n",
              "      <td>0.277347</td>\n",
              "    </tr>\n",
              "    <tr>\n",
              "      <th>RightClick</th>\n",
              "      <td>0.042881</td>\n",
              "      <td>0.013613</td>\n",
              "      <td>0.038118</td>\n",
              "      <td>0.219503</td>\n",
              "      <td>0.025863</td>\n",
              "      <td>0.024868</td>\n",
              "      <td>0.018230</td>\n",
              "      <td>0.015854</td>\n",
              "      <td>0.023520</td>\n",
              "      <td>0.414382</td>\n",
              "      <td>...</td>\n",
              "      <td>1.000000</td>\n",
              "      <td>0.415268</td>\n",
              "      <td>0.655863</td>\n",
              "      <td>0.006764</td>\n",
              "      <td>0.038255</td>\n",
              "      <td>0.013594</td>\n",
              "      <td>0.025341</td>\n",
              "      <td>0.008066</td>\n",
              "      <td>0.119831</td>\n",
              "      <td>0.204409</td>\n",
              "    </tr>\n",
              "    <tr>\n",
              "      <th>popUpWidnow</th>\n",
              "      <td>0.096882</td>\n",
              "      <td>0.049381</td>\n",
              "      <td>0.036616</td>\n",
              "      <td>0.290893</td>\n",
              "      <td>0.054463</td>\n",
              "      <td>0.014733</td>\n",
              "      <td>0.025312</td>\n",
              "      <td>0.013005</td>\n",
              "      <td>0.051410</td>\n",
              "      <td>0.939633</td>\n",
              "      <td>...</td>\n",
              "      <td>0.415268</td>\n",
              "      <td>1.000000</td>\n",
              "      <td>0.629406</td>\n",
              "      <td>0.000948</td>\n",
              "      <td>0.098658</td>\n",
              "      <td>0.043190</td>\n",
              "      <td>0.017114</td>\n",
              "      <td>0.010256</td>\n",
              "      <td>0.121325</td>\n",
              "      <td>0.285261</td>\n",
              "    </tr>\n",
              "    <tr>\n",
              "      <th>Iframe</th>\n",
              "      <td>0.054694</td>\n",
              "      <td>0.013838</td>\n",
              "      <td>0.016581</td>\n",
              "      <td>0.284410</td>\n",
              "      <td>0.010459</td>\n",
              "      <td>0.036904</td>\n",
              "      <td>0.010637</td>\n",
              "      <td>0.002773</td>\n",
              "      <td>0.004393</td>\n",
              "      <td>0.627607</td>\n",
              "      <td>...</td>\n",
              "      <td>0.655863</td>\n",
              "      <td>0.629406</td>\n",
              "      <td>1.000000</td>\n",
              "      <td>0.018848</td>\n",
              "      <td>0.047293</td>\n",
              "      <td>0.022080</td>\n",
              "      <td>0.022407</td>\n",
              "      <td>0.003519</td>\n",
              "      <td>0.140824</td>\n",
              "      <td>0.268418</td>\n",
              "    </tr>\n",
              "    <tr>\n",
              "      <th>age_of_domain</th>\n",
              "      <td>0.010446</td>\n",
              "      <td>0.179426</td>\n",
              "      <td>0.052596</td>\n",
              "      <td>0.005499</td>\n",
              "      <td>0.050107</td>\n",
              "      <td>0.074116</td>\n",
              "      <td>0.119254</td>\n",
              "      <td>0.162809</td>\n",
              "      <td>0.062851</td>\n",
              "      <td>0.002628</td>\n",
              "      <td>...</td>\n",
              "      <td>0.006764</td>\n",
              "      <td>0.000948</td>\n",
              "      <td>0.018848</td>\n",
              "      <td>1.000000</td>\n",
              "      <td>0.034082</td>\n",
              "      <td>0.089949</td>\n",
              "      <td>0.147194</td>\n",
              "      <td>0.028471</td>\n",
              "      <td>0.040407</td>\n",
              "      <td>0.009115</td>\n",
              "    </tr>\n",
              "    <tr>\n",
              "      <th>DNSRecord</th>\n",
              "      <td>0.050733</td>\n",
              "      <td>0.040823</td>\n",
              "      <td>0.436064</td>\n",
              "      <td>0.047872</td>\n",
              "      <td>0.431409</td>\n",
              "      <td>0.016556</td>\n",
              "      <td>0.125493</td>\n",
              "      <td>0.050972</td>\n",
              "      <td>0.010477</td>\n",
              "      <td>0.088211</td>\n",
              "      <td>...</td>\n",
              "      <td>0.038255</td>\n",
              "      <td>0.098658</td>\n",
              "      <td>0.047293</td>\n",
              "      <td>0.034082</td>\n",
              "      <td>1.000000</td>\n",
              "      <td>0.048650</td>\n",
              "      <td>0.137860</td>\n",
              "      <td>0.137509</td>\n",
              "      <td>0.318266</td>\n",
              "      <td>0.136860</td>\n",
              "    </tr>\n",
              "    <tr>\n",
              "      <th>web_traffic</th>\n",
              "      <td>0.002922</td>\n",
              "      <td>0.008993</td>\n",
              "      <td>0.047074</td>\n",
              "      <td>0.032918</td>\n",
              "      <td>0.062369</td>\n",
              "      <td>0.110598</td>\n",
              "      <td>0.005764</td>\n",
              "      <td>0.258768</td>\n",
              "      <td>0.134454</td>\n",
              "      <td>0.050922</td>\n",
              "      <td>...</td>\n",
              "      <td>0.013594</td>\n",
              "      <td>0.043190</td>\n",
              "      <td>0.022080</td>\n",
              "      <td>0.089949</td>\n",
              "      <td>0.048650</td>\n",
              "      <td>1.000000</td>\n",
              "      <td>0.030984</td>\n",
              "      <td>0.012584</td>\n",
              "      <td>0.019860</td>\n",
              "      <td>0.009223</td>\n",
              "    </tr>\n",
              "    <tr>\n",
              "      <th>Page_Rank</th>\n",
              "      <td>0.091774</td>\n",
              "      <td>0.183518</td>\n",
              "      <td>0.014591</td>\n",
              "      <td>0.064735</td>\n",
              "      <td>0.003132</td>\n",
              "      <td>0.006834</td>\n",
              "      <td>0.120730</td>\n",
              "      <td>0.074545</td>\n",
              "      <td>0.059898</td>\n",
              "      <td>0.011699</td>\n",
              "      <td>...</td>\n",
              "      <td>0.025341</td>\n",
              "      <td>0.017114</td>\n",
              "      <td>0.022407</td>\n",
              "      <td>0.147194</td>\n",
              "      <td>0.137860</td>\n",
              "      <td>0.030984</td>\n",
              "      <td>1.000000</td>\n",
              "      <td>0.032431</td>\n",
              "      <td>0.028216</td>\n",
              "      <td>0.031049</td>\n",
              "    </tr>\n",
              "    <tr>\n",
              "      <th>Google_Index</th>\n",
              "      <td>0.029153</td>\n",
              "      <td>0.002902</td>\n",
              "      <td>0.155844</td>\n",
              "      <td>0.037061</td>\n",
              "      <td>0.178415</td>\n",
              "      <td>0.067781</td>\n",
              "      <td>0.057673</td>\n",
              "      <td>0.096051</td>\n",
              "      <td>0.039766</td>\n",
              "      <td>0.016668</td>\n",
              "      <td>...</td>\n",
              "      <td>0.008066</td>\n",
              "      <td>0.010256</td>\n",
              "      <td>0.003519</td>\n",
              "      <td>0.028471</td>\n",
              "      <td>0.137509</td>\n",
              "      <td>0.012584</td>\n",
              "      <td>0.032431</td>\n",
              "      <td>1.000000</td>\n",
              "      <td>0.038777</td>\n",
              "      <td>0.005103</td>\n",
              "    </tr>\n",
              "    <tr>\n",
              "      <th>Links_pointing_to_page</th>\n",
              "      <td>0.339065</td>\n",
              "      <td>0.022987</td>\n",
              "      <td>0.198410</td>\n",
              "      <td>0.006080</td>\n",
              "      <td>0.194165</td>\n",
              "      <td>0.067423</td>\n",
              "      <td>0.010526</td>\n",
              "      <td>0.011710</td>\n",
              "      <td>0.122672</td>\n",
              "      <td>0.127243</td>\n",
              "      <td>...</td>\n",
              "      <td>0.119831</td>\n",
              "      <td>0.121325</td>\n",
              "      <td>0.140824</td>\n",
              "      <td>0.040407</td>\n",
              "      <td>0.318266</td>\n",
              "      <td>0.019860</td>\n",
              "      <td>0.028216</td>\n",
              "      <td>0.038777</td>\n",
              "      <td>1.000000</td>\n",
              "      <td>0.016817</td>\n",
              "    </tr>\n",
              "    <tr>\n",
              "      <th>Statistical_report</th>\n",
              "      <td>0.019103</td>\n",
              "      <td>0.067153</td>\n",
              "      <td>0.085461</td>\n",
              "      <td>0.080357</td>\n",
              "      <td>0.070390</td>\n",
              "      <td>0.002763</td>\n",
              "      <td>0.081627</td>\n",
              "      <td>0.063411</td>\n",
              "      <td>0.002212</td>\n",
              "      <td>0.300917</td>\n",
              "      <td>...</td>\n",
              "      <td>0.204409</td>\n",
              "      <td>0.285261</td>\n",
              "      <td>0.268418</td>\n",
              "      <td>0.009115</td>\n",
              "      <td>0.136860</td>\n",
              "      <td>0.009223</td>\n",
              "      <td>0.031049</td>\n",
              "      <td>0.005103</td>\n",
              "      <td>0.016817</td>\n",
              "      <td>1.000000</td>\n",
              "    </tr>\n",
              "  </tbody>\n",
              "</table>\n",
              "<p>30 rows × 30 columns</p>\n",
              "</div>\n",
              "      <button class=\"colab-df-convert\" onclick=\"convertToInteractive('df-a56b35c4-5aa7-4e01-9907-2770938717cc')\"\n",
              "              title=\"Convert this dataframe to an interactive table.\"\n",
              "              style=\"display:none;\">\n",
              "        \n",
              "  <svg xmlns=\"http://www.w3.org/2000/svg\" height=\"24px\"viewBox=\"0 0 24 24\"\n",
              "       width=\"24px\">\n",
              "    <path d=\"M0 0h24v24H0V0z\" fill=\"none\"/>\n",
              "    <path d=\"M18.56 5.44l.94 2.06.94-2.06 2.06-.94-2.06-.94-.94-2.06-.94 2.06-2.06.94zm-11 1L8.5 8.5l.94-2.06 2.06-.94-2.06-.94L8.5 2.5l-.94 2.06-2.06.94zm10 10l.94 2.06.94-2.06 2.06-.94-2.06-.94-.94-2.06-.94 2.06-2.06.94z\"/><path d=\"M17.41 7.96l-1.37-1.37c-.4-.4-.92-.59-1.43-.59-.52 0-1.04.2-1.43.59L10.3 9.45l-7.72 7.72c-.78.78-.78 2.05 0 2.83L4 21.41c.39.39.9.59 1.41.59.51 0 1.02-.2 1.41-.59l7.78-7.78 2.81-2.81c.8-.78.8-2.07 0-2.86zM5.41 20L4 18.59l7.72-7.72 1.47 1.35L5.41 20z\"/>\n",
              "  </svg>\n",
              "      </button>\n",
              "      \n",
              "  <style>\n",
              "    .colab-df-container {\n",
              "      display:flex;\n",
              "      flex-wrap:wrap;\n",
              "      gap: 12px;\n",
              "    }\n",
              "\n",
              "    .colab-df-convert {\n",
              "      background-color: #E8F0FE;\n",
              "      border: none;\n",
              "      border-radius: 50%;\n",
              "      cursor: pointer;\n",
              "      display: none;\n",
              "      fill: #1967D2;\n",
              "      height: 32px;\n",
              "      padding: 0 0 0 0;\n",
              "      width: 32px;\n",
              "    }\n",
              "\n",
              "    .colab-df-convert:hover {\n",
              "      background-color: #E2EBFA;\n",
              "      box-shadow: 0px 1px 2px rgba(60, 64, 67, 0.3), 0px 1px 3px 1px rgba(60, 64, 67, 0.15);\n",
              "      fill: #174EA6;\n",
              "    }\n",
              "\n",
              "    [theme=dark] .colab-df-convert {\n",
              "      background-color: #3B4455;\n",
              "      fill: #D2E3FC;\n",
              "    }\n",
              "\n",
              "    [theme=dark] .colab-df-convert:hover {\n",
              "      background-color: #434B5C;\n",
              "      box-shadow: 0px 1px 3px 1px rgba(0, 0, 0, 0.15);\n",
              "      filter: drop-shadow(0px 1px 2px rgba(0, 0, 0, 0.3));\n",
              "      fill: #FFFFFF;\n",
              "    }\n",
              "  </style>\n",
              "\n",
              "      <script>\n",
              "        const buttonEl =\n",
              "          document.querySelector('#df-a56b35c4-5aa7-4e01-9907-2770938717cc button.colab-df-convert');\n",
              "        buttonEl.style.display =\n",
              "          google.colab.kernel.accessAllowed ? 'block' : 'none';\n",
              "\n",
              "        async function convertToInteractive(key) {\n",
              "          const element = document.querySelector('#df-a56b35c4-5aa7-4e01-9907-2770938717cc');\n",
              "          const dataTable =\n",
              "            await google.colab.kernel.invokeFunction('convertToInteractive',\n",
              "                                                     [key], {});\n",
              "          if (!dataTable) return;\n",
              "\n",
              "          const docLinkHtml = 'Like what you see? Visit the ' +\n",
              "            '<a target=\"_blank\" href=https://colab.research.google.com/notebooks/data_table.ipynb>data table notebook</a>'\n",
              "            + ' to learn more about interactive tables.';\n",
              "          element.innerHTML = '';\n",
              "          dataTable['output_type'] = 'display_data';\n",
              "          await google.colab.output.renderOutput(dataTable, element);\n",
              "          const docLink = document.createElement('div');\n",
              "          docLink.innerHTML = docLinkHtml;\n",
              "          element.appendChild(docLink);\n",
              "        }\n",
              "      </script>\n",
              "    </div>\n",
              "  </div>\n",
              "  "
            ]
          },
          "metadata": {},
          "execution_count": 10
        }
      ]
    },
    {
      "cell_type": "markdown",
      "source": [
        "The correlation matrix will be mirror image about the diagonal and all the diagonal elements will be 1. So, we select any of the upper triangular or lower triangular part of the correlation matrix. Also, we are excluding the diagonal. "
      ],
      "metadata": {
        "id": "twQk3nvKYf1z"
      }
    },
    {
      "cell_type": "code",
      "source": [
        "upper_tri = cor_matrix.where(np.triu(np.ones(cor_matrix.shape),k=1).astype(np.bool))\n",
        "upper_tri"
      ],
      "metadata": {
        "colab": {
          "base_uri": "https://localhost:8080/",
          "height": 1000
        },
        "id": "iUMwuDgIiMpo",
        "outputId": "803968bb-1956-4d72-dd54-f873b15dc9f0"
      },
      "execution_count": 11,
      "outputs": [
        {
          "output_type": "stream",
          "name": "stderr",
          "text": [
            "/usr/local/lib/python3.7/dist-packages/ipykernel_launcher.py:1: DeprecationWarning: `np.bool` is a deprecated alias for the builtin `bool`. To silence this warning, use `bool` by itself. Doing this will not modify any behavior and is safe. If you specifically wanted the numpy scalar type, use `np.bool_` here.\n",
            "Deprecated in NumPy 1.20; for more details and guidance: https://numpy.org/devdocs/release/1.20.0-notes.html#deprecations\n",
            "  \"\"\"Entry point for launching an IPython kernel.\n"
          ]
        },
        {
          "output_type": "execute_result",
          "data": {
            "text/plain": [
              "                             having_IPhaving_IP_Address  URLURL_Length  \\\n",
              "having_IPhaving_IP_Address                          NaN       0.052411   \n",
              "URLURL_Length                                       NaN            NaN   \n",
              "Shortining_Service                                  NaN            NaN   \n",
              "having_At_Symbol                                    NaN            NaN   \n",
              "double_slash_redirecting                            NaN            NaN   \n",
              "Prefix_Suffix                                       NaN            NaN   \n",
              "having_Sub_Domain                                   NaN            NaN   \n",
              "SSLfinal_State                                      NaN            NaN   \n",
              "Domain_registeration_length                         NaN            NaN   \n",
              "Favicon                                             NaN            NaN   \n",
              "port                                                NaN            NaN   \n",
              "HTTPS_token                                         NaN            NaN   \n",
              "Request_URL                                         NaN            NaN   \n",
              "URL_of_Anchor                                       NaN            NaN   \n",
              "Links_in_tags                                       NaN            NaN   \n",
              "SFH                                                 NaN            NaN   \n",
              "Submitting_to_email                                 NaN            NaN   \n",
              "Abnormal_URL                                        NaN            NaN   \n",
              "Redirect                                            NaN            NaN   \n",
              "on_mouseover                                        NaN            NaN   \n",
              "RightClick                                          NaN            NaN   \n",
              "popUpWidnow                                         NaN            NaN   \n",
              "Iframe                                              NaN            NaN   \n",
              "age_of_domain                                       NaN            NaN   \n",
              "DNSRecord                                           NaN            NaN   \n",
              "web_traffic                                         NaN            NaN   \n",
              "Page_Rank                                           NaN            NaN   \n",
              "Google_Index                                        NaN            NaN   \n",
              "Links_pointing_to_page                              NaN            NaN   \n",
              "Statistical_report                                  NaN            NaN   \n",
              "\n",
              "                             Shortining_Service  having_At_Symbol  \\\n",
              "having_IPhaving_IP_Address             0.403461          0.158699   \n",
              "URLURL_Length                          0.097881          0.075108   \n",
              "Shortining_Service                          NaN          0.104447   \n",
              "having_At_Symbol                            NaN               NaN   \n",
              "double_slash_redirecting                    NaN               NaN   \n",
              "Prefix_Suffix                               NaN               NaN   \n",
              "having_Sub_Domain                           NaN               NaN   \n",
              "SSLfinal_State                              NaN               NaN   \n",
              "Domain_registeration_length                 NaN               NaN   \n",
              "Favicon                                     NaN               NaN   \n",
              "port                                        NaN               NaN   \n",
              "HTTPS_token                                 NaN               NaN   \n",
              "Request_URL                                 NaN               NaN   \n",
              "URL_of_Anchor                               NaN               NaN   \n",
              "Links_in_tags                               NaN               NaN   \n",
              "SFH                                         NaN               NaN   \n",
              "Submitting_to_email                         NaN               NaN   \n",
              "Abnormal_URL                                NaN               NaN   \n",
              "Redirect                                    NaN               NaN   \n",
              "on_mouseover                                NaN               NaN   \n",
              "RightClick                                  NaN               NaN   \n",
              "popUpWidnow                                 NaN               NaN   \n",
              "Iframe                                      NaN               NaN   \n",
              "age_of_domain                               NaN               NaN   \n",
              "DNSRecord                                   NaN               NaN   \n",
              "web_traffic                                 NaN               NaN   \n",
              "Page_Rank                                   NaN               NaN   \n",
              "Google_Index                                NaN               NaN   \n",
              "Links_pointing_to_page                      NaN               NaN   \n",
              "Statistical_report                          NaN               NaN   \n",
              "\n",
              "                             double_slash_redirecting  Prefix_Suffix  \\\n",
              "having_IPhaving_IP_Address                   0.397389       0.005257   \n",
              "URLURL_Length                                0.081247       0.055247   \n",
              "Shortining_Service                           0.842796       0.080471   \n",
              "having_At_Symbol                             0.086960       0.011726   \n",
              "double_slash_redirecting                          NaN       0.085590   \n",
              "Prefix_Suffix                                     NaN            NaN   \n",
              "having_Sub_Domain                                 NaN            NaN   \n",
              "SSLfinal_State                                    NaN            NaN   \n",
              "Domain_registeration_length                       NaN            NaN   \n",
              "Favicon                                           NaN            NaN   \n",
              "port                                              NaN            NaN   \n",
              "HTTPS_token                                       NaN            NaN   \n",
              "Request_URL                                       NaN            NaN   \n",
              "URL_of_Anchor                                     NaN            NaN   \n",
              "Links_in_tags                                     NaN            NaN   \n",
              "SFH                                               NaN            NaN   \n",
              "Submitting_to_email                               NaN            NaN   \n",
              "Abnormal_URL                                      NaN            NaN   \n",
              "Redirect                                          NaN            NaN   \n",
              "on_mouseover                                      NaN            NaN   \n",
              "RightClick                                        NaN            NaN   \n",
              "popUpWidnow                                       NaN            NaN   \n",
              "Iframe                                            NaN            NaN   \n",
              "age_of_domain                                     NaN            NaN   \n",
              "DNSRecord                                         NaN            NaN   \n",
              "web_traffic                                       NaN            NaN   \n",
              "Page_Rank                                         NaN            NaN   \n",
              "Google_Index                                      NaN            NaN   \n",
              "Links_pointing_to_page                            NaN            NaN   \n",
              "Statistical_report                                NaN            NaN   \n",
              "\n",
              "                             having_Sub_Domain  SSLfinal_State  \\\n",
              "having_IPhaving_IP_Address            0.080745        0.071414   \n",
              "URLURL_Length                         0.003997        0.048754   \n",
              "Shortining_Service                    0.041916        0.061426   \n",
              "having_At_Symbol                      0.058976        0.031220   \n",
              "double_slash_redirecting              0.043079        0.036200   \n",
              "Prefix_Suffix                         0.087891        0.261391   \n",
              "having_Sub_Domain                          NaN        0.267649   \n",
              "SSLfinal_State                             NaN             NaN   \n",
              "Domain_registeration_length                NaN             NaN   \n",
              "Favicon                                    NaN             NaN   \n",
              "port                                       NaN             NaN   \n",
              "HTTPS_token                                NaN             NaN   \n",
              "Request_URL                                NaN             NaN   \n",
              "URL_of_Anchor                              NaN             NaN   \n",
              "Links_in_tags                              NaN             NaN   \n",
              "SFH                                        NaN             NaN   \n",
              "Submitting_to_email                        NaN             NaN   \n",
              "Abnormal_URL                               NaN             NaN   \n",
              "Redirect                                   NaN             NaN   \n",
              "on_mouseover                               NaN             NaN   \n",
              "RightClick                                 NaN             NaN   \n",
              "popUpWidnow                                NaN             NaN   \n",
              "Iframe                                     NaN             NaN   \n",
              "age_of_domain                              NaN             NaN   \n",
              "DNSRecord                                  NaN             NaN   \n",
              "web_traffic                                NaN             NaN   \n",
              "Page_Rank                                  NaN             NaN   \n",
              "Google_Index                               NaN             NaN   \n",
              "Links_pointing_to_page                     NaN             NaN   \n",
              "Statistical_report                         NaN             NaN   \n",
              "\n",
              "                             Domain_registeration_length   Favicon  ...  \\\n",
              "having_IPhaving_IP_Address                      0.022739  0.087025  ...   \n",
              "URLURL_Length                                   0.221892  0.042497  ...   \n",
              "Shortining_Service                              0.060923  0.006101  ...   \n",
              "having_At_Symbol                                0.015522  0.304899  ...   \n",
              "double_slash_redirecting                        0.047464  0.035100  ...   \n",
              "Prefix_Suffix                                   0.096799  0.007504  ...   \n",
              "having_Sub_Domain                               0.082839  0.016704  ...   \n",
              "SSLfinal_State                                  0.193622  0.014757  ...   \n",
              "Domain_registeration_length                          NaN  0.054253  ...   \n",
              "Favicon                                              NaN       NaN  ...   \n",
              "port                                                 NaN       NaN  ...   \n",
              "HTTPS_token                                          NaN       NaN  ...   \n",
              "Request_URL                                          NaN       NaN  ...   \n",
              "URL_of_Anchor                                        NaN       NaN  ...   \n",
              "Links_in_tags                                        NaN       NaN  ...   \n",
              "SFH                                                  NaN       NaN  ...   \n",
              "Submitting_to_email                                  NaN       NaN  ...   \n",
              "Abnormal_URL                                         NaN       NaN  ...   \n",
              "Redirect                                             NaN       NaN  ...   \n",
              "on_mouseover                                         NaN       NaN  ...   \n",
              "RightClick                                           NaN       NaN  ...   \n",
              "popUpWidnow                                          NaN       NaN  ...   \n",
              "Iframe                                               NaN       NaN  ...   \n",
              "age_of_domain                                        NaN       NaN  ...   \n",
              "DNSRecord                                            NaN       NaN  ...   \n",
              "web_traffic                                          NaN       NaN  ...   \n",
              "Page_Rank                                            NaN       NaN  ...   \n",
              "Google_Index                                         NaN       NaN  ...   \n",
              "Links_pointing_to_page                               NaN       NaN  ...   \n",
              "Statistical_report                                   NaN       NaN  ...   \n",
              "\n",
              "                             RightClick  popUpWidnow    Iframe  age_of_domain  \\\n",
              "having_IPhaving_IP_Address     0.042881     0.096882  0.054694       0.010446   \n",
              "URLURL_Length                  0.013613     0.049381  0.013838       0.179426   \n",
              "Shortining_Service             0.038118     0.036616  0.016581       0.052596   \n",
              "having_At_Symbol               0.219503     0.290893  0.284410       0.005499   \n",
              "double_slash_redirecting       0.025863     0.054463  0.010459       0.050107   \n",
              "Prefix_Suffix                  0.024868     0.014733  0.036904       0.074116   \n",
              "having_Sub_Domain              0.018230     0.025312  0.010637       0.119254   \n",
              "SSLfinal_State                 0.015854     0.013005  0.002773       0.162809   \n",
              "Domain_registeration_length    0.023520     0.051410  0.004393       0.062851   \n",
              "Favicon                        0.414382     0.939633  0.627607       0.002628   \n",
              "port                           0.481631     0.748517  0.687044       0.008459   \n",
              "HTTPS_token                    0.009265     0.066957  0.017509       0.049632   \n",
              "Request_URL                    0.020452     0.004622  0.016934       0.090455   \n",
              "URL_of_Anchor                  0.022168     0.041150  0.013403       0.075508   \n",
              "Links_in_tags                  0.037469     0.112282  0.070030       0.078057   \n",
              "SFH                            0.008467     0.004863  0.007067       0.015840   \n",
              "Submitting_to_email            0.398629     0.629462  0.577490       0.007357   \n",
              "Abnormal_URL                   0.023710     0.091188  0.017590       0.032533   \n",
              "Redirect                       0.023586     0.026327  0.012668       0.022476   \n",
              "on_mouseover                   0.474054     0.733629  0.659478       0.013306   \n",
              "RightClick                          NaN     0.415268  0.655863       0.006764   \n",
              "popUpWidnow                         NaN          NaN  0.629406       0.000948   \n",
              "Iframe                              NaN          NaN       NaN       0.018848   \n",
              "age_of_domain                       NaN          NaN       NaN            NaN   \n",
              "DNSRecord                           NaN          NaN       NaN            NaN   \n",
              "web_traffic                         NaN          NaN       NaN            NaN   \n",
              "Page_Rank                           NaN          NaN       NaN            NaN   \n",
              "Google_Index                        NaN          NaN       NaN            NaN   \n",
              "Links_pointing_to_page              NaN          NaN       NaN            NaN   \n",
              "Statistical_report                  NaN          NaN       NaN            NaN   \n",
              "\n",
              "                             DNSRecord  web_traffic  Page_Rank  Google_Index  \\\n",
              "having_IPhaving_IP_Address    0.050733     0.002922   0.091774      0.029153   \n",
              "URLURL_Length                 0.040823     0.008993   0.183518      0.002902   \n",
              "Shortining_Service            0.436064     0.047074   0.014591      0.155844   \n",
              "having_At_Symbol              0.047872     0.032918   0.064735      0.037061   \n",
              "double_slash_redirecting      0.431409     0.062369   0.003132      0.178415   \n",
              "Prefix_Suffix                 0.016556     0.110598   0.006834      0.067781   \n",
              "having_Sub_Domain             0.125493     0.005764   0.120730      0.057673   \n",
              "SSLfinal_State                0.050972     0.258768   0.074545      0.096051   \n",
              "Domain_registeration_length   0.010477     0.134454   0.059898      0.039766   \n",
              "Favicon                       0.088211     0.050922   0.011699      0.016668   \n",
              "port                          0.054849     0.028543   0.017954      0.005413   \n",
              "HTTPS_token                   0.395387     0.039708   0.021104      0.115450   \n",
              "Request_URL                   0.015933     0.161166   0.055734      0.046409   \n",
              "URL_of_Anchor                 0.093288     0.326293   0.099261      0.038816   \n",
              "Links_in_tags                 0.038545     0.064548   0.006450      0.045557   \n",
              "SFH                           0.034440     0.052706   0.001979      0.027588   \n",
              "Submitting_to_email           0.064145     0.015685   0.026208      0.008378   \n",
              "Abnormal_URL                  0.366833     0.052416   0.007318      0.124751   \n",
              "Redirect                      0.211096     0.004631   0.052867      0.057230   \n",
              "on_mouseover                  0.087161     0.036531   0.015634      0.006510   \n",
              "RightClick                    0.038255     0.013594   0.025341      0.008066   \n",
              "popUpWidnow                   0.098658     0.043190   0.017114      0.010256   \n",
              "Iframe                        0.047293     0.022080   0.022407      0.003519   \n",
              "age_of_domain                 0.034082     0.089949   0.147194      0.028471   \n",
              "DNSRecord                          NaN     0.048650   0.137860      0.137509   \n",
              "web_traffic                        NaN          NaN   0.030984      0.012584   \n",
              "Page_Rank                          NaN          NaN        NaN      0.032431   \n",
              "Google_Index                       NaN          NaN        NaN           NaN   \n",
              "Links_pointing_to_page             NaN          NaN        NaN           NaN   \n",
              "Statistical_report                 NaN          NaN        NaN           NaN   \n",
              "\n",
              "                             Links_pointing_to_page  Statistical_report  \n",
              "having_IPhaving_IP_Address                 0.339065            0.019103  \n",
              "URLURL_Length                              0.022987            0.067153  \n",
              "Shortining_Service                         0.198410            0.085461  \n",
              "having_At_Symbol                           0.006080            0.080357  \n",
              "double_slash_redirecting                   0.194165            0.070390  \n",
              "Prefix_Suffix                              0.067423            0.002763  \n",
              "having_Sub_Domain                          0.010526            0.081627  \n",
              "SSLfinal_State                             0.011710            0.063411  \n",
              "Domain_registeration_length                0.122672            0.002212  \n",
              "Favicon                                    0.127243            0.300917  \n",
              "port                                       0.139104            0.343987  \n",
              "HTTPS_token                                0.128724            0.096187  \n",
              "Request_URL                                0.067109            0.035412  \n",
              "URL_of_Anchor                              0.018651            0.077377  \n",
              "Links_in_tags                              0.013561            0.087343  \n",
              "SFH                                        0.009068            0.005289  \n",
              "Submitting_to_email                        0.039956            0.352074  \n",
              "Abnormal_URL                               0.161027            0.186399  \n",
              "Redirect                                   0.161278            0.059194  \n",
              "on_mouseover                               0.038551            0.277347  \n",
              "RightClick                                 0.119831            0.204409  \n",
              "popUpWidnow                                0.121325            0.285261  \n",
              "Iframe                                     0.140824            0.268418  \n",
              "age_of_domain                              0.040407            0.009115  \n",
              "DNSRecord                                  0.318266            0.136860  \n",
              "web_traffic                                0.019860            0.009223  \n",
              "Page_Rank                                  0.028216            0.031049  \n",
              "Google_Index                               0.038777            0.005103  \n",
              "Links_pointing_to_page                          NaN            0.016817  \n",
              "Statistical_report                              NaN                 NaN  \n",
              "\n",
              "[30 rows x 30 columns]"
            ],
            "text/html": [
              "\n",
              "  <div id=\"df-d243ceba-6443-4c21-9300-966c529e88f6\">\n",
              "    <div class=\"colab-df-container\">\n",
              "      <div>\n",
              "<style scoped>\n",
              "    .dataframe tbody tr th:only-of-type {\n",
              "        vertical-align: middle;\n",
              "    }\n",
              "\n",
              "    .dataframe tbody tr th {\n",
              "        vertical-align: top;\n",
              "    }\n",
              "\n",
              "    .dataframe thead th {\n",
              "        text-align: right;\n",
              "    }\n",
              "</style>\n",
              "<table border=\"1\" class=\"dataframe\">\n",
              "  <thead>\n",
              "    <tr style=\"text-align: right;\">\n",
              "      <th></th>\n",
              "      <th>having_IPhaving_IP_Address</th>\n",
              "      <th>URLURL_Length</th>\n",
              "      <th>Shortining_Service</th>\n",
              "      <th>having_At_Symbol</th>\n",
              "      <th>double_slash_redirecting</th>\n",
              "      <th>Prefix_Suffix</th>\n",
              "      <th>having_Sub_Domain</th>\n",
              "      <th>SSLfinal_State</th>\n",
              "      <th>Domain_registeration_length</th>\n",
              "      <th>Favicon</th>\n",
              "      <th>...</th>\n",
              "      <th>RightClick</th>\n",
              "      <th>popUpWidnow</th>\n",
              "      <th>Iframe</th>\n",
              "      <th>age_of_domain</th>\n",
              "      <th>DNSRecord</th>\n",
              "      <th>web_traffic</th>\n",
              "      <th>Page_Rank</th>\n",
              "      <th>Google_Index</th>\n",
              "      <th>Links_pointing_to_page</th>\n",
              "      <th>Statistical_report</th>\n",
              "    </tr>\n",
              "  </thead>\n",
              "  <tbody>\n",
              "    <tr>\n",
              "      <th>having_IPhaving_IP_Address</th>\n",
              "      <td>NaN</td>\n",
              "      <td>0.052411</td>\n",
              "      <td>0.403461</td>\n",
              "      <td>0.158699</td>\n",
              "      <td>0.397389</td>\n",
              "      <td>0.005257</td>\n",
              "      <td>0.080745</td>\n",
              "      <td>0.071414</td>\n",
              "      <td>0.022739</td>\n",
              "      <td>0.087025</td>\n",
              "      <td>...</td>\n",
              "      <td>0.042881</td>\n",
              "      <td>0.096882</td>\n",
              "      <td>0.054694</td>\n",
              "      <td>0.010446</td>\n",
              "      <td>0.050733</td>\n",
              "      <td>0.002922</td>\n",
              "      <td>0.091774</td>\n",
              "      <td>0.029153</td>\n",
              "      <td>0.339065</td>\n",
              "      <td>0.019103</td>\n",
              "    </tr>\n",
              "    <tr>\n",
              "      <th>URLURL_Length</th>\n",
              "      <td>NaN</td>\n",
              "      <td>NaN</td>\n",
              "      <td>0.097881</td>\n",
              "      <td>0.075108</td>\n",
              "      <td>0.081247</td>\n",
              "      <td>0.055247</td>\n",
              "      <td>0.003997</td>\n",
              "      <td>0.048754</td>\n",
              "      <td>0.221892</td>\n",
              "      <td>0.042497</td>\n",
              "      <td>...</td>\n",
              "      <td>0.013613</td>\n",
              "      <td>0.049381</td>\n",
              "      <td>0.013838</td>\n",
              "      <td>0.179426</td>\n",
              "      <td>0.040823</td>\n",
              "      <td>0.008993</td>\n",
              "      <td>0.183518</td>\n",
              "      <td>0.002902</td>\n",
              "      <td>0.022987</td>\n",
              "      <td>0.067153</td>\n",
              "    </tr>\n",
              "    <tr>\n",
              "      <th>Shortining_Service</th>\n",
              "      <td>NaN</td>\n",
              "      <td>NaN</td>\n",
              "      <td>NaN</td>\n",
              "      <td>0.104447</td>\n",
              "      <td>0.842796</td>\n",
              "      <td>0.080471</td>\n",
              "      <td>0.041916</td>\n",
              "      <td>0.061426</td>\n",
              "      <td>0.060923</td>\n",
              "      <td>0.006101</td>\n",
              "      <td>...</td>\n",
              "      <td>0.038118</td>\n",
              "      <td>0.036616</td>\n",
              "      <td>0.016581</td>\n",
              "      <td>0.052596</td>\n",
              "      <td>0.436064</td>\n",
              "      <td>0.047074</td>\n",
              "      <td>0.014591</td>\n",
              "      <td>0.155844</td>\n",
              "      <td>0.198410</td>\n",
              "      <td>0.085461</td>\n",
              "    </tr>\n",
              "    <tr>\n",
              "      <th>having_At_Symbol</th>\n",
              "      <td>NaN</td>\n",
              "      <td>NaN</td>\n",
              "      <td>NaN</td>\n",
              "      <td>NaN</td>\n",
              "      <td>0.086960</td>\n",
              "      <td>0.011726</td>\n",
              "      <td>0.058976</td>\n",
              "      <td>0.031220</td>\n",
              "      <td>0.015522</td>\n",
              "      <td>0.304899</td>\n",
              "      <td>...</td>\n",
              "      <td>0.219503</td>\n",
              "      <td>0.290893</td>\n",
              "      <td>0.284410</td>\n",
              "      <td>0.005499</td>\n",
              "      <td>0.047872</td>\n",
              "      <td>0.032918</td>\n",
              "      <td>0.064735</td>\n",
              "      <td>0.037061</td>\n",
              "      <td>0.006080</td>\n",
              "      <td>0.080357</td>\n",
              "    </tr>\n",
              "    <tr>\n",
              "      <th>double_slash_redirecting</th>\n",
              "      <td>NaN</td>\n",
              "      <td>NaN</td>\n",
              "      <td>NaN</td>\n",
              "      <td>NaN</td>\n",
              "      <td>NaN</td>\n",
              "      <td>0.085590</td>\n",
              "      <td>0.043079</td>\n",
              "      <td>0.036200</td>\n",
              "      <td>0.047464</td>\n",
              "      <td>0.035100</td>\n",
              "      <td>...</td>\n",
              "      <td>0.025863</td>\n",
              "      <td>0.054463</td>\n",
              "      <td>0.010459</td>\n",
              "      <td>0.050107</td>\n",
              "      <td>0.431409</td>\n",
              "      <td>0.062369</td>\n",
              "      <td>0.003132</td>\n",
              "      <td>0.178415</td>\n",
              "      <td>0.194165</td>\n",
              "      <td>0.070390</td>\n",
              "    </tr>\n",
              "    <tr>\n",
              "      <th>Prefix_Suffix</th>\n",
              "      <td>NaN</td>\n",
              "      <td>NaN</td>\n",
              "      <td>NaN</td>\n",
              "      <td>NaN</td>\n",
              "      <td>NaN</td>\n",
              "      <td>NaN</td>\n",
              "      <td>0.087891</td>\n",
              "      <td>0.261391</td>\n",
              "      <td>0.096799</td>\n",
              "      <td>0.007504</td>\n",
              "      <td>...</td>\n",
              "      <td>0.024868</td>\n",
              "      <td>0.014733</td>\n",
              "      <td>0.036904</td>\n",
              "      <td>0.074116</td>\n",
              "      <td>0.016556</td>\n",
              "      <td>0.110598</td>\n",
              "      <td>0.006834</td>\n",
              "      <td>0.067781</td>\n",
              "      <td>0.067423</td>\n",
              "      <td>0.002763</td>\n",
              "    </tr>\n",
              "    <tr>\n",
              "      <th>having_Sub_Domain</th>\n",
              "      <td>NaN</td>\n",
              "      <td>NaN</td>\n",
              "      <td>NaN</td>\n",
              "      <td>NaN</td>\n",
              "      <td>NaN</td>\n",
              "      <td>NaN</td>\n",
              "      <td>NaN</td>\n",
              "      <td>0.267649</td>\n",
              "      <td>0.082839</td>\n",
              "      <td>0.016704</td>\n",
              "      <td>...</td>\n",
              "      <td>0.018230</td>\n",
              "      <td>0.025312</td>\n",
              "      <td>0.010637</td>\n",
              "      <td>0.119254</td>\n",
              "      <td>0.125493</td>\n",
              "      <td>0.005764</td>\n",
              "      <td>0.120730</td>\n",
              "      <td>0.057673</td>\n",
              "      <td>0.010526</td>\n",
              "      <td>0.081627</td>\n",
              "    </tr>\n",
              "    <tr>\n",
              "      <th>SSLfinal_State</th>\n",
              "      <td>NaN</td>\n",
              "      <td>NaN</td>\n",
              "      <td>NaN</td>\n",
              "      <td>NaN</td>\n",
              "      <td>NaN</td>\n",
              "      <td>NaN</td>\n",
              "      <td>NaN</td>\n",
              "      <td>NaN</td>\n",
              "      <td>0.193622</td>\n",
              "      <td>0.014757</td>\n",
              "      <td>...</td>\n",
              "      <td>0.015854</td>\n",
              "      <td>0.013005</td>\n",
              "      <td>0.002773</td>\n",
              "      <td>0.162809</td>\n",
              "      <td>0.050972</td>\n",
              "      <td>0.258768</td>\n",
              "      <td>0.074545</td>\n",
              "      <td>0.096051</td>\n",
              "      <td>0.011710</td>\n",
              "      <td>0.063411</td>\n",
              "    </tr>\n",
              "    <tr>\n",
              "      <th>Domain_registeration_length</th>\n",
              "      <td>NaN</td>\n",
              "      <td>NaN</td>\n",
              "      <td>NaN</td>\n",
              "      <td>NaN</td>\n",
              "      <td>NaN</td>\n",
              "      <td>NaN</td>\n",
              "      <td>NaN</td>\n",
              "      <td>NaN</td>\n",
              "      <td>NaN</td>\n",
              "      <td>0.054253</td>\n",
              "      <td>...</td>\n",
              "      <td>0.023520</td>\n",
              "      <td>0.051410</td>\n",
              "      <td>0.004393</td>\n",
              "      <td>0.062851</td>\n",
              "      <td>0.010477</td>\n",
              "      <td>0.134454</td>\n",
              "      <td>0.059898</td>\n",
              "      <td>0.039766</td>\n",
              "      <td>0.122672</td>\n",
              "      <td>0.002212</td>\n",
              "    </tr>\n",
              "    <tr>\n",
              "      <th>Favicon</th>\n",
              "      <td>NaN</td>\n",
              "      <td>NaN</td>\n",
              "      <td>NaN</td>\n",
              "      <td>NaN</td>\n",
              "      <td>NaN</td>\n",
              "      <td>NaN</td>\n",
              "      <td>NaN</td>\n",
              "      <td>NaN</td>\n",
              "      <td>NaN</td>\n",
              "      <td>NaN</td>\n",
              "      <td>...</td>\n",
              "      <td>0.414382</td>\n",
              "      <td>0.939633</td>\n",
              "      <td>0.627607</td>\n",
              "      <td>0.002628</td>\n",
              "      <td>0.088211</td>\n",
              "      <td>0.050922</td>\n",
              "      <td>0.011699</td>\n",
              "      <td>0.016668</td>\n",
              "      <td>0.127243</td>\n",
              "      <td>0.300917</td>\n",
              "    </tr>\n",
              "    <tr>\n",
              "      <th>port</th>\n",
              "      <td>NaN</td>\n",
              "      <td>NaN</td>\n",
              "      <td>NaN</td>\n",
              "      <td>NaN</td>\n",
              "      <td>NaN</td>\n",
              "      <td>NaN</td>\n",
              "      <td>NaN</td>\n",
              "      <td>NaN</td>\n",
              "      <td>NaN</td>\n",
              "      <td>NaN</td>\n",
              "      <td>...</td>\n",
              "      <td>0.481631</td>\n",
              "      <td>0.748517</td>\n",
              "      <td>0.687044</td>\n",
              "      <td>0.008459</td>\n",
              "      <td>0.054849</td>\n",
              "      <td>0.028543</td>\n",
              "      <td>0.017954</td>\n",
              "      <td>0.005413</td>\n",
              "      <td>0.139104</td>\n",
              "      <td>0.343987</td>\n",
              "    </tr>\n",
              "    <tr>\n",
              "      <th>HTTPS_token</th>\n",
              "      <td>NaN</td>\n",
              "      <td>NaN</td>\n",
              "      <td>NaN</td>\n",
              "      <td>NaN</td>\n",
              "      <td>NaN</td>\n",
              "      <td>NaN</td>\n",
              "      <td>NaN</td>\n",
              "      <td>NaN</td>\n",
              "      <td>NaN</td>\n",
              "      <td>NaN</td>\n",
              "      <td>...</td>\n",
              "      <td>0.009265</td>\n",
              "      <td>0.066957</td>\n",
              "      <td>0.017509</td>\n",
              "      <td>0.049632</td>\n",
              "      <td>0.395387</td>\n",
              "      <td>0.039708</td>\n",
              "      <td>0.021104</td>\n",
              "      <td>0.115450</td>\n",
              "      <td>0.128724</td>\n",
              "      <td>0.096187</td>\n",
              "    </tr>\n",
              "    <tr>\n",
              "      <th>Request_URL</th>\n",
              "      <td>NaN</td>\n",
              "      <td>NaN</td>\n",
              "      <td>NaN</td>\n",
              "      <td>NaN</td>\n",
              "      <td>NaN</td>\n",
              "      <td>NaN</td>\n",
              "      <td>NaN</td>\n",
              "      <td>NaN</td>\n",
              "      <td>NaN</td>\n",
              "      <td>NaN</td>\n",
              "      <td>...</td>\n",
              "      <td>0.020452</td>\n",
              "      <td>0.004622</td>\n",
              "      <td>0.016934</td>\n",
              "      <td>0.090455</td>\n",
              "      <td>0.015933</td>\n",
              "      <td>0.161166</td>\n",
              "      <td>0.055734</td>\n",
              "      <td>0.046409</td>\n",
              "      <td>0.067109</td>\n",
              "      <td>0.035412</td>\n",
              "    </tr>\n",
              "    <tr>\n",
              "      <th>URL_of_Anchor</th>\n",
              "      <td>NaN</td>\n",
              "      <td>NaN</td>\n",
              "      <td>NaN</td>\n",
              "      <td>NaN</td>\n",
              "      <td>NaN</td>\n",
              "      <td>NaN</td>\n",
              "      <td>NaN</td>\n",
              "      <td>NaN</td>\n",
              "      <td>NaN</td>\n",
              "      <td>NaN</td>\n",
              "      <td>...</td>\n",
              "      <td>0.022168</td>\n",
              "      <td>0.041150</td>\n",
              "      <td>0.013403</td>\n",
              "      <td>0.075508</td>\n",
              "      <td>0.093288</td>\n",
              "      <td>0.326293</td>\n",
              "      <td>0.099261</td>\n",
              "      <td>0.038816</td>\n",
              "      <td>0.018651</td>\n",
              "      <td>0.077377</td>\n",
              "    </tr>\n",
              "    <tr>\n",
              "      <th>Links_in_tags</th>\n",
              "      <td>NaN</td>\n",
              "      <td>NaN</td>\n",
              "      <td>NaN</td>\n",
              "      <td>NaN</td>\n",
              "      <td>NaN</td>\n",
              "      <td>NaN</td>\n",
              "      <td>NaN</td>\n",
              "      <td>NaN</td>\n",
              "      <td>NaN</td>\n",
              "      <td>NaN</td>\n",
              "      <td>...</td>\n",
              "      <td>0.037469</td>\n",
              "      <td>0.112282</td>\n",
              "      <td>0.070030</td>\n",
              "      <td>0.078057</td>\n",
              "      <td>0.038545</td>\n",
              "      <td>0.064548</td>\n",
              "      <td>0.006450</td>\n",
              "      <td>0.045557</td>\n",
              "      <td>0.013561</td>\n",
              "      <td>0.087343</td>\n",
              "    </tr>\n",
              "    <tr>\n",
              "      <th>SFH</th>\n",
              "      <td>NaN</td>\n",
              "      <td>NaN</td>\n",
              "      <td>NaN</td>\n",
              "      <td>NaN</td>\n",
              "      <td>NaN</td>\n",
              "      <td>NaN</td>\n",
              "      <td>NaN</td>\n",
              "      <td>NaN</td>\n",
              "      <td>NaN</td>\n",
              "      <td>NaN</td>\n",
              "      <td>...</td>\n",
              "      <td>0.008467</td>\n",
              "      <td>0.004863</td>\n",
              "      <td>0.007067</td>\n",
              "      <td>0.015840</td>\n",
              "      <td>0.034440</td>\n",
              "      <td>0.052706</td>\n",
              "      <td>0.001979</td>\n",
              "      <td>0.027588</td>\n",
              "      <td>0.009068</td>\n",
              "      <td>0.005289</td>\n",
              "    </tr>\n",
              "    <tr>\n",
              "      <th>Submitting_to_email</th>\n",
              "      <td>NaN</td>\n",
              "      <td>NaN</td>\n",
              "      <td>NaN</td>\n",
              "      <td>NaN</td>\n",
              "      <td>NaN</td>\n",
              "      <td>NaN</td>\n",
              "      <td>NaN</td>\n",
              "      <td>NaN</td>\n",
              "      <td>NaN</td>\n",
              "      <td>NaN</td>\n",
              "      <td>...</td>\n",
              "      <td>0.398629</td>\n",
              "      <td>0.629462</td>\n",
              "      <td>0.577490</td>\n",
              "      <td>0.007357</td>\n",
              "      <td>0.064145</td>\n",
              "      <td>0.015685</td>\n",
              "      <td>0.026208</td>\n",
              "      <td>0.008378</td>\n",
              "      <td>0.039956</td>\n",
              "      <td>0.352074</td>\n",
              "    </tr>\n",
              "    <tr>\n",
              "      <th>Abnormal_URL</th>\n",
              "      <td>NaN</td>\n",
              "      <td>NaN</td>\n",
              "      <td>NaN</td>\n",
              "      <td>NaN</td>\n",
              "      <td>NaN</td>\n",
              "      <td>NaN</td>\n",
              "      <td>NaN</td>\n",
              "      <td>NaN</td>\n",
              "      <td>NaN</td>\n",
              "      <td>NaN</td>\n",
              "      <td>...</td>\n",
              "      <td>0.023710</td>\n",
              "      <td>0.091188</td>\n",
              "      <td>0.017590</td>\n",
              "      <td>0.032533</td>\n",
              "      <td>0.366833</td>\n",
              "      <td>0.052416</td>\n",
              "      <td>0.007318</td>\n",
              "      <td>0.124751</td>\n",
              "      <td>0.161027</td>\n",
              "      <td>0.186399</td>\n",
              "    </tr>\n",
              "    <tr>\n",
              "      <th>Redirect</th>\n",
              "      <td>NaN</td>\n",
              "      <td>NaN</td>\n",
              "      <td>NaN</td>\n",
              "      <td>NaN</td>\n",
              "      <td>NaN</td>\n",
              "      <td>NaN</td>\n",
              "      <td>NaN</td>\n",
              "      <td>NaN</td>\n",
              "      <td>NaN</td>\n",
              "      <td>NaN</td>\n",
              "      <td>...</td>\n",
              "      <td>0.023586</td>\n",
              "      <td>0.026327</td>\n",
              "      <td>0.012668</td>\n",
              "      <td>0.022476</td>\n",
              "      <td>0.211096</td>\n",
              "      <td>0.004631</td>\n",
              "      <td>0.052867</td>\n",
              "      <td>0.057230</td>\n",
              "      <td>0.161278</td>\n",
              "      <td>0.059194</td>\n",
              "    </tr>\n",
              "    <tr>\n",
              "      <th>on_mouseover</th>\n",
              "      <td>NaN</td>\n",
              "      <td>NaN</td>\n",
              "      <td>NaN</td>\n",
              "      <td>NaN</td>\n",
              "      <td>NaN</td>\n",
              "      <td>NaN</td>\n",
              "      <td>NaN</td>\n",
              "      <td>NaN</td>\n",
              "      <td>NaN</td>\n",
              "      <td>NaN</td>\n",
              "      <td>...</td>\n",
              "      <td>0.474054</td>\n",
              "      <td>0.733629</td>\n",
              "      <td>0.659478</td>\n",
              "      <td>0.013306</td>\n",
              "      <td>0.087161</td>\n",
              "      <td>0.036531</td>\n",
              "      <td>0.015634</td>\n",
              "      <td>0.006510</td>\n",
              "      <td>0.038551</td>\n",
              "      <td>0.277347</td>\n",
              "    </tr>\n",
              "    <tr>\n",
              "      <th>RightClick</th>\n",
              "      <td>NaN</td>\n",
              "      <td>NaN</td>\n",
              "      <td>NaN</td>\n",
              "      <td>NaN</td>\n",
              "      <td>NaN</td>\n",
              "      <td>NaN</td>\n",
              "      <td>NaN</td>\n",
              "      <td>NaN</td>\n",
              "      <td>NaN</td>\n",
              "      <td>NaN</td>\n",
              "      <td>...</td>\n",
              "      <td>NaN</td>\n",
              "      <td>0.415268</td>\n",
              "      <td>0.655863</td>\n",
              "      <td>0.006764</td>\n",
              "      <td>0.038255</td>\n",
              "      <td>0.013594</td>\n",
              "      <td>0.025341</td>\n",
              "      <td>0.008066</td>\n",
              "      <td>0.119831</td>\n",
              "      <td>0.204409</td>\n",
              "    </tr>\n",
              "    <tr>\n",
              "      <th>popUpWidnow</th>\n",
              "      <td>NaN</td>\n",
              "      <td>NaN</td>\n",
              "      <td>NaN</td>\n",
              "      <td>NaN</td>\n",
              "      <td>NaN</td>\n",
              "      <td>NaN</td>\n",
              "      <td>NaN</td>\n",
              "      <td>NaN</td>\n",
              "      <td>NaN</td>\n",
              "      <td>NaN</td>\n",
              "      <td>...</td>\n",
              "      <td>NaN</td>\n",
              "      <td>NaN</td>\n",
              "      <td>0.629406</td>\n",
              "      <td>0.000948</td>\n",
              "      <td>0.098658</td>\n",
              "      <td>0.043190</td>\n",
              "      <td>0.017114</td>\n",
              "      <td>0.010256</td>\n",
              "      <td>0.121325</td>\n",
              "      <td>0.285261</td>\n",
              "    </tr>\n",
              "    <tr>\n",
              "      <th>Iframe</th>\n",
              "      <td>NaN</td>\n",
              "      <td>NaN</td>\n",
              "      <td>NaN</td>\n",
              "      <td>NaN</td>\n",
              "      <td>NaN</td>\n",
              "      <td>NaN</td>\n",
              "      <td>NaN</td>\n",
              "      <td>NaN</td>\n",
              "      <td>NaN</td>\n",
              "      <td>NaN</td>\n",
              "      <td>...</td>\n",
              "      <td>NaN</td>\n",
              "      <td>NaN</td>\n",
              "      <td>NaN</td>\n",
              "      <td>0.018848</td>\n",
              "      <td>0.047293</td>\n",
              "      <td>0.022080</td>\n",
              "      <td>0.022407</td>\n",
              "      <td>0.003519</td>\n",
              "      <td>0.140824</td>\n",
              "      <td>0.268418</td>\n",
              "    </tr>\n",
              "    <tr>\n",
              "      <th>age_of_domain</th>\n",
              "      <td>NaN</td>\n",
              "      <td>NaN</td>\n",
              "      <td>NaN</td>\n",
              "      <td>NaN</td>\n",
              "      <td>NaN</td>\n",
              "      <td>NaN</td>\n",
              "      <td>NaN</td>\n",
              "      <td>NaN</td>\n",
              "      <td>NaN</td>\n",
              "      <td>NaN</td>\n",
              "      <td>...</td>\n",
              "      <td>NaN</td>\n",
              "      <td>NaN</td>\n",
              "      <td>NaN</td>\n",
              "      <td>NaN</td>\n",
              "      <td>0.034082</td>\n",
              "      <td>0.089949</td>\n",
              "      <td>0.147194</td>\n",
              "      <td>0.028471</td>\n",
              "      <td>0.040407</td>\n",
              "      <td>0.009115</td>\n",
              "    </tr>\n",
              "    <tr>\n",
              "      <th>DNSRecord</th>\n",
              "      <td>NaN</td>\n",
              "      <td>NaN</td>\n",
              "      <td>NaN</td>\n",
              "      <td>NaN</td>\n",
              "      <td>NaN</td>\n",
              "      <td>NaN</td>\n",
              "      <td>NaN</td>\n",
              "      <td>NaN</td>\n",
              "      <td>NaN</td>\n",
              "      <td>NaN</td>\n",
              "      <td>...</td>\n",
              "      <td>NaN</td>\n",
              "      <td>NaN</td>\n",
              "      <td>NaN</td>\n",
              "      <td>NaN</td>\n",
              "      <td>NaN</td>\n",
              "      <td>0.048650</td>\n",
              "      <td>0.137860</td>\n",
              "      <td>0.137509</td>\n",
              "      <td>0.318266</td>\n",
              "      <td>0.136860</td>\n",
              "    </tr>\n",
              "    <tr>\n",
              "      <th>web_traffic</th>\n",
              "      <td>NaN</td>\n",
              "      <td>NaN</td>\n",
              "      <td>NaN</td>\n",
              "      <td>NaN</td>\n",
              "      <td>NaN</td>\n",
              "      <td>NaN</td>\n",
              "      <td>NaN</td>\n",
              "      <td>NaN</td>\n",
              "      <td>NaN</td>\n",
              "      <td>NaN</td>\n",
              "      <td>...</td>\n",
              "      <td>NaN</td>\n",
              "      <td>NaN</td>\n",
              "      <td>NaN</td>\n",
              "      <td>NaN</td>\n",
              "      <td>NaN</td>\n",
              "      <td>NaN</td>\n",
              "      <td>0.030984</td>\n",
              "      <td>0.012584</td>\n",
              "      <td>0.019860</td>\n",
              "      <td>0.009223</td>\n",
              "    </tr>\n",
              "    <tr>\n",
              "      <th>Page_Rank</th>\n",
              "      <td>NaN</td>\n",
              "      <td>NaN</td>\n",
              "      <td>NaN</td>\n",
              "      <td>NaN</td>\n",
              "      <td>NaN</td>\n",
              "      <td>NaN</td>\n",
              "      <td>NaN</td>\n",
              "      <td>NaN</td>\n",
              "      <td>NaN</td>\n",
              "      <td>NaN</td>\n",
              "      <td>...</td>\n",
              "      <td>NaN</td>\n",
              "      <td>NaN</td>\n",
              "      <td>NaN</td>\n",
              "      <td>NaN</td>\n",
              "      <td>NaN</td>\n",
              "      <td>NaN</td>\n",
              "      <td>NaN</td>\n",
              "      <td>0.032431</td>\n",
              "      <td>0.028216</td>\n",
              "      <td>0.031049</td>\n",
              "    </tr>\n",
              "    <tr>\n",
              "      <th>Google_Index</th>\n",
              "      <td>NaN</td>\n",
              "      <td>NaN</td>\n",
              "      <td>NaN</td>\n",
              "      <td>NaN</td>\n",
              "      <td>NaN</td>\n",
              "      <td>NaN</td>\n",
              "      <td>NaN</td>\n",
              "      <td>NaN</td>\n",
              "      <td>NaN</td>\n",
              "      <td>NaN</td>\n",
              "      <td>...</td>\n",
              "      <td>NaN</td>\n",
              "      <td>NaN</td>\n",
              "      <td>NaN</td>\n",
              "      <td>NaN</td>\n",
              "      <td>NaN</td>\n",
              "      <td>NaN</td>\n",
              "      <td>NaN</td>\n",
              "      <td>NaN</td>\n",
              "      <td>0.038777</td>\n",
              "      <td>0.005103</td>\n",
              "    </tr>\n",
              "    <tr>\n",
              "      <th>Links_pointing_to_page</th>\n",
              "      <td>NaN</td>\n",
              "      <td>NaN</td>\n",
              "      <td>NaN</td>\n",
              "      <td>NaN</td>\n",
              "      <td>NaN</td>\n",
              "      <td>NaN</td>\n",
              "      <td>NaN</td>\n",
              "      <td>NaN</td>\n",
              "      <td>NaN</td>\n",
              "      <td>NaN</td>\n",
              "      <td>...</td>\n",
              "      <td>NaN</td>\n",
              "      <td>NaN</td>\n",
              "      <td>NaN</td>\n",
              "      <td>NaN</td>\n",
              "      <td>NaN</td>\n",
              "      <td>NaN</td>\n",
              "      <td>NaN</td>\n",
              "      <td>NaN</td>\n",
              "      <td>NaN</td>\n",
              "      <td>0.016817</td>\n",
              "    </tr>\n",
              "    <tr>\n",
              "      <th>Statistical_report</th>\n",
              "      <td>NaN</td>\n",
              "      <td>NaN</td>\n",
              "      <td>NaN</td>\n",
              "      <td>NaN</td>\n",
              "      <td>NaN</td>\n",
              "      <td>NaN</td>\n",
              "      <td>NaN</td>\n",
              "      <td>NaN</td>\n",
              "      <td>NaN</td>\n",
              "      <td>NaN</td>\n",
              "      <td>...</td>\n",
              "      <td>NaN</td>\n",
              "      <td>NaN</td>\n",
              "      <td>NaN</td>\n",
              "      <td>NaN</td>\n",
              "      <td>NaN</td>\n",
              "      <td>NaN</td>\n",
              "      <td>NaN</td>\n",
              "      <td>NaN</td>\n",
              "      <td>NaN</td>\n",
              "      <td>NaN</td>\n",
              "    </tr>\n",
              "  </tbody>\n",
              "</table>\n",
              "<p>30 rows × 30 columns</p>\n",
              "</div>\n",
              "      <button class=\"colab-df-convert\" onclick=\"convertToInteractive('df-d243ceba-6443-4c21-9300-966c529e88f6')\"\n",
              "              title=\"Convert this dataframe to an interactive table.\"\n",
              "              style=\"display:none;\">\n",
              "        \n",
              "  <svg xmlns=\"http://www.w3.org/2000/svg\" height=\"24px\"viewBox=\"0 0 24 24\"\n",
              "       width=\"24px\">\n",
              "    <path d=\"M0 0h24v24H0V0z\" fill=\"none\"/>\n",
              "    <path d=\"M18.56 5.44l.94 2.06.94-2.06 2.06-.94-2.06-.94-.94-2.06-.94 2.06-2.06.94zm-11 1L8.5 8.5l.94-2.06 2.06-.94-2.06-.94L8.5 2.5l-.94 2.06-2.06.94zm10 10l.94 2.06.94-2.06 2.06-.94-2.06-.94-.94-2.06-.94 2.06-2.06.94z\"/><path d=\"M17.41 7.96l-1.37-1.37c-.4-.4-.92-.59-1.43-.59-.52 0-1.04.2-1.43.59L10.3 9.45l-7.72 7.72c-.78.78-.78 2.05 0 2.83L4 21.41c.39.39.9.59 1.41.59.51 0 1.02-.2 1.41-.59l7.78-7.78 2.81-2.81c.8-.78.8-2.07 0-2.86zM5.41 20L4 18.59l7.72-7.72 1.47 1.35L5.41 20z\"/>\n",
              "  </svg>\n",
              "      </button>\n",
              "      \n",
              "  <style>\n",
              "    .colab-df-container {\n",
              "      display:flex;\n",
              "      flex-wrap:wrap;\n",
              "      gap: 12px;\n",
              "    }\n",
              "\n",
              "    .colab-df-convert {\n",
              "      background-color: #E8F0FE;\n",
              "      border: none;\n",
              "      border-radius: 50%;\n",
              "      cursor: pointer;\n",
              "      display: none;\n",
              "      fill: #1967D2;\n",
              "      height: 32px;\n",
              "      padding: 0 0 0 0;\n",
              "      width: 32px;\n",
              "    }\n",
              "\n",
              "    .colab-df-convert:hover {\n",
              "      background-color: #E2EBFA;\n",
              "      box-shadow: 0px 1px 2px rgba(60, 64, 67, 0.3), 0px 1px 3px 1px rgba(60, 64, 67, 0.15);\n",
              "      fill: #174EA6;\n",
              "    }\n",
              "\n",
              "    [theme=dark] .colab-df-convert {\n",
              "      background-color: #3B4455;\n",
              "      fill: #D2E3FC;\n",
              "    }\n",
              "\n",
              "    [theme=dark] .colab-df-convert:hover {\n",
              "      background-color: #434B5C;\n",
              "      box-shadow: 0px 1px 3px 1px rgba(0, 0, 0, 0.15);\n",
              "      filter: drop-shadow(0px 1px 2px rgba(0, 0, 0, 0.3));\n",
              "      fill: #FFFFFF;\n",
              "    }\n",
              "  </style>\n",
              "\n",
              "      <script>\n",
              "        const buttonEl =\n",
              "          document.querySelector('#df-d243ceba-6443-4c21-9300-966c529e88f6 button.colab-df-convert');\n",
              "        buttonEl.style.display =\n",
              "          google.colab.kernel.accessAllowed ? 'block' : 'none';\n",
              "\n",
              "        async function convertToInteractive(key) {\n",
              "          const element = document.querySelector('#df-d243ceba-6443-4c21-9300-966c529e88f6');\n",
              "          const dataTable =\n",
              "            await google.colab.kernel.invokeFunction('convertToInteractive',\n",
              "                                                     [key], {});\n",
              "          if (!dataTable) return;\n",
              "\n",
              "          const docLinkHtml = 'Like what you see? Visit the ' +\n",
              "            '<a target=\"_blank\" href=https://colab.research.google.com/notebooks/data_table.ipynb>data table notebook</a>'\n",
              "            + ' to learn more about interactive tables.';\n",
              "          element.innerHTML = '';\n",
              "          dataTable['output_type'] = 'display_data';\n",
              "          await google.colab.output.renderOutput(dataTable, element);\n",
              "          const docLink = document.createElement('div');\n",
              "          docLink.innerHTML = docLinkHtml;\n",
              "          element.appendChild(docLink);\n",
              "        }\n",
              "      </script>\n",
              "    </div>\n",
              "  </div>\n",
              "  "
            ]
          },
          "metadata": {},
          "execution_count": 11
        }
      ]
    },
    {
      "cell_type": "markdown",
      "source": [
        "We need to find the independent variables which are highly correlated among themselves. This means there is redundant data. We need to drop these redundant columns. Lets set the threshold as 0.75 and select the columns that are having correlation greater than 0.75. These columns must be dropped from the dataframe."
      ],
      "metadata": {
        "id": "un6sDQeKJHC0"
      }
    },
    {
      "cell_type": "markdown",
      "source": [
        "## Remove highly correlated features"
      ],
      "metadata": {
        "id": "Fx9vdnz6AwGy"
      }
    },
    {
      "cell_type": "code",
      "source": [
        "to_drop = [column for column in upper_tri.columns if any(upper_tri[column] > 0.75)]\n",
        "to_drop"
      ],
      "metadata": {
        "colab": {
          "base_uri": "https://localhost:8080/"
        },
        "id": "qaZFffjSiYRJ",
        "outputId": "cf3921f0-1da3-4976-95d1-2cc6ed01cee0"
      },
      "execution_count": 12,
      "outputs": [
        {
          "output_type": "execute_result",
          "data": {
            "text/plain": [
              "['double_slash_redirecting',\n",
              " 'port',\n",
              " 'HTTPS_token',\n",
              " 'Submitting_to_email',\n",
              " 'popUpWidnow']"
            ]
          },
          "metadata": {},
          "execution_count": 12
        }
      ]
    },
    {
      "cell_type": "markdown",
      "source": [
        "The above code returned five columns which are highly correlated among themselves. We will be dropping these columns from the dataframe."
      ],
      "metadata": {
        "id": "ZYIiKSiYzN86"
      }
    },
    {
      "cell_type": "code",
      "source": [
        "new_df.drop(to_drop,axis=1,inplace=True)"
      ],
      "metadata": {
        "id": "jGfGR6VvsR8M"
      },
      "execution_count": 13,
      "outputs": []
    },
    {
      "cell_type": "code",
      "source": [
        "new_df"
      ],
      "metadata": {
        "colab": {
          "base_uri": "https://localhost:8080/",
          "height": 487
        },
        "id": "LIZKZyXOm4f-",
        "outputId": "5a906ea4-325a-485a-eeed-49363c2e50bb"
      },
      "execution_count": 14,
      "outputs": [
        {
          "output_type": "execute_result",
          "data": {
            "text/plain": [
              "       having_IPhaving_IP_Address  URLURL_Length  Shortining_Service  \\\n",
              "0                              -1              1                   1   \n",
              "1                               1              1                   1   \n",
              "2                               1              0                   1   \n",
              "3                               1              0                   1   \n",
              "4                               1              0                  -1   \n",
              "...                           ...            ...                 ...   \n",
              "11050                           1             -1                   1   \n",
              "11051                          -1              1                   1   \n",
              "11052                           1             -1                   1   \n",
              "11053                          -1             -1                   1   \n",
              "11054                          -1             -1                   1   \n",
              "\n",
              "       having_At_Symbol  Prefix_Suffix  having_Sub_Domain  SSLfinal_State  \\\n",
              "0                     1             -1                 -1              -1   \n",
              "1                     1             -1                  0               1   \n",
              "2                     1             -1                 -1              -1   \n",
              "3                     1             -1                 -1              -1   \n",
              "4                     1             -1                  1               1   \n",
              "...                 ...            ...                ...             ...   \n",
              "11050                -1              1                  1               1   \n",
              "11051                -1             -1                  1              -1   \n",
              "11052                 1             -1                  1              -1   \n",
              "11053                 1             -1                 -1              -1   \n",
              "11054                 1             -1                 -1              -1   \n",
              "\n",
              "       Domain_registeration_length  Favicon  Request_URL  ...  on_mouseover  \\\n",
              "0                               -1        1            1  ...             1   \n",
              "1                               -1        1            1  ...             1   \n",
              "2                               -1        1            1  ...             1   \n",
              "3                                1        1           -1  ...             1   \n",
              "4                               -1        1            1  ...            -1   \n",
              "...                            ...      ...          ...  ...           ...   \n",
              "11050                           -1       -1            1  ...            -1   \n",
              "11051                           -1       -1            1  ...            -1   \n",
              "11052                           -1        1            1  ...             1   \n",
              "11053                            1       -1           -1  ...            -1   \n",
              "11054                            1        1           -1  ...             1   \n",
              "\n",
              "       RightClick  Iframe  age_of_domain  DNSRecord  web_traffic  Page_Rank  \\\n",
              "0               1       1             -1         -1           -1         -1   \n",
              "1               1       1             -1         -1            0         -1   \n",
              "2               1       1              1         -1            1         -1   \n",
              "3               1       1             -1         -1            1         -1   \n",
              "4               1       1             -1         -1            0         -1   \n",
              "...           ...     ...            ...        ...          ...        ...   \n",
              "11050          -1      -1              1          1           -1         -1   \n",
              "11051           1       1              1          1            1          1   \n",
              "11052           1       1              1          1            1         -1   \n",
              "11053           1       1              1          1            1         -1   \n",
              "11054           1       1             -1          1           -1         -1   \n",
              "\n",
              "       Google_Index  Links_pointing_to_page  Statistical_report  \n",
              "0                 1                       1                  -1  \n",
              "1                 1                       1                   1  \n",
              "2                 1                       0                  -1  \n",
              "3                 1                      -1                   1  \n",
              "4                 1                       1                   1  \n",
              "...             ...                     ...                 ...  \n",
              "11050             1                       1                   1  \n",
              "11051             1                      -1                   1  \n",
              "11052             1                       0                   1  \n",
              "11053             1                       1                   1  \n",
              "11054            -1                       1                  -1  \n",
              "\n",
              "[11055 rows x 25 columns]"
            ],
            "text/html": [
              "\n",
              "  <div id=\"df-3a757f98-4b4f-481d-8dd2-cb060601c811\">\n",
              "    <div class=\"colab-df-container\">\n",
              "      <div>\n",
              "<style scoped>\n",
              "    .dataframe tbody tr th:only-of-type {\n",
              "        vertical-align: middle;\n",
              "    }\n",
              "\n",
              "    .dataframe tbody tr th {\n",
              "        vertical-align: top;\n",
              "    }\n",
              "\n",
              "    .dataframe thead th {\n",
              "        text-align: right;\n",
              "    }\n",
              "</style>\n",
              "<table border=\"1\" class=\"dataframe\">\n",
              "  <thead>\n",
              "    <tr style=\"text-align: right;\">\n",
              "      <th></th>\n",
              "      <th>having_IPhaving_IP_Address</th>\n",
              "      <th>URLURL_Length</th>\n",
              "      <th>Shortining_Service</th>\n",
              "      <th>having_At_Symbol</th>\n",
              "      <th>Prefix_Suffix</th>\n",
              "      <th>having_Sub_Domain</th>\n",
              "      <th>SSLfinal_State</th>\n",
              "      <th>Domain_registeration_length</th>\n",
              "      <th>Favicon</th>\n",
              "      <th>Request_URL</th>\n",
              "      <th>...</th>\n",
              "      <th>on_mouseover</th>\n",
              "      <th>RightClick</th>\n",
              "      <th>Iframe</th>\n",
              "      <th>age_of_domain</th>\n",
              "      <th>DNSRecord</th>\n",
              "      <th>web_traffic</th>\n",
              "      <th>Page_Rank</th>\n",
              "      <th>Google_Index</th>\n",
              "      <th>Links_pointing_to_page</th>\n",
              "      <th>Statistical_report</th>\n",
              "    </tr>\n",
              "  </thead>\n",
              "  <tbody>\n",
              "    <tr>\n",
              "      <th>0</th>\n",
              "      <td>-1</td>\n",
              "      <td>1</td>\n",
              "      <td>1</td>\n",
              "      <td>1</td>\n",
              "      <td>-1</td>\n",
              "      <td>-1</td>\n",
              "      <td>-1</td>\n",
              "      <td>-1</td>\n",
              "      <td>1</td>\n",
              "      <td>1</td>\n",
              "      <td>...</td>\n",
              "      <td>1</td>\n",
              "      <td>1</td>\n",
              "      <td>1</td>\n",
              "      <td>-1</td>\n",
              "      <td>-1</td>\n",
              "      <td>-1</td>\n",
              "      <td>-1</td>\n",
              "      <td>1</td>\n",
              "      <td>1</td>\n",
              "      <td>-1</td>\n",
              "    </tr>\n",
              "    <tr>\n",
              "      <th>1</th>\n",
              "      <td>1</td>\n",
              "      <td>1</td>\n",
              "      <td>1</td>\n",
              "      <td>1</td>\n",
              "      <td>-1</td>\n",
              "      <td>0</td>\n",
              "      <td>1</td>\n",
              "      <td>-1</td>\n",
              "      <td>1</td>\n",
              "      <td>1</td>\n",
              "      <td>...</td>\n",
              "      <td>1</td>\n",
              "      <td>1</td>\n",
              "      <td>1</td>\n",
              "      <td>-1</td>\n",
              "      <td>-1</td>\n",
              "      <td>0</td>\n",
              "      <td>-1</td>\n",
              "      <td>1</td>\n",
              "      <td>1</td>\n",
              "      <td>1</td>\n",
              "    </tr>\n",
              "    <tr>\n",
              "      <th>2</th>\n",
              "      <td>1</td>\n",
              "      <td>0</td>\n",
              "      <td>1</td>\n",
              "      <td>1</td>\n",
              "      <td>-1</td>\n",
              "      <td>-1</td>\n",
              "      <td>-1</td>\n",
              "      <td>-1</td>\n",
              "      <td>1</td>\n",
              "      <td>1</td>\n",
              "      <td>...</td>\n",
              "      <td>1</td>\n",
              "      <td>1</td>\n",
              "      <td>1</td>\n",
              "      <td>1</td>\n",
              "      <td>-1</td>\n",
              "      <td>1</td>\n",
              "      <td>-1</td>\n",
              "      <td>1</td>\n",
              "      <td>0</td>\n",
              "      <td>-1</td>\n",
              "    </tr>\n",
              "    <tr>\n",
              "      <th>3</th>\n",
              "      <td>1</td>\n",
              "      <td>0</td>\n",
              "      <td>1</td>\n",
              "      <td>1</td>\n",
              "      <td>-1</td>\n",
              "      <td>-1</td>\n",
              "      <td>-1</td>\n",
              "      <td>1</td>\n",
              "      <td>1</td>\n",
              "      <td>-1</td>\n",
              "      <td>...</td>\n",
              "      <td>1</td>\n",
              "      <td>1</td>\n",
              "      <td>1</td>\n",
              "      <td>-1</td>\n",
              "      <td>-1</td>\n",
              "      <td>1</td>\n",
              "      <td>-1</td>\n",
              "      <td>1</td>\n",
              "      <td>-1</td>\n",
              "      <td>1</td>\n",
              "    </tr>\n",
              "    <tr>\n",
              "      <th>4</th>\n",
              "      <td>1</td>\n",
              "      <td>0</td>\n",
              "      <td>-1</td>\n",
              "      <td>1</td>\n",
              "      <td>-1</td>\n",
              "      <td>1</td>\n",
              "      <td>1</td>\n",
              "      <td>-1</td>\n",
              "      <td>1</td>\n",
              "      <td>1</td>\n",
              "      <td>...</td>\n",
              "      <td>-1</td>\n",
              "      <td>1</td>\n",
              "      <td>1</td>\n",
              "      <td>-1</td>\n",
              "      <td>-1</td>\n",
              "      <td>0</td>\n",
              "      <td>-1</td>\n",
              "      <td>1</td>\n",
              "      <td>1</td>\n",
              "      <td>1</td>\n",
              "    </tr>\n",
              "    <tr>\n",
              "      <th>...</th>\n",
              "      <td>...</td>\n",
              "      <td>...</td>\n",
              "      <td>...</td>\n",
              "      <td>...</td>\n",
              "      <td>...</td>\n",
              "      <td>...</td>\n",
              "      <td>...</td>\n",
              "      <td>...</td>\n",
              "      <td>...</td>\n",
              "      <td>...</td>\n",
              "      <td>...</td>\n",
              "      <td>...</td>\n",
              "      <td>...</td>\n",
              "      <td>...</td>\n",
              "      <td>...</td>\n",
              "      <td>...</td>\n",
              "      <td>...</td>\n",
              "      <td>...</td>\n",
              "      <td>...</td>\n",
              "      <td>...</td>\n",
              "      <td>...</td>\n",
              "    </tr>\n",
              "    <tr>\n",
              "      <th>11050</th>\n",
              "      <td>1</td>\n",
              "      <td>-1</td>\n",
              "      <td>1</td>\n",
              "      <td>-1</td>\n",
              "      <td>1</td>\n",
              "      <td>1</td>\n",
              "      <td>1</td>\n",
              "      <td>-1</td>\n",
              "      <td>-1</td>\n",
              "      <td>1</td>\n",
              "      <td>...</td>\n",
              "      <td>-1</td>\n",
              "      <td>-1</td>\n",
              "      <td>-1</td>\n",
              "      <td>1</td>\n",
              "      <td>1</td>\n",
              "      <td>-1</td>\n",
              "      <td>-1</td>\n",
              "      <td>1</td>\n",
              "      <td>1</td>\n",
              "      <td>1</td>\n",
              "    </tr>\n",
              "    <tr>\n",
              "      <th>11051</th>\n",
              "      <td>-1</td>\n",
              "      <td>1</td>\n",
              "      <td>1</td>\n",
              "      <td>-1</td>\n",
              "      <td>-1</td>\n",
              "      <td>1</td>\n",
              "      <td>-1</td>\n",
              "      <td>-1</td>\n",
              "      <td>-1</td>\n",
              "      <td>1</td>\n",
              "      <td>...</td>\n",
              "      <td>-1</td>\n",
              "      <td>1</td>\n",
              "      <td>1</td>\n",
              "      <td>1</td>\n",
              "      <td>1</td>\n",
              "      <td>1</td>\n",
              "      <td>1</td>\n",
              "      <td>1</td>\n",
              "      <td>-1</td>\n",
              "      <td>1</td>\n",
              "    </tr>\n",
              "    <tr>\n",
              "      <th>11052</th>\n",
              "      <td>1</td>\n",
              "      <td>-1</td>\n",
              "      <td>1</td>\n",
              "      <td>1</td>\n",
              "      <td>-1</td>\n",
              "      <td>1</td>\n",
              "      <td>-1</td>\n",
              "      <td>-1</td>\n",
              "      <td>1</td>\n",
              "      <td>1</td>\n",
              "      <td>...</td>\n",
              "      <td>1</td>\n",
              "      <td>1</td>\n",
              "      <td>1</td>\n",
              "      <td>1</td>\n",
              "      <td>1</td>\n",
              "      <td>1</td>\n",
              "      <td>-1</td>\n",
              "      <td>1</td>\n",
              "      <td>0</td>\n",
              "      <td>1</td>\n",
              "    </tr>\n",
              "    <tr>\n",
              "      <th>11053</th>\n",
              "      <td>-1</td>\n",
              "      <td>-1</td>\n",
              "      <td>1</td>\n",
              "      <td>1</td>\n",
              "      <td>-1</td>\n",
              "      <td>-1</td>\n",
              "      <td>-1</td>\n",
              "      <td>1</td>\n",
              "      <td>-1</td>\n",
              "      <td>-1</td>\n",
              "      <td>...</td>\n",
              "      <td>-1</td>\n",
              "      <td>1</td>\n",
              "      <td>1</td>\n",
              "      <td>1</td>\n",
              "      <td>1</td>\n",
              "      <td>1</td>\n",
              "      <td>-1</td>\n",
              "      <td>1</td>\n",
              "      <td>1</td>\n",
              "      <td>1</td>\n",
              "    </tr>\n",
              "    <tr>\n",
              "      <th>11054</th>\n",
              "      <td>-1</td>\n",
              "      <td>-1</td>\n",
              "      <td>1</td>\n",
              "      <td>1</td>\n",
              "      <td>-1</td>\n",
              "      <td>-1</td>\n",
              "      <td>-1</td>\n",
              "      <td>1</td>\n",
              "      <td>1</td>\n",
              "      <td>-1</td>\n",
              "      <td>...</td>\n",
              "      <td>1</td>\n",
              "      <td>1</td>\n",
              "      <td>1</td>\n",
              "      <td>-1</td>\n",
              "      <td>1</td>\n",
              "      <td>-1</td>\n",
              "      <td>-1</td>\n",
              "      <td>-1</td>\n",
              "      <td>1</td>\n",
              "      <td>-1</td>\n",
              "    </tr>\n",
              "  </tbody>\n",
              "</table>\n",
              "<p>11055 rows × 25 columns</p>\n",
              "</div>\n",
              "      <button class=\"colab-df-convert\" onclick=\"convertToInteractive('df-3a757f98-4b4f-481d-8dd2-cb060601c811')\"\n",
              "              title=\"Convert this dataframe to an interactive table.\"\n",
              "              style=\"display:none;\">\n",
              "        \n",
              "  <svg xmlns=\"http://www.w3.org/2000/svg\" height=\"24px\"viewBox=\"0 0 24 24\"\n",
              "       width=\"24px\">\n",
              "    <path d=\"M0 0h24v24H0V0z\" fill=\"none\"/>\n",
              "    <path d=\"M18.56 5.44l.94 2.06.94-2.06 2.06-.94-2.06-.94-.94-2.06-.94 2.06-2.06.94zm-11 1L8.5 8.5l.94-2.06 2.06-.94-2.06-.94L8.5 2.5l-.94 2.06-2.06.94zm10 10l.94 2.06.94-2.06 2.06-.94-2.06-.94-.94-2.06-.94 2.06-2.06.94z\"/><path d=\"M17.41 7.96l-1.37-1.37c-.4-.4-.92-.59-1.43-.59-.52 0-1.04.2-1.43.59L10.3 9.45l-7.72 7.72c-.78.78-.78 2.05 0 2.83L4 21.41c.39.39.9.59 1.41.59.51 0 1.02-.2 1.41-.59l7.78-7.78 2.81-2.81c.8-.78.8-2.07 0-2.86zM5.41 20L4 18.59l7.72-7.72 1.47 1.35L5.41 20z\"/>\n",
              "  </svg>\n",
              "      </button>\n",
              "      \n",
              "  <style>\n",
              "    .colab-df-container {\n",
              "      display:flex;\n",
              "      flex-wrap:wrap;\n",
              "      gap: 12px;\n",
              "    }\n",
              "\n",
              "    .colab-df-convert {\n",
              "      background-color: #E8F0FE;\n",
              "      border: none;\n",
              "      border-radius: 50%;\n",
              "      cursor: pointer;\n",
              "      display: none;\n",
              "      fill: #1967D2;\n",
              "      height: 32px;\n",
              "      padding: 0 0 0 0;\n",
              "      width: 32px;\n",
              "    }\n",
              "\n",
              "    .colab-df-convert:hover {\n",
              "      background-color: #E2EBFA;\n",
              "      box-shadow: 0px 1px 2px rgba(60, 64, 67, 0.3), 0px 1px 3px 1px rgba(60, 64, 67, 0.15);\n",
              "      fill: #174EA6;\n",
              "    }\n",
              "\n",
              "    [theme=dark] .colab-df-convert {\n",
              "      background-color: #3B4455;\n",
              "      fill: #D2E3FC;\n",
              "    }\n",
              "\n",
              "    [theme=dark] .colab-df-convert:hover {\n",
              "      background-color: #434B5C;\n",
              "      box-shadow: 0px 1px 3px 1px rgba(0, 0, 0, 0.15);\n",
              "      filter: drop-shadow(0px 1px 2px rgba(0, 0, 0, 0.3));\n",
              "      fill: #FFFFFF;\n",
              "    }\n",
              "  </style>\n",
              "\n",
              "      <script>\n",
              "        const buttonEl =\n",
              "          document.querySelector('#df-3a757f98-4b4f-481d-8dd2-cb060601c811 button.colab-df-convert');\n",
              "        buttonEl.style.display =\n",
              "          google.colab.kernel.accessAllowed ? 'block' : 'none';\n",
              "\n",
              "        async function convertToInteractive(key) {\n",
              "          const element = document.querySelector('#df-3a757f98-4b4f-481d-8dd2-cb060601c811');\n",
              "          const dataTable =\n",
              "            await google.colab.kernel.invokeFunction('convertToInteractive',\n",
              "                                                     [key], {});\n",
              "          if (!dataTable) return;\n",
              "\n",
              "          const docLinkHtml = 'Like what you see? Visit the ' +\n",
              "            '<a target=\"_blank\" href=https://colab.research.google.com/notebooks/data_table.ipynb>data table notebook</a>'\n",
              "            + ' to learn more about interactive tables.';\n",
              "          element.innerHTML = '';\n",
              "          dataTable['output_type'] = 'display_data';\n",
              "          await google.colab.output.renderOutput(dataTable, element);\n",
              "          const docLink = document.createElement('div');\n",
              "          docLink.innerHTML = docLinkHtml;\n",
              "          element.appendChild(docLink);\n",
              "        }\n",
              "      </script>\n",
              "    </div>\n",
              "  </div>\n",
              "  "
            ]
          },
          "metadata": {},
          "execution_count": 14
        }
      ]
    },
    {
      "cell_type": "markdown",
      "source": [
        "The redundant columns have been dropped now."
      ],
      "metadata": {
        "id": "1QTJC5V1Y1GK"
      }
    },
    {
      "cell_type": "markdown",
      "source": [
        "## Remove weak correlated features to target"
      ],
      "metadata": {
        "id": "tkWOInT-_QMf"
      }
    },
    {
      "cell_type": "code",
      "source": [
        "corr_values = df.corr()['Result'].abs().sort_values(ascending=False)\n",
        "corr_values"
      ],
      "metadata": {
        "colab": {
          "base_uri": "https://localhost:8080/"
        },
        "id": "pcCmEm4_tHMZ",
        "outputId": "b7d4231a-70fd-44ce-82d4-3b9ead00f9a1"
      },
      "execution_count": 15,
      "outputs": [
        {
          "output_type": "execute_result",
          "data": {
            "text/plain": [
              "Result                         1.000000\n",
              "SSLfinal_State                 0.714741\n",
              "URL_of_Anchor                  0.692935\n",
              "Prefix_Suffix                  0.348606\n",
              "web_traffic                    0.346103\n",
              "having_Sub_Domain              0.298323\n",
              "Request_URL                    0.253372\n",
              "Links_in_tags                  0.248229\n",
              "Domain_registeration_length    0.225789\n",
              "SFH                            0.221419\n",
              "Google_Index                   0.128950\n",
              "age_of_domain                  0.121496\n",
              "Page_Rank                      0.104645\n",
              "having_IPhaving_IP_Address     0.094160\n",
              "Statistical_report             0.079857\n",
              "DNSRecord                      0.075718\n",
              "Shortining_Service             0.067966\n",
              "Abnormal_URL                   0.060488\n",
              "URLURL_Length                  0.057430\n",
              "having_At_Symbol               0.052948\n",
              "on_mouseover                   0.041838\n",
              "HTTPS_token                    0.039854\n",
              "double_slash_redirecting       0.038608\n",
              "port                           0.036419\n",
              "Links_pointing_to_page         0.032574\n",
              "Redirect                       0.020113\n",
              "Submitting_to_email            0.018249\n",
              "RightClick                     0.012653\n",
              "Iframe                         0.003394\n",
              "index                          0.000978\n",
              "Favicon                        0.000280\n",
              "popUpWidnow                    0.000086\n",
              "Name: Result, dtype: float64"
            ]
          },
          "metadata": {},
          "execution_count": 15
        }
      ]
    },
    {
      "cell_type": "code",
      "source": [
        ""
      ],
      "metadata": {
        "id": "EdthVrJ31Wh2"
      },
      "execution_count": 15,
      "outputs": []
    },
    {
      "cell_type": "markdown",
      "source": [
        "\"Result\" is having strong correlation with \"SSLfinal_State\" and URL_of_Anchor. 'Redirect', 'RightClick', 'Iframe', 'Favicon' are having a weak correlation with \"Result\"."
      ],
      "metadata": {
        "id": "C8Pg-PSywLy4"
      }
    },
    {
      "cell_type": "code",
      "source": [
        "new_df.drop(['Redirect', 'RightClick', 'Iframe', 'Favicon'],axis=1,inplace=True)"
      ],
      "metadata": {
        "id": "Jn1f8a6PvG8g"
      },
      "execution_count": 16,
      "outputs": []
    },
    {
      "cell_type": "markdown",
      "source": [
        "We dropped the columns which have correlation less than or equal to 0.03. These columns have very little significance to the Result column. "
      ],
      "metadata": {
        "id": "T2EeZPQg1E_N"
      }
    },
    {
      "cell_type": "code",
      "source": [
        "new_df.head()"
      ],
      "metadata": {
        "colab": {
          "base_uri": "https://localhost:8080/",
          "height": 299
        },
        "id": "sSnjXfrIwovd",
        "outputId": "c88ed93f-c3d0-4c15-da1a-a67b0e2a3d81"
      },
      "execution_count": 17,
      "outputs": [
        {
          "output_type": "execute_result",
          "data": {
            "text/plain": [
              "   having_IPhaving_IP_Address  URLURL_Length  Shortining_Service  \\\n",
              "0                          -1              1                   1   \n",
              "1                           1              1                   1   \n",
              "2                           1              0                   1   \n",
              "3                           1              0                   1   \n",
              "4                           1              0                  -1   \n",
              "\n",
              "   having_At_Symbol  Prefix_Suffix  having_Sub_Domain  SSLfinal_State  \\\n",
              "0                 1             -1                 -1              -1   \n",
              "1                 1             -1                  0               1   \n",
              "2                 1             -1                 -1              -1   \n",
              "3                 1             -1                 -1              -1   \n",
              "4                 1             -1                  1               1   \n",
              "\n",
              "   Domain_registeration_length  Request_URL  URL_of_Anchor  ...  SFH  \\\n",
              "0                           -1            1             -1  ...   -1   \n",
              "1                           -1            1              0  ...   -1   \n",
              "2                           -1            1              0  ...   -1   \n",
              "3                            1           -1              0  ...   -1   \n",
              "4                           -1            1              0  ...   -1   \n",
              "\n",
              "   Abnormal_URL  on_mouseover  age_of_domain  DNSRecord  web_traffic  \\\n",
              "0            -1             1             -1         -1           -1   \n",
              "1             1             1             -1         -1            0   \n",
              "2            -1             1              1         -1            1   \n",
              "3             1             1             -1         -1            1   \n",
              "4             1            -1             -1         -1            0   \n",
              "\n",
              "   Page_Rank  Google_Index  Links_pointing_to_page  Statistical_report  \n",
              "0         -1             1                       1                  -1  \n",
              "1         -1             1                       1                   1  \n",
              "2         -1             1                       0                  -1  \n",
              "3         -1             1                      -1                   1  \n",
              "4         -1             1                       1                   1  \n",
              "\n",
              "[5 rows x 21 columns]"
            ],
            "text/html": [
              "\n",
              "  <div id=\"df-01664aab-6015-47eb-b666-946425b32f68\">\n",
              "    <div class=\"colab-df-container\">\n",
              "      <div>\n",
              "<style scoped>\n",
              "    .dataframe tbody tr th:only-of-type {\n",
              "        vertical-align: middle;\n",
              "    }\n",
              "\n",
              "    .dataframe tbody tr th {\n",
              "        vertical-align: top;\n",
              "    }\n",
              "\n",
              "    .dataframe thead th {\n",
              "        text-align: right;\n",
              "    }\n",
              "</style>\n",
              "<table border=\"1\" class=\"dataframe\">\n",
              "  <thead>\n",
              "    <tr style=\"text-align: right;\">\n",
              "      <th></th>\n",
              "      <th>having_IPhaving_IP_Address</th>\n",
              "      <th>URLURL_Length</th>\n",
              "      <th>Shortining_Service</th>\n",
              "      <th>having_At_Symbol</th>\n",
              "      <th>Prefix_Suffix</th>\n",
              "      <th>having_Sub_Domain</th>\n",
              "      <th>SSLfinal_State</th>\n",
              "      <th>Domain_registeration_length</th>\n",
              "      <th>Request_URL</th>\n",
              "      <th>URL_of_Anchor</th>\n",
              "      <th>...</th>\n",
              "      <th>SFH</th>\n",
              "      <th>Abnormal_URL</th>\n",
              "      <th>on_mouseover</th>\n",
              "      <th>age_of_domain</th>\n",
              "      <th>DNSRecord</th>\n",
              "      <th>web_traffic</th>\n",
              "      <th>Page_Rank</th>\n",
              "      <th>Google_Index</th>\n",
              "      <th>Links_pointing_to_page</th>\n",
              "      <th>Statistical_report</th>\n",
              "    </tr>\n",
              "  </thead>\n",
              "  <tbody>\n",
              "    <tr>\n",
              "      <th>0</th>\n",
              "      <td>-1</td>\n",
              "      <td>1</td>\n",
              "      <td>1</td>\n",
              "      <td>1</td>\n",
              "      <td>-1</td>\n",
              "      <td>-1</td>\n",
              "      <td>-1</td>\n",
              "      <td>-1</td>\n",
              "      <td>1</td>\n",
              "      <td>-1</td>\n",
              "      <td>...</td>\n",
              "      <td>-1</td>\n",
              "      <td>-1</td>\n",
              "      <td>1</td>\n",
              "      <td>-1</td>\n",
              "      <td>-1</td>\n",
              "      <td>-1</td>\n",
              "      <td>-1</td>\n",
              "      <td>1</td>\n",
              "      <td>1</td>\n",
              "      <td>-1</td>\n",
              "    </tr>\n",
              "    <tr>\n",
              "      <th>1</th>\n",
              "      <td>1</td>\n",
              "      <td>1</td>\n",
              "      <td>1</td>\n",
              "      <td>1</td>\n",
              "      <td>-1</td>\n",
              "      <td>0</td>\n",
              "      <td>1</td>\n",
              "      <td>-1</td>\n",
              "      <td>1</td>\n",
              "      <td>0</td>\n",
              "      <td>...</td>\n",
              "      <td>-1</td>\n",
              "      <td>1</td>\n",
              "      <td>1</td>\n",
              "      <td>-1</td>\n",
              "      <td>-1</td>\n",
              "      <td>0</td>\n",
              "      <td>-1</td>\n",
              "      <td>1</td>\n",
              "      <td>1</td>\n",
              "      <td>1</td>\n",
              "    </tr>\n",
              "    <tr>\n",
              "      <th>2</th>\n",
              "      <td>1</td>\n",
              "      <td>0</td>\n",
              "      <td>1</td>\n",
              "      <td>1</td>\n",
              "      <td>-1</td>\n",
              "      <td>-1</td>\n",
              "      <td>-1</td>\n",
              "      <td>-1</td>\n",
              "      <td>1</td>\n",
              "      <td>0</td>\n",
              "      <td>...</td>\n",
              "      <td>-1</td>\n",
              "      <td>-1</td>\n",
              "      <td>1</td>\n",
              "      <td>1</td>\n",
              "      <td>-1</td>\n",
              "      <td>1</td>\n",
              "      <td>-1</td>\n",
              "      <td>1</td>\n",
              "      <td>0</td>\n",
              "      <td>-1</td>\n",
              "    </tr>\n",
              "    <tr>\n",
              "      <th>3</th>\n",
              "      <td>1</td>\n",
              "      <td>0</td>\n",
              "      <td>1</td>\n",
              "      <td>1</td>\n",
              "      <td>-1</td>\n",
              "      <td>-1</td>\n",
              "      <td>-1</td>\n",
              "      <td>1</td>\n",
              "      <td>-1</td>\n",
              "      <td>0</td>\n",
              "      <td>...</td>\n",
              "      <td>-1</td>\n",
              "      <td>1</td>\n",
              "      <td>1</td>\n",
              "      <td>-1</td>\n",
              "      <td>-1</td>\n",
              "      <td>1</td>\n",
              "      <td>-1</td>\n",
              "      <td>1</td>\n",
              "      <td>-1</td>\n",
              "      <td>1</td>\n",
              "    </tr>\n",
              "    <tr>\n",
              "      <th>4</th>\n",
              "      <td>1</td>\n",
              "      <td>0</td>\n",
              "      <td>-1</td>\n",
              "      <td>1</td>\n",
              "      <td>-1</td>\n",
              "      <td>1</td>\n",
              "      <td>1</td>\n",
              "      <td>-1</td>\n",
              "      <td>1</td>\n",
              "      <td>0</td>\n",
              "      <td>...</td>\n",
              "      <td>-1</td>\n",
              "      <td>1</td>\n",
              "      <td>-1</td>\n",
              "      <td>-1</td>\n",
              "      <td>-1</td>\n",
              "      <td>0</td>\n",
              "      <td>-1</td>\n",
              "      <td>1</td>\n",
              "      <td>1</td>\n",
              "      <td>1</td>\n",
              "    </tr>\n",
              "  </tbody>\n",
              "</table>\n",
              "<p>5 rows × 21 columns</p>\n",
              "</div>\n",
              "      <button class=\"colab-df-convert\" onclick=\"convertToInteractive('df-01664aab-6015-47eb-b666-946425b32f68')\"\n",
              "              title=\"Convert this dataframe to an interactive table.\"\n",
              "              style=\"display:none;\">\n",
              "        \n",
              "  <svg xmlns=\"http://www.w3.org/2000/svg\" height=\"24px\"viewBox=\"0 0 24 24\"\n",
              "       width=\"24px\">\n",
              "    <path d=\"M0 0h24v24H0V0z\" fill=\"none\"/>\n",
              "    <path d=\"M18.56 5.44l.94 2.06.94-2.06 2.06-.94-2.06-.94-.94-2.06-.94 2.06-2.06.94zm-11 1L8.5 8.5l.94-2.06 2.06-.94-2.06-.94L8.5 2.5l-.94 2.06-2.06.94zm10 10l.94 2.06.94-2.06 2.06-.94-2.06-.94-.94-2.06-.94 2.06-2.06.94z\"/><path d=\"M17.41 7.96l-1.37-1.37c-.4-.4-.92-.59-1.43-.59-.52 0-1.04.2-1.43.59L10.3 9.45l-7.72 7.72c-.78.78-.78 2.05 0 2.83L4 21.41c.39.39.9.59 1.41.59.51 0 1.02-.2 1.41-.59l7.78-7.78 2.81-2.81c.8-.78.8-2.07 0-2.86zM5.41 20L4 18.59l7.72-7.72 1.47 1.35L5.41 20z\"/>\n",
              "  </svg>\n",
              "      </button>\n",
              "      \n",
              "  <style>\n",
              "    .colab-df-container {\n",
              "      display:flex;\n",
              "      flex-wrap:wrap;\n",
              "      gap: 12px;\n",
              "    }\n",
              "\n",
              "    .colab-df-convert {\n",
              "      background-color: #E8F0FE;\n",
              "      border: none;\n",
              "      border-radius: 50%;\n",
              "      cursor: pointer;\n",
              "      display: none;\n",
              "      fill: #1967D2;\n",
              "      height: 32px;\n",
              "      padding: 0 0 0 0;\n",
              "      width: 32px;\n",
              "    }\n",
              "\n",
              "    .colab-df-convert:hover {\n",
              "      background-color: #E2EBFA;\n",
              "      box-shadow: 0px 1px 2px rgba(60, 64, 67, 0.3), 0px 1px 3px 1px rgba(60, 64, 67, 0.15);\n",
              "      fill: #174EA6;\n",
              "    }\n",
              "\n",
              "    [theme=dark] .colab-df-convert {\n",
              "      background-color: #3B4455;\n",
              "      fill: #D2E3FC;\n",
              "    }\n",
              "\n",
              "    [theme=dark] .colab-df-convert:hover {\n",
              "      background-color: #434B5C;\n",
              "      box-shadow: 0px 1px 3px 1px rgba(0, 0, 0, 0.15);\n",
              "      filter: drop-shadow(0px 1px 2px rgba(0, 0, 0, 0.3));\n",
              "      fill: #FFFFFF;\n",
              "    }\n",
              "  </style>\n",
              "\n",
              "      <script>\n",
              "        const buttonEl =\n",
              "          document.querySelector('#df-01664aab-6015-47eb-b666-946425b32f68 button.colab-df-convert');\n",
              "        buttonEl.style.display =\n",
              "          google.colab.kernel.accessAllowed ? 'block' : 'none';\n",
              "\n",
              "        async function convertToInteractive(key) {\n",
              "          const element = document.querySelector('#df-01664aab-6015-47eb-b666-946425b32f68');\n",
              "          const dataTable =\n",
              "            await google.colab.kernel.invokeFunction('convertToInteractive',\n",
              "                                                     [key], {});\n",
              "          if (!dataTable) return;\n",
              "\n",
              "          const docLinkHtml = 'Like what you see? Visit the ' +\n",
              "            '<a target=\"_blank\" href=https://colab.research.google.com/notebooks/data_table.ipynb>data table notebook</a>'\n",
              "            + ' to learn more about interactive tables.';\n",
              "          element.innerHTML = '';\n",
              "          dataTable['output_type'] = 'display_data';\n",
              "          await google.colab.output.renderOutput(dataTable, element);\n",
              "          const docLink = document.createElement('div');\n",
              "          docLink.innerHTML = docLinkHtml;\n",
              "          element.appendChild(docLink);\n",
              "        }\n",
              "      </script>\n",
              "    </div>\n",
              "  </div>\n",
              "  "
            ]
          },
          "metadata": {},
          "execution_count": 17
        }
      ]
    },
    {
      "cell_type": "markdown",
      "source": [
        "After dropping the columns with correlation <= 0.03, we are left with 21 columns."
      ],
      "metadata": {
        "id": "EcEtIIVr1DA3"
      }
    },
    {
      "cell_type": "markdown",
      "source": [
        "## Check for class imbalance"
      ],
      "metadata": {
        "id": "CYw74DP-BNBB"
      }
    },
    {
      "cell_type": "code",
      "source": [
        "# Get the value counts for Result column\n",
        "df['Result'].value_counts()"
      ],
      "metadata": {
        "colab": {
          "base_uri": "https://localhost:8080/"
        },
        "id": "520r2SPwwsb_",
        "outputId": "2768f16a-5e7e-4991-8149-61c61a5b657b"
      },
      "execution_count": 18,
      "outputs": [
        {
          "output_type": "execute_result",
          "data": {
            "text/plain": [
              " 1    6157\n",
              "-1    4898\n",
              "Name: Result, dtype: int64"
            ]
          },
          "metadata": {},
          "execution_count": 18
        }
      ]
    },
    {
      "cell_type": "code",
      "source": [
        "df['Result'].value_counts(normalize=True)"
      ],
      "metadata": {
        "colab": {
          "base_uri": "https://localhost:8080/"
        },
        "id": "Byk7rNhUwyWm",
        "outputId": "57bc8c40-f2ee-45ec-d92b-ddc0f5339806"
      },
      "execution_count": 19,
      "outputs": [
        {
          "output_type": "execute_result",
          "data": {
            "text/plain": [
              " 1    0.556943\n",
              "-1    0.443057\n",
              "Name: Result, dtype: float64"
            ]
          },
          "metadata": {},
          "execution_count": 19
        }
      ]
    },
    {
      "cell_type": "markdown",
      "source": [
        "We can see that around 55 % of values belong to class 1 and 44 percentage of values belong to class -1. We dont have the imbalanced class problem here. "
      ],
      "metadata": {
        "id": "5JF3kcAD1e_W"
      }
    },
    {
      "cell_type": "code",
      "source": [
        "sns.countplot(x='Result',data=df)"
      ],
      "metadata": {
        "colab": {
          "base_uri": "https://localhost:8080/",
          "height": 296
        },
        "id": "__5lvSkhfn5p",
        "outputId": "28d50836-dfea-498b-951b-9baf79dabc08"
      },
      "execution_count": 20,
      "outputs": [
        {
          "output_type": "execute_result",
          "data": {
            "text/plain": [
              "<matplotlib.axes._subplots.AxesSubplot at 0x7f3e937f9c90>"
            ]
          },
          "metadata": {},
          "execution_count": 20
        },
        {
          "output_type": "display_data",
          "data": {
            "text/plain": [
              "<Figure size 432x288 with 1 Axes>"
            ],
            "image/png": "[encoded data removed]"
          },
          "metadata": {
            "needs_background": "light"
          }
        }
      ]
    },
    {
      "cell_type": "markdown",
      "source": [
        "## Histogram"
      ],
      "metadata": {
        "id": "ajvpv25DBVXN"
      }
    },
    {
      "cell_type": "code",
      "source": [
        "new_df.hist(figsize=(20,20))"
      ],
      "metadata": {
        "colab": {
          "base_uri": "https://localhost:8080/",
          "height": 1000
        },
        "id": "LJtK-k0ugOKj",
        "outputId": "257a4204-e04b-412e-97d5-5d16cfc5e8da"
      },
      "execution_count": 21,
      "outputs": [
        {
          "output_type": "execute_result",
          "data": {
            "text/plain": [
              "array([[<matplotlib.axes._subplots.AxesSubplot object at 0x7f3e8f0f1f50>,\n",
              "        <matplotlib.axes._subplots.AxesSubplot object at 0x7f3e8f0af550>,\n",
              "        <matplotlib.axes._subplots.AxesSubplot object at 0x7f3e8f0e4b90>,\n",
              "        <matplotlib.axes._subplots.AxesSubplot object at 0x7f3e8f0a81d0>,\n",
              "        <matplotlib.axes._subplots.AxesSubplot object at 0x7f3e8f05f7d0>],\n",
              "       [<matplotlib.axes._subplots.AxesSubplot object at 0x7f3e8f014dd0>,\n",
              "        <matplotlib.axes._subplots.AxesSubplot object at 0x7f3e8efd8490>,\n",
              "        <matplotlib.axes._subplots.AxesSubplot object at 0x7f3e8ef8f9d0>,\n",
              "        <matplotlib.axes._subplots.AxesSubplot object at 0x7f3e8ef8fa10>,\n",
              "        <matplotlib.axes._subplots.AxesSubplot object at 0x7f3e8ef54150>],\n",
              "       [<matplotlib.axes._subplots.AxesSubplot object at 0x7f3e8eec0c50>,\n",
              "        <matplotlib.axes._subplots.AxesSubplot object at 0x7f3e8ee84290>,\n",
              "        <matplotlib.axes._subplots.AxesSubplot object at 0x7f3e8ee3b890>,\n",
              "        <matplotlib.axes._subplots.AxesSubplot object at 0x7f3e8edf0e90>,\n",
              "        <matplotlib.axes._subplots.AxesSubplot object at 0x7f3e8edb54d0>],\n",
              "       [<matplotlib.axes._subplots.AxesSubplot object at 0x7f3e8ededad0>,\n",
              "        <matplotlib.axes._subplots.AxesSubplot object at 0x7f3e8ed30110>,\n",
              "        <matplotlib.axes._subplots.AxesSubplot object at 0x7f3e8ed66710>,\n",
              "        <matplotlib.axes._subplots.AxesSubplot object at 0x7f3e8ed1dd10>,\n",
              "        <matplotlib.axes._subplots.AxesSubplot object at 0x7f3e8ece3350>],\n",
              "       [<matplotlib.axes._subplots.AxesSubplot object at 0x7f3e8ec9e2d0>,\n",
              "        <matplotlib.axes._subplots.AxesSubplot object at 0x7f3e8ec557d0>,\n",
              "        <matplotlib.axes._subplots.AxesSubplot object at 0x7f3e8ec0bcd0>,\n",
              "        <matplotlib.axes._subplots.AxesSubplot object at 0x7f3e8ebd0210>,\n",
              "        <matplotlib.axes._subplots.AxesSubplot object at 0x7f3e8eb87710>]],\n",
              "      dtype=object)"
            ]
          },
          "metadata": {},
          "execution_count": 21
        },
        {
          "output_type": "display_data",
          "data": {
            "text/plain": [
              "<Figure size 1440x1440 with 25 Axes>"
            ],
            "image/png": "[encoded data removed]"
          },
          "metadata": {
            "needs_background": "light"
          }
        }
      ]
    },
    {
      "cell_type": "markdown",
      "source": [
        "Above histograms shows the data distribution of all the columns in the dataset. We can clearly see that the unique values are -1,0 and 1."
      ],
      "metadata": {
        "id": "O-BCx_owxpcl"
      }
    },
    {
      "cell_type": "markdown",
      "source": [
        "## Count Plot"
      ],
      "metadata": {
        "id": "XNpl_xNxBcRq"
      }
    },
    {
      "cell_type": "code",
      "source": [
        "for i in new_df.columns:\n",
        "    \n",
        "    plt.figure(figsize=(10,6))\n",
        "    sns.countplot(new_df[i],hue=df[\"Result\"])"
      ],
      "metadata": {
        "colab": {
          "base_uri": "https://localhost:8080/",
          "height": 1000
        },
        "id": "9-To91IkmRTK",
        "outputId": "12593313-3e14-44b7-cce7-65534db78b26"
      },
      "execution_count": 22,
      "outputs": [
        {
          "output_type": "stream",
          "name": "stderr",
          "text": [
            "/usr/local/lib/python3.7/dist-packages/seaborn/_decorators.py:43: FutureWarning: Pass the following variable as a keyword arg: x. From version 0.12, the only valid positional argument will be `data`, and passing other arguments without an explicit keyword will result in an error or misinterpretation.\n",
            "  FutureWarning\n",
            "/usr/local/lib/python3.7/dist-packages/seaborn/_decorators.py:43: FutureWarning: Pass the following variable as a keyword arg: x. From version 0.12, the only valid positional argument will be `data`, and passing other arguments without an explicit keyword will result in an error or misinterpretation.\n",
            "  FutureWarning\n",
            "/usr/local/lib/python3.7/dist-packages/seaborn/_decorators.py:43: FutureWarning: Pass the following variable as a keyword arg: x. From version 0.12, the only valid positional argument will be `data`, and passing other arguments without an explicit keyword will result in an error or misinterpretation.\n",
            "  FutureWarning\n",
            "/usr/local/lib/python3.7/dist-packages/seaborn/_decorators.py:43: FutureWarning: Pass the following variable as a keyword arg: x. From version 0.12, the only valid positional argument will be `data`, and passing other arguments without an explicit keyword will result in an error or misinterpretation.\n",
            "  FutureWarning\n",
            "/usr/local/lib/python3.7/dist-packages/seaborn/_decorators.py:43: FutureWarning: Pass the following variable as a keyword arg: x. From version 0.12, the only valid positional argument will be `data`, and passing other arguments without an explicit keyword will result in an error or misinterpretation.\n",
            "  FutureWarning\n",
            "/usr/local/lib/python3.7/dist-packages/seaborn/_decorators.py:43: FutureWarning: Pass the following variable as a keyword arg: x. From version 0.12, the only valid positional argument will be `data`, and passing other arguments without an explicit keyword will result in an error or misinterpretation.\n",
            "  FutureWarning\n",
            "/usr/local/lib/python3.7/dist-packages/seaborn/_decorators.py:43: FutureWarning: Pass the following variable as a keyword arg: x. From version 0.12, the only valid positional argument will be `data`, and passing other arguments without an explicit keyword will result in an error or misinterpretation.\n",
            "  FutureWarning\n",
            "/usr/local/lib/python3.7/dist-packages/seaborn/_decorators.py:43: FutureWarning: Pass the following variable as a keyword arg: x. From version 0.12, the only valid positional argument will be `data`, and passing other arguments without an explicit keyword will result in an error or misinterpretation.\n",
            "  FutureWarning\n",
            "/usr/local/lib/python3.7/dist-packages/seaborn/_decorators.py:43: FutureWarning: Pass the following variable as a keyword arg: x. From version 0.12, the only valid positional argument will be `data`, and passing other arguments without an explicit keyword will result in an error or misinterpretation.\n",
            "  FutureWarning\n",
            "/usr/local/lib/python3.7/dist-packages/seaborn/_decorators.py:43: FutureWarning: Pass the following variable as a keyword arg: x. From version 0.12, the only valid positional argument will be `data`, and passing other arguments without an explicit keyword will result in an error or misinterpretation.\n",
            "  FutureWarning\n",
            "/usr/local/lib/python3.7/dist-packages/seaborn/_decorators.py:43: FutureWarning: Pass the following variable as a keyword arg: x. From version 0.12, the only valid positional argument will be `data`, and passing other arguments without an explicit keyword will result in an error or misinterpretation.\n",
            "  FutureWarning\n",
            "/usr/local/lib/python3.7/dist-packages/seaborn/_decorators.py:43: FutureWarning: Pass the following variable as a keyword arg: x. From version 0.12, the only valid positional argument will be `data`, and passing other arguments without an explicit keyword will result in an error or misinterpretation.\n",
            "  FutureWarning\n",
            "/usr/local/lib/python3.7/dist-packages/seaborn/_decorators.py:43: FutureWarning: Pass the following variable as a keyword arg: x. From version 0.12, the only valid positional argument will be `data`, and passing other arguments without an explicit keyword will result in an error or misinterpretation.\n",
            "  FutureWarning\n",
            "/usr/local/lib/python3.7/dist-packages/seaborn/_decorators.py:43: FutureWarning: Pass the following variable as a keyword arg: x. From version 0.12, the only valid positional argument will be `data`, and passing other arguments without an explicit keyword will result in an error or misinterpretation.\n",
            "  FutureWarning\n",
            "/usr/local/lib/python3.7/dist-packages/seaborn/_decorators.py:43: FutureWarning: Pass the following variable as a keyword arg: x. From version 0.12, the only valid positional argument will be `data`, and passing other arguments without an explicit keyword will result in an error or misinterpretation.\n",
            "  FutureWarning\n",
            "/usr/local/lib/python3.7/dist-packages/seaborn/_decorators.py:43: FutureWarning: Pass the following variable as a keyword arg: x. From version 0.12, the only valid positional argument will be `data`, and passing other arguments without an explicit keyword will result in an error or misinterpretation.\n",
            "  FutureWarning\n",
            "/usr/local/lib/python3.7/dist-packages/seaborn/_decorators.py:43: FutureWarning: Pass the following variable as a keyword arg: x. From version 0.12, the only valid positional argument will be `data`, and passing other arguments without an explicit keyword will result in an error or misinterpretation.\n",
            "  FutureWarning\n",
            "/usr/local/lib/python3.7/dist-packages/seaborn/_decorators.py:43: FutureWarning: Pass the following variable as a keyword arg: x. From version 0.12, the only valid positional argument will be `data`, and passing other arguments without an explicit keyword will result in an error or misinterpretation.\n",
            "  FutureWarning\n",
            "/usr/local/lib/python3.7/dist-packages/seaborn/_decorators.py:43: FutureWarning: Pass the following variable as a keyword arg: x. From version 0.12, the only valid positional argument will be `data`, and passing other arguments without an explicit keyword will result in an error or misinterpretation.\n",
            "  FutureWarning\n",
            "/usr/local/lib/python3.7/dist-packages/seaborn/_decorators.py:43: FutureWarning: Pass the following variable as a keyword arg: x. From version 0.12, the only valid positional argument will be `data`, and passing other arguments without an explicit keyword will result in an error or misinterpretation.\n",
            "  FutureWarning\n",
            "/usr/local/lib/python3.7/dist-packages/ipykernel_launcher.py:3: RuntimeWarning: More than 20 figures have been opened. Figures created through the pyplot interface (`matplotlib.pyplot.figure`) are retained until explicitly closed and may consume too much memory. (To control this warning, see the rcParam `figure.max_open_warning`).\n",
            "  This is separate from the ipykernel package so we can avoid doing imports until\n",
            "/usr/local/lib/python3.7/dist-packages/seaborn/_decorators.py:43: FutureWarning: Pass the following variable as a keyword arg: x. From version 0.12, the only valid positional argument will be `data`, and passing other arguments without an explicit keyword will result in an error or misinterpretation.\n",
            "  FutureWarning\n"
          ]
        },
        {
          "output_type": "display_data",
          "data": {
            "text/plain": [
              "<Figure size 720x432 with 1 Axes>"
            ],
            "image/png": "[encoded data removed]"
          },
          "metadata": {
            "needs_background": "light"
          }
        },
        {
          "output_type": "display_data",
          "data": {
            "text/plain": [
              "<Figure size 720x432 with 1 Axes>"
            ],
            "image/png": "[encoded data removed]"
          },
          "metadata": {
            "needs_background": "light"
          }
        },
        {
          "output_type": "display_data",
          "data": {
            "text/plain": [
              "<Figure size 720x432 with 1 Axes>"
            ],
            "image/png": "[encoded data removed]"
          },
          "metadata": {
            "needs_background": "light"
          }
        },
        {
          "output_type": "display_data",
          "data": {
            "text/plain": [
              "<Figure size 720x432 with 1 Axes>"
            ],
            "image/png": "[encoded data removed]"
          },
          "metadata": {
            "needs_background": "light"
          }
        },
        {
          "output_type": "display_data",
          "data": {
            "text/plain": [
              "<Figure size 720x432 with 1 Axes>"
            ],
            "image/png": "[encoded data removed]"
          },
          "metadata": {
            "needs_background": "light"
          }
        },
        {
          "output_type": "display_data",
          "data": {
            "text/plain": [
              "<Figure size 720x432 with 1 Axes>"
            ],
            "image/png": "[encoded data removed]"
          },
          "metadata": {
            "needs_background": "light"
          }
        },
        {
          "output_type": "display_data",
          "data": {
            "text/plain": [
              "<Figure size 720x432 with 1 Axes>"
            ],
            "image/png": "[encoded data removed]"
          },
          "metadata": {
            "needs_background": "light"
          }
        },
        {
          "output_type": "display_data",
          "data": {
            "text/plain": [
              "<Figure size 720x432 with 1 Axes>"
            ],
            "image/png": "[encoded data removed]"
          },
          "metadata": {
            "needs_background": "light"
          }
        },
        {
          "output_type": "display_data",
          "data": {
            "text/plain": [
              "<Figure size 720x432 with 1 Axes>"
            ],
            "image/png": "[encoded data removed]"
          },
          "metadata": {
            "needs_background": "light"
          }
        },
        {
          "output_type": "display_data",
          "data": {
            "text/plain": [
              "<Figure size 720x432 with 1 Axes>"
            ],
            "image/png": "[encoded data removed]"
          },
          "metadata": {
            "needs_background": "light"
          }
        },
        {
          "output_type": "display_data",
          "data": {
            "text/plain": [
              "<Figure size 720x432 with 1 Axes>"
            ],
            "image/png": "[encoded data removed]"
          },
          "metadata": {
            "needs_background": "light"
          }
        },
        {
          "output_type": "display_data",
          "data": {
            "text/plain": [
              "<Figure size 720x432 with 1 Axes>"
            ],
            "image/png": "[encoded data removed]"
          },
          "metadata": {
            "needs_background": "light"
          }
        },
        {
          "output_type": "display_data",
          "data": {
            "text/plain": [
              "<Figure size 720x432 with 1 Axes>"
            ],
            "image/png": "[encoded data removed]"
          },
          "metadata": {
            "needs_background": "light"
          }
        },
        {
          "output_type": "display_data",
          "data": {
            "text/plain": [
              "<Figure size 720x432 with 1 Axes>"
            ],
            "image/png": "[encoded data removed]"
          },
          "metadata": {
            "needs_background": "light"
          }
        },
        {
          "output_type": "display_data",
          "data": {
            "text/plain": [
              "<Figure size 720x432 with 1 Axes>"
            ],
            "image/png": "[encoded data removed]"
          },
          "metadata": {
            "needs_background": "light"
          }
        },
        {
          "output_type": "display_data",
          "data": {
            "text/plain": [
              "<Figure size 720x432 with 1 Axes>"
            ],
            "image/png": "[encoded data removed]"
          },
          "metadata": {
            "needs_background": "light"
          }
        },
        {
          "output_type": "display_data",
          "data": {
            "text/plain": [
              "<Figure size 720x432 with 1 Axes>"
            ],
            "image/png": "[encoded data removed]"
          },
          "metadata": {
            "needs_background": "light"
          }
        },
        {
          "output_type": "display_data",
          "data": {
            "text/plain": [
              "<Figure size 720x432 with 1 Axes>"
            ],
            "image/png": "[encoded data removed]"
          },
          "metadata": {
            "needs_background": "light"
          }
        },
        {
          "output_type": "display_data",
          "data": {
            "text/plain": [
              "<Figure size 720x432 with 1 Axes>"
            ],
            "image/png": "[encoded data removed]"
          },
          "metadata": {
            "needs_background": "light"
          }
        },
        {
          "output_type": "display_data",
          "data": {
            "text/plain": [
              "<Figure size 720x432 with 1 Axes>"
            ],
            "image/png": "[encoded data removed]"
          },
          "metadata": {
            "needs_background": "light"
          }
        },
        {
          "output_type": "display_data",
          "data": {
            "text/plain": [
              "<Figure size 720x432 with 1 Axes>"
            ],
            "image/png": "[encoded data removed]"
          },
          "metadata": {
            "needs_background": "light"
          }
        }
      ]
    },
    {
      "cell_type": "markdown",
      "source": [
        "## Insights from EDA"
      ],
      "metadata": {
        "id": "nZGGjJ1OBt4O"
      }
    },
    {
      "cell_type": "markdown",
      "source": [
        "1. From the above graphs, we can clearly see that when SSLFinal_State is Legitimate, the \"Result\" is mostly \"Legitimate\". When the SSLFinal_State is \"Phishing\", the \"Result\" is also mostly \"Phishing\". This means we can see a strong positive correlation between SSLFinalState and Result columns.\n",
        "2. Also, when the URL_of_Anchor is \"Legitimate\", the \"Result\" is most of the time \"Legitimate\". When the URL_of_Anchor is \"Phishing\", the \"Result\" is also \"Phishing\" most of the time. Hence there is a positive correlation between URL_of_Anchor and Result.\n",
        "3. The web_traffic and Result seem to be having a positive correlation.When the web_traffic is \"Legitimate\", the \"Result\" is mostly \"Legitimate\"."
      ],
      "metadata": {
        "id": "7oVx7i9Kyv0O"
      }
    },
    {
      "cell_type": "code",
      "source": [
        "# Define the X and y \n",
        "y = df['Result'].values\n",
        "X = new_df\n",
        "print(X.shape)\n",
        "print(y.shape)"
      ],
      "metadata": {
        "colab": {
          "base_uri": "https://localhost:8080/"
        },
        "id": "_78fXPL1ntzl",
        "outputId": "120c46f9-4735-40ee-90e6-dc1622b3ed66"
      },
      "execution_count": 23,
      "outputs": [
        {
          "output_type": "stream",
          "name": "stdout",
          "text": [
            "(11055, 21)\n",
            "(11055,)\n"
          ]
        }
      ]
    },
    {
      "cell_type": "code",
      "source": [
        "print(y[:50])"
      ],
      "metadata": {
        "colab": {
          "base_uri": "https://localhost:8080/"
        },
        "id": "eApxx6H2UCVQ",
        "outputId": "ed5851a3-93d6-4cd6-eab0-6c1c79908305"
      },
      "execution_count": 24,
      "outputs": [
        {
          "output_type": "stream",
          "name": "stdout",
          "text": [
            "[-1 -1 -1 -1  1  1 -1 -1  1 -1  1 -1 -1 -1  1 -1 -1 -1  1  1  1  1  1  1\n",
            "  1  1 -1  1  1  1  1  1  1  1 -1 -1 -1 -1  1  1  1  1 -1 -1 -1  1  1 -1\n",
            " -1  1]\n"
          ]
        }
      ]
    },
    {
      "cell_type": "code",
      "source": [
        "# Split the data into training and testing data - 70% train and 30% test\n",
        "X_train, X_test, y_train, y_test  = train_test_split(X, y, test_size = 0.3, random_state = 100)"
      ],
      "metadata": {
        "id": "PKApBZQ-qn0C"
      },
      "execution_count": 25,
      "outputs": []
    },
    {
      "cell_type": "code",
      "source": [
        "print(X_train.shape)\n",
        "print(X_test.shape)\n",
        "print(y_train.shape)\n",
        "print(y_test.shape)"
      ],
      "metadata": {
        "colab": {
          "base_uri": "https://localhost:8080/"
        },
        "id": "pgqDMl0_rFVu",
        "outputId": "81087535-5bc4-48a6-984d-dddc24a9460b"
      },
      "execution_count": 26,
      "outputs": [
        {
          "output_type": "stream",
          "name": "stdout",
          "text": [
            "(7738, 21)\n",
            "(3317, 21)\n",
            "(7738,)\n",
            "(3317,)\n"
          ]
        }
      ]
    },
    {
      "cell_type": "code",
      "source": [
        "unique,counts = np.unique(y_train,return_counts=True)\n",
        "print(counts)"
      ],
      "metadata": {
        "colab": {
          "base_uri": "https://localhost:8080/"
        },
        "id": "J5yC0oO0xeV3",
        "outputId": "b59edc66-b213-480d-bff4-c1cc8dcd056c"
      },
      "execution_count": 27,
      "outputs": [
        {
          "output_type": "stream",
          "name": "stdout",
          "text": [
            "[3399 4339]\n"
          ]
        }
      ]
    },
    {
      "cell_type": "code",
      "source": [
        "print(unique)\n",
        "print(counts[0] / (counts[0] + counts[1]))\n",
        "print(counts[1] / (counts[0] + counts[1]))"
      ],
      "metadata": {
        "colab": {
          "base_uri": "https://localhost:8080/"
        },
        "id": "4MviqJ3TyDuT",
        "outputId": "a28e5539-6c12-4c0a-ae74-65eed33ce84c"
      },
      "execution_count": 28,
      "outputs": [
        {
          "output_type": "stream",
          "name": "stdout",
          "text": [
            "[-1  1]\n",
            "0.4392607909020419\n",
            "0.5607392090979582\n"
          ]
        }
      ]
    },
    {
      "cell_type": "markdown",
      "source": [
        "After splitting the data into train and test, we check the y_train and find that there is no class imbalance issue here. There are 43% records that are 'Phishing' and 56% records that are 'Legitimate'."
      ],
      "metadata": {
        "id": "KHZmbHgWyZ58"
      }
    },
    {
      "cell_type": "markdown",
      "source": [
        "# Model Building"
      ],
      "metadata": {
        "id": "XDIMpFr0B_B-"
      }
    },
    {
      "cell_type": "markdown",
      "source": [
        "## Model 1: SGD Classifier"
      ],
      "metadata": {
        "id": "X4mz8MibzjCB"
      }
    },
    {
      "cell_type": "code",
      "source": [
        "sgdClf = SGDClassifier(random_state=100)\n",
        "sgdClf.fit(X_train, y_train)"
      ],
      "metadata": {
        "colab": {
          "base_uri": "https://localhost:8080/"
        },
        "id": "njNt2d18zpez",
        "outputId": "87a755f4-fbc4-49e0-ae83-f47e49ab9e60"
      },
      "execution_count": 29,
      "outputs": [
        {
          "output_type": "execute_result",
          "data": {
            "text/plain": [
              "SGDClassifier(random_state=100)"
            ]
          },
          "metadata": {},
          "execution_count": 29
        }
      ]
    },
    {
      "cell_type": "markdown",
      "source": [
        "### Performance metrics for Train Data"
      ],
      "metadata": {
        "id": "vjlAoXgG8lmN"
      }
    },
    {
      "cell_type": "markdown",
      "source": [
        "Lets use K Fold cross validation to evaluate the model.\n",
        "Here we divide the train data into 5 folds and reserve 1 for validation and 4 for training. We continue the steps till all the folds participate in both  training and validation. By this way, we can validate the model more accurately and keep the test data untouched till the model is ready and finished training.  Also, cross validation resolves the problem of over-fitting."
      ],
      "metadata": {
        "id": "C8Z9-52o1fj8"
      }
    },
    {
      "cell_type": "markdown",
      "source": [
        "#### Accuracy"
      ],
      "metadata": {
        "id": "IhsFY4dR89hq"
      }
    },
    {
      "cell_type": "code",
      "source": [
        "cross_val_score(sgdClf, X_train, y_train, cv=5, scoring=\"accuracy\")"
      ],
      "metadata": {
        "colab": {
          "base_uri": "https://localhost:8080/"
        },
        "id": "7E06M_-9z64c",
        "outputId": "7616f328-de0c-4220-da50-711a2ce20c86"
      },
      "execution_count": 30,
      "outputs": [
        {
          "output_type": "execute_result",
          "data": {
            "text/plain": [
              "array([0.91860465, 0.9244186 , 0.92312661, 0.91273432, 0.91984486])"
            ]
          },
          "metadata": {},
          "execution_count": 30
        }
      ]
    },
    {
      "cell_type": "markdown",
      "source": [
        "We get around 91 % accuracy in all the 5 folds. But for a classification problem, accuracy is not a good measure. There are other measures like Confusion Matrix, Precision, Recall and F1 score."
      ],
      "metadata": {
        "id": "c48K31Fh2KXz"
      }
    },
    {
      "cell_type": "markdown",
      "source": [
        "#### Confusion Matrix\n"
      ],
      "metadata": {
        "id": "-9a05qIR2sHl"
      }
    },
    {
      "cell_type": "code",
      "source": [
        "y_train_pred = cross_val_predict(sgdClf, X_train, y_train, cv=5)\n",
        "confusion_matrix(y_train, y_train_pred)\n"
      ],
      "metadata": {
        "colab": {
          "base_uri": "https://localhost:8080/"
        },
        "id": "sTM1NXiV2uzc",
        "outputId": "de6bc665-e272-4c87-98d8-66699782462f"
      },
      "execution_count": 31,
      "outputs": [
        {
          "output_type": "execute_result",
          "data": {
            "text/plain": [
              "array([[3054,  345],\n",
              "       [ 276, 4063]])"
            ]
          },
          "metadata": {},
          "execution_count": 31
        }
      ]
    },
    {
      "cell_type": "markdown",
      "source": [
        "There are 345 + 276 = 621 wrong predictions. There are 3054 + 4063 = 7117 right predictions.  Accuracy is  7117/(7117 + 621) = 92%"
      ],
      "metadata": {
        "id": "kuetBgGP3hSz"
      }
    },
    {
      "cell_type": "markdown",
      "source": [
        "#### Precision, Recall and F1 score"
      ],
      "metadata": {
        "id": "P_BnCGoY4Zws"
      }
    },
    {
      "cell_type": "code",
      "source": [
        "print(\"precision\",precision_score(y_train, y_train_pred))\n",
        "print(\"recall\",recall_score(y_train, y_train_pred))\n",
        "print(\"F1 score\", f1_score(y_train,y_train_pred))\n",
        "print(\"\\n\" + classification_report(y_train,y_train_pred))"
      ],
      "metadata": {
        "colab": {
          "base_uri": "https://localhost:8080/"
        },
        "id": "kPNdyATn4ckO",
        "outputId": "6cfa52eb-0f23-4b0b-8ac8-20c686820839"
      },
      "execution_count": 32,
      "outputs": [
        {
          "output_type": "stream",
          "name": "stdout",
          "text": [
            "precision 0.9217332123411979\n",
            "recall 0.9363908734731505\n",
            "F1 score 0.9290042300217218\n",
            "\n",
            "              precision    recall  f1-score   support\n",
            "\n",
            "          -1       0.92      0.90      0.91      3399\n",
            "           1       0.92      0.94      0.93      4339\n",
            "\n",
            "    accuracy                           0.92      7738\n",
            "   macro avg       0.92      0.92      0.92      7738\n",
            "weighted avg       0.92      0.92      0.92      7738\n",
            "\n"
          ]
        }
      ]
    },
    {
      "cell_type": "markdown",
      "source": [
        "#### ROC Curve\n",
        "\n",
        " The ROC curve is a plot of True Positive Rate (TPR) versus the False Positive Rate (FPR)"
      ],
      "metadata": {
        "id": "TVPOkdLm8TrP"
      }
    },
    {
      "cell_type": "code",
      "source": [
        "y_scores = cross_val_predict(sgdClf, X_train, y_train, cv=5, method=\"decision_function\")\n",
        "fpr, tpr, thresholds = roc_curve(y_train, y_scores)"
      ],
      "metadata": {
        "id": "hEf3KcR28Vge"
      },
      "execution_count": 33,
      "outputs": []
    },
    {
      "cell_type": "code",
      "source": [
        "def plot_roc_curve(fpr, tpr, label=None):\n",
        " plt.plot(fpr, tpr, linewidth=2, label=label)\n",
        " plt.plot([0, 1], [0, 1], 'k--')\n",
        " plt.axis([0, 1, 0, 1])\n",
        " plt.xlabel('False Positive Rate')\n",
        " plt.ylabel('True Positive Rate')"
      ],
      "metadata": {
        "id": "lsDN9MqQ8296"
      },
      "execution_count": 34,
      "outputs": []
    },
    {
      "cell_type": "code",
      "source": [
        "\n",
        "plot_roc_curve(fpr, tpr)\n",
        "plt.show()\n"
      ],
      "metadata": {
        "colab": {
          "base_uri": "https://localhost:8080/",
          "height": 283
        },
        "id": "Mbsn6tom85xv",
        "outputId": "db6e85b7-6c64-42d9-c26e-93b34bd611d3"
      },
      "execution_count": 35,
      "outputs": [
        {
          "output_type": "display_data",
          "data": {
            "text/plain": [
              "<Figure size 432x288 with 1 Axes>"
            ],
            "image/png": "[encoded data removed]"
          },
          "metadata": {
            "needs_background": "light"
          }
        }
      ]
    },
    {
      "cell_type": "markdown",
      "source": [
        "The dotted line shows a very ineffective classifier, similar to random chance. Our SGD Classifier looks effective as its closer to the top left margin."
      ],
      "metadata": {
        "id": "FCxb1z9cmxM9"
      }
    },
    {
      "cell_type": "markdown",
      "source": [
        "#### AUC"
      ],
      "metadata": {
        "id": "000yaKqY9v-T"
      }
    },
    {
      "cell_type": "markdown",
      "source": [
        "The ROC curve can be used to generate the AUC. AUC is the total area under the ROC curve. "
      ],
      "metadata": {
        "id": "g5_734bEo7He"
      }
    },
    {
      "cell_type": "code",
      "source": [
        "roc_auc_score(y_train, y_scores)\n"
      ],
      "metadata": {
        "colab": {
          "base_uri": "https://localhost:8080/"
        },
        "id": "xynunKGR967b",
        "outputId": "c3d92706-341f-417d-adbc-22b42cd0e26a"
      },
      "execution_count": 36,
      "outputs": [
        {
          "output_type": "execute_result",
          "data": {
            "text/plain": [
              "0.9734451404135036"
            ]
          },
          "metadata": {},
          "execution_count": 36
        }
      ]
    },
    {
      "cell_type": "markdown",
      "source": [
        "The AUC is 0.97 which is closer to 1. This means this is a effective classifier. "
      ],
      "metadata": {
        "id": "qXhS3w3MpQ_K"
      }
    },
    {
      "cell_type": "markdown",
      "source": [
        "### Performance metrics for Test Data"
      ],
      "metadata": {
        "id": "I_hkHKzJ8YT5"
      }
    },
    {
      "cell_type": "code",
      "source": [
        "prediction = sgdClf.predict(X_test)\n",
        "print(\"\\n\" + classification_report(y_test,prediction))"
      ],
      "metadata": {
        "colab": {
          "base_uri": "https://localhost:8080/"
        },
        "id": "w6AiSobq6RCQ",
        "outputId": "bff1b09e-6621-42a9-8e92-6b9c574b8c0f"
      },
      "execution_count": 37,
      "outputs": [
        {
          "output_type": "stream",
          "name": "stdout",
          "text": [
            "\n",
            "              precision    recall  f1-score   support\n",
            "\n",
            "          -1       0.94      0.90      0.92      1499\n",
            "           1       0.92      0.95      0.93      1818\n",
            "\n",
            "    accuracy                           0.93      3317\n",
            "   macro avg       0.93      0.93      0.93      3317\n",
            "weighted avg       0.93      0.93      0.93      3317\n",
            "\n"
          ]
        }
      ]
    },
    {
      "cell_type": "code",
      "source": [
        "# ROC_AUC score for test data\n",
        "roc_auc_score(y_test,prediction)"
      ],
      "metadata": {
        "colab": {
          "base_uri": "https://localhost:8080/"
        },
        "id": "Ax0V3iG14H-t",
        "outputId": "bde84b4f-6ab3-4841-fcfd-ce298136e3f8"
      },
      "execution_count": 38,
      "outputs": [
        {
          "output_type": "execute_result",
          "data": {
            "text/plain": [
              "0.9253312255841994"
            ]
          },
          "metadata": {},
          "execution_count": 38
        }
      ]
    },
    {
      "cell_type": "markdown",
      "source": [
        " ## Model 2: Logistic Regression"
      ],
      "metadata": {
        "id": "c5_iHTbLzLlD"
      }
    },
    {
      "cell_type": "markdown",
      "source": [
        "### Performance metrics for Train Data"
      ],
      "metadata": {
        "id": "yb811JNe_JjD"
      }
    },
    {
      "cell_type": "markdown",
      "source": [
        "#### Accuracy"
      ],
      "metadata": {
        "id": "PaXmUVec_R_b"
      }
    },
    {
      "cell_type": "code",
      "source": [
        "logreg = LogisticRegression()\n",
        "logreg = logreg.fit(X_train,y_train)\n",
        "\n",
        "cross_val_score(logreg, X_train, y_train, cv=5, scoring=\"accuracy\")"
      ],
      "metadata": {
        "id": "-RZupJG_rKzs",
        "colab": {
          "base_uri": "https://localhost:8080/"
        },
        "outputId": "b0803175-7951-46b0-cb8c-91afde39df40"
      },
      "execution_count": 39,
      "outputs": [
        {
          "output_type": "execute_result",
          "data": {
            "text/plain": [
              "array([0.92894057, 0.92958656, 0.92571059, 0.92501616, 0.92307692])"
            ]
          },
          "metadata": {},
          "execution_count": 39
        }
      ]
    },
    {
      "cell_type": "markdown",
      "source": [
        "#### Confusion Matrix"
      ],
      "metadata": {
        "id": "6hOL8tvzpNYK"
      }
    },
    {
      "cell_type": "code",
      "source": [
        "y_train_pred_lr = cross_val_predict(logreg, X_train, y_train, cv=5)\n",
        "confusion_matrix(y_train, y_train_pred_lr)"
      ],
      "metadata": {
        "colab": {
          "base_uri": "https://localhost:8080/"
        },
        "id": "4vkIkfUgsznV",
        "outputId": "06056c50-03f8-4201-d8e5-5fbcfd314139"
      },
      "execution_count": 40,
      "outputs": [
        {
          "output_type": "execute_result",
          "data": {
            "text/plain": [
              "array([[3059,  340],\n",
              "       [ 229, 4110]])"
            ]
          },
          "metadata": {},
          "execution_count": 40
        }
      ]
    },
    {
      "cell_type": "markdown",
      "source": [
        "#### Precision, Recall and F1 Score"
      ],
      "metadata": {
        "id": "DUucf4_8JWLI"
      }
    },
    {
      "cell_type": "code",
      "source": [
        "print(\"precision\",precision_score(y_train, y_train_pred_lr))\n",
        "print(\"recall\",recall_score(y_train, y_train_pred_lr))\n",
        "print(\"F1 score\", f1_score(y_train,y_train_pred_lr))\n",
        "print(\"\\n\" + classification_report(y_train,y_train_pred_lr))"
      ],
      "metadata": {
        "colab": {
          "base_uri": "https://localhost:8080/"
        },
        "id": "_m6bW7zvJaQR",
        "outputId": "e8e69a24-c472-4874-be8c-8d0de039fe14"
      },
      "execution_count": 41,
      "outputs": [
        {
          "output_type": "stream",
          "name": "stdout",
          "text": [
            "precision 0.9235955056179775\n",
            "recall 0.9472228624106938\n",
            "F1 score 0.9352599840709979\n",
            "\n",
            "              precision    recall  f1-score   support\n",
            "\n",
            "          -1       0.93      0.90      0.91      3399\n",
            "           1       0.92      0.95      0.94      4339\n",
            "\n",
            "    accuracy                           0.93      7738\n",
            "   macro avg       0.93      0.92      0.93      7738\n",
            "weighted avg       0.93      0.93      0.93      7738\n",
            "\n"
          ]
        }
      ]
    },
    {
      "cell_type": "markdown",
      "source": [
        "#### ROC Curve"
      ],
      "metadata": {
        "id": "wFYgYp_bLFew"
      }
    },
    {
      "cell_type": "code",
      "source": [
        "y_scores_lr = cross_val_predict(logreg, X_train, y_train, cv=5, method=\"decision_function\")\n",
        "fpr_lr, tpr_lr, thresholds_lr = roc_curve(y_train, y_scores_lr)"
      ],
      "metadata": {
        "id": "MVgfexoGK8jL"
      },
      "execution_count": 42,
      "outputs": []
    },
    {
      "cell_type": "code",
      "source": [
        "plt.plot(fpr, tpr, \"b:\", label=\"SGD\")\n",
        "plot_roc_curve(fpr_lr, tpr_lr, \"Logistic Regression\")\n",
        "plt.legend(loc=\"bottom right\")\n",
        "plt.show()"
      ],
      "metadata": {
        "colab": {
          "base_uri": "https://localhost:8080/",
          "height": 546
        },
        "id": "Lr7ylpesLWTU",
        "outputId": "c28a19fc-6387-4ffa-8f61-6a0340f90622"
      },
      "execution_count": 43,
      "outputs": [
        {
          "output_type": "stream",
          "name": "stderr",
          "text": [
            "/usr/local/lib/python3.7/dist-packages/ipykernel_launcher.py:3: MatplotlibDeprecationWarning: Unrecognized location 'bottom right'. Falling back on 'best'; valid locations are\n",
            "\tbest\n",
            "\tupper right\n",
            "\tupper left\n",
            "\tlower left\n",
            "\tlower right\n",
            "\tright\n",
            "\tcenter left\n",
            "\tcenter right\n",
            "\tlower center\n",
            "\tupper center\n",
            "\tcenter\n",
            "This will raise an exception in 3.3.\n",
            "  This is separate from the ipykernel package so we can avoid doing imports until\n"
          ]
        },
        {
          "output_type": "display_data",
          "data": {
            "text/plain": [
              "<Figure size 432x288 with 1 Axes>"
            ],
            "image/png": "[encoded data removed]"
          },
          "metadata": {
            "needs_background": "light"
          }
        }
      ]
    },
    {
      "cell_type": "markdown",
      "source": [
        "#### AUC"
      ],
      "metadata": {
        "id": "L4-Aye0o_d-E"
      }
    },
    {
      "cell_type": "code",
      "source": [
        "roc_auc_score(y_train, y_scores_lr)"
      ],
      "metadata": {
        "colab": {
          "base_uri": "https://localhost:8080/"
        },
        "id": "az4TcrOSPDt7",
        "outputId": "e54d1a46-d894-453a-96a0-a03c8e1986a1"
      },
      "execution_count": 44,
      "outputs": [
        {
          "output_type": "execute_result",
          "data": {
            "text/plain": [
              "0.9775740339827184"
            ]
          },
          "metadata": {},
          "execution_count": 44
        }
      ]
    },
    {
      "cell_type": "markdown",
      "source": [
        "### Performance metrics for test data"
      ],
      "metadata": {
        "id": "tcDGN4gJ_pcu"
      }
    },
    {
      "cell_type": "code",
      "source": [
        "prediction_lr = logreg.predict(X_test)\n",
        "print(\"\\n\" + classification_report(y_test,prediction_lr))"
      ],
      "metadata": {
        "colab": {
          "base_uri": "https://localhost:8080/"
        },
        "id": "Kdv922K-_u5Y",
        "outputId": "f344796b-6d48-4957-e9c9-25601622de92"
      },
      "execution_count": 45,
      "outputs": [
        {
          "output_type": "stream",
          "name": "stdout",
          "text": [
            "\n",
            "              precision    recall  f1-score   support\n",
            "\n",
            "          -1       0.92      0.90      0.91      1499\n",
            "           1       0.92      0.94      0.93      1818\n",
            "\n",
            "    accuracy                           0.92      3317\n",
            "   macro avg       0.92      0.92      0.92      3317\n",
            "weighted avg       0.92      0.92      0.92      3317\n",
            "\n"
          ]
        }
      ]
    },
    {
      "cell_type": "code",
      "source": [
        "# ROC_AUC score for test data\n",
        "roc_auc_score(y_test,prediction_lr)"
      ],
      "metadata": {
        "colab": {
          "base_uri": "https://localhost:8080/"
        },
        "id": "8mXJdYsT36I0",
        "outputId": "26b460ca-3386-4a48-c05c-2f15a5c4a94b"
      },
      "execution_count": 46,
      "outputs": [
        {
          "output_type": "execute_result",
          "data": {
            "text/plain": [
              "0.9202812876351011"
            ]
          },
          "metadata": {},
          "execution_count": 46
        }
      ]
    },
    {
      "cell_type": "markdown",
      "source": [
        "Logistic Regression and SGD classifier are almost equal in terms of model efficiency,  their accuracy approximately 92%."
      ],
      "metadata": {
        "id": "e5X7_QdRFLU-"
      }
    },
    {
      "cell_type": "markdown",
      "source": [
        "## Model 3: Random Forest Classifier"
      ],
      "metadata": {
        "id": "pzhc6HZUEAom"
      }
    },
    {
      "cell_type": "markdown",
      "source": [
        "### Performance metrics for Train Data"
      ],
      "metadata": {
        "id": "I8DRMvEqAESE"
      }
    },
    {
      "cell_type": "markdown",
      "source": [
        "#### GridSearch CV\n",
        "\n",
        "The Random Forest Classifier has various hyperparameters like n-estimators, max_features etc. We use GridSearch CV to tune the hyperparameters to get a better accuracy or f1 score."
      ],
      "metadata": {
        "id": "4GKq_HOBAJOm"
      }
    },
    {
      "cell_type": "code",
      "source": [
        "param_grid = [\n",
        " {'n_estimators': [100,200,500], 'max_features': ['auto', 'sqrt', 'log2']},\n",
        " ]\n",
        "forest_gs = RandomForestClassifier(random_state=42,n_jobs=-1)\n",
        "grid_search = GridSearchCV(forest_gs, param_grid, cv=5,\n",
        " scoring='f1',\n",
        "return_train_score=True)\n",
        "grid_search.fit(X_train, y_train)"
      ],
      "metadata": {
        "colab": {
          "base_uri": "https://localhost:8080/"
        },
        "id": "AhUKjwYXszSB",
        "outputId": "28b15fa2-1421-48ea-e838-292c1595da14"
      },
      "execution_count": 47,
      "outputs": [
        {
          "output_type": "execute_result",
          "data": {
            "text/plain": [
              "GridSearchCV(cv=5, estimator=RandomForestClassifier(n_jobs=-1, random_state=42),\n",
              "             param_grid=[{'max_features': ['auto', 'sqrt', 'log2'],\n",
              "                          'n_estimators': [100, 200, 500]}],\n",
              "             return_train_score=True, scoring='f1')"
            ]
          },
          "metadata": {},
          "execution_count": 47
        }
      ]
    },
    {
      "cell_type": "code",
      "source": [
        "grid_search.best_params_"
      ],
      "metadata": {
        "colab": {
          "base_uri": "https://localhost:8080/"
        },
        "id": "qMhCgC2Atszv",
        "outputId": "c2e64a86-bf56-4530-cdca-c5a224662853"
      },
      "execution_count": 48,
      "outputs": [
        {
          "output_type": "execute_result",
          "data": {
            "text/plain": [
              "{'max_features': 'auto', 'n_estimators': 500}"
            ]
          },
          "metadata": {},
          "execution_count": 48
        }
      ]
    },
    {
      "cell_type": "markdown",
      "source": [
        "Now we know the best params and best estimator to use. "
      ],
      "metadata": {
        "id": "Gan73i3N0VHG"
      }
    },
    {
      "cell_type": "markdown",
      "source": [
        "#### Accuracy"
      ],
      "metadata": {
        "id": "OksRuBVryGeK"
      }
    },
    {
      "cell_type": "code",
      "source": [
        "rf = grid_search.best_estimator_\n",
        "y_pred_forest = cross_val_predict(rf, X_train, y_train, cv=5)\n",
        "y_probas_forest = cross_val_predict(rf, X_train, y_train, cv=5, method=\"predict_proba\")\n",
        "print(accuracy_score(y_train,y_pred_forest))\n"
      ],
      "metadata": {
        "colab": {
          "base_uri": "https://localhost:8080/"
        },
        "id": "61zAbTbNueJ6",
        "outputId": "3814e3bc-a41c-4098-f75a-c95404e5cfcb"
      },
      "execution_count": 49,
      "outputs": [
        {
          "output_type": "stream",
          "name": "stdout",
          "text": [
            "0.9666580511760144\n"
          ]
        }
      ]
    },
    {
      "cell_type": "markdown",
      "source": [
        "#### Confusion Matrix"
      ],
      "metadata": {
        "id": "gqG0Y5fawm-p"
      }
    },
    {
      "cell_type": "code",
      "source": [
        "y_train_pred_lr = cross_val_predict(rf, X_train, y_train, cv=5)\n",
        "confusion_matrix(y_train, y_train_pred_lr)"
      ],
      "metadata": {
        "colab": {
          "base_uri": "https://localhost:8080/"
        },
        "id": "Mh-maXSZwzBs",
        "outputId": "03511ec2-95b8-4329-fe66-74c264da49a1"
      },
      "execution_count": 50,
      "outputs": [
        {
          "output_type": "execute_result",
          "data": {
            "text/plain": [
              "array([[3237,  162],\n",
              "       [  96, 4243]])"
            ]
          },
          "metadata": {},
          "execution_count": 50
        }
      ]
    },
    {
      "cell_type": "code",
      "source": [
        "y_scores_forest = y_probas_forest[:, 1] # score = proba of positive class\n",
        "fpr_forest, tpr_forest, thresholds_forest = roc_curve(y_train,y_scores_forest)"
      ],
      "metadata": {
        "id": "mtdWfWbq-3tr"
      },
      "execution_count": 51,
      "outputs": []
    },
    {
      "cell_type": "markdown",
      "source": [
        "#### ROC Curve"
      ],
      "metadata": {
        "id": "RaVibmSqxQ_Z"
      }
    },
    {
      "cell_type": "code",
      "source": [
        "plt.plot(fpr, tpr, \"b:\", label=\"SGD\")\n",
        "plt.plot(fpr_lr,tpr_lr, label=\"Logistic Regression\")\n",
        "plot_roc_curve(fpr_forest, tpr_forest, \"Random Forest\")\n",
        "plt.legend(loc=\"bottom right\")\n",
        "plt.show()"
      ],
      "metadata": {
        "colab": {
          "base_uri": "https://localhost:8080/",
          "height": 546
        },
        "id": "0f1fwpbo--eU",
        "outputId": "50c270e8-ab7c-401a-f05d-76d490eaa042"
      },
      "execution_count": 52,
      "outputs": [
        {
          "output_type": "stream",
          "name": "stderr",
          "text": [
            "/usr/local/lib/python3.7/dist-packages/ipykernel_launcher.py:4: MatplotlibDeprecationWarning: Unrecognized location 'bottom right'. Falling back on 'best'; valid locations are\n",
            "\tbest\n",
            "\tupper right\n",
            "\tupper left\n",
            "\tlower left\n",
            "\tlower right\n",
            "\tright\n",
            "\tcenter left\n",
            "\tcenter right\n",
            "\tlower center\n",
            "\tupper center\n",
            "\tcenter\n",
            "This will raise an exception in 3.3.\n",
            "  after removing the cwd from sys.path.\n"
          ]
        },
        {
          "output_type": "display_data",
          "data": {
            "text/plain": [
              "<Figure size 432x288 with 1 Axes>"
            ],
            "image/png": "[encoded data removed]"
          },
          "metadata": {
            "needs_background": "light"
          }
        }
      ]
    },
    {
      "cell_type": "markdown",
      "source": [
        "#### Precision Recall and F1 Score"
      ],
      "metadata": {
        "id": "E7z_siQdxpZp"
      }
    },
    {
      "cell_type": "code",
      "source": [
        "y_pred_forest = cross_val_predict(rf, X_train, y_train, cv=5)\n",
        "print(\"precision\",precision_score(y_train, y_pred_forest))\n",
        "print(\"recall\",recall_score(y_train, y_pred_forest))\n",
        "print(\"F1 score\", f1_score(y_train,y_pred_forest))\n",
        "print(\"\\n\" + classification_report(y_train,y_pred_forest))"
      ],
      "metadata": {
        "colab": {
          "base_uri": "https://localhost:8080/"
        },
        "id": "kJb6d4uk_tZE",
        "outputId": "fc810689-0d2e-40de-f841-da6ec80c3943"
      },
      "execution_count": 53,
      "outputs": [
        {
          "output_type": "stream",
          "name": "stdout",
          "text": [
            "precision 0.9632236095346197\n",
            "recall 0.9778750864254436\n",
            "F1 score 0.9704940530649587\n",
            "\n",
            "              precision    recall  f1-score   support\n",
            "\n",
            "          -1       0.97      0.95      0.96      3399\n",
            "           1       0.96      0.98      0.97      4339\n",
            "\n",
            "    accuracy                           0.97      7738\n",
            "   macro avg       0.97      0.97      0.97      7738\n",
            "weighted avg       0.97      0.97      0.97      7738\n",
            "\n"
          ]
        }
      ]
    },
    {
      "cell_type": "markdown",
      "source": [
        "#### AUC"
      ],
      "metadata": {
        "id": "94RjH41HxxwT"
      }
    },
    {
      "cell_type": "code",
      "source": [
        "# ROC_AUC score for train data\n",
        "roc_auc_score(y_train, y_scores_forest)"
      ],
      "metadata": {
        "colab": {
          "base_uri": "https://localhost:8080/"
        },
        "id": "i05BUPCdAv3-",
        "outputId": "95ac59f2-bc3c-49c6-d7a8-c636c6c64999"
      },
      "execution_count": 54,
      "outputs": [
        {
          "output_type": "execute_result",
          "data": {
            "text/plain": [
              "0.9938788037450653"
            ]
          },
          "metadata": {},
          "execution_count": 54
        }
      ]
    },
    {
      "cell_type": "markdown",
      "source": [
        "### Performance metrics for test data"
      ],
      "metadata": {
        "id": "Jkl1HyQHyjz7"
      }
    },
    {
      "cell_type": "code",
      "source": [
        "prediction_rf = rf.predict(X_test)\n",
        "print(\"\\n\" + classification_report(y_test,prediction_rf))"
      ],
      "metadata": {
        "colab": {
          "base_uri": "https://localhost:8080/"
        },
        "id": "iVqAxJDOykNK",
        "outputId": "fbb7dcfd-0229-4423-ed09-cecacf11a603"
      },
      "execution_count": 55,
      "outputs": [
        {
          "output_type": "stream",
          "name": "stdout",
          "text": [
            "\n",
            "              precision    recall  f1-score   support\n",
            "\n",
            "          -1       0.98      0.96      0.97      1499\n",
            "           1       0.97      0.98      0.97      1818\n",
            "\n",
            "    accuracy                           0.97      3317\n",
            "   macro avg       0.97      0.97      0.97      3317\n",
            "weighted avg       0.97      0.97      0.97      3317\n",
            "\n"
          ]
        }
      ]
    },
    {
      "cell_type": "code",
      "source": [
        "# ROC_AUC score for test data\n",
        "roc_auc_score(y_test,prediction_rf)"
      ],
      "metadata": {
        "colab": {
          "base_uri": "https://localhost:8080/"
        },
        "id": "8fyUIjazriOO",
        "outputId": "702d19fb-a251-4335-9143-0daa142d9c45"
      },
      "execution_count": 56,
      "outputs": [
        {
          "output_type": "execute_result",
          "data": {
            "text/plain": [
              "0.9690850005614303"
            ]
          },
          "metadata": {},
          "execution_count": 56
        }
      ]
    },
    {
      "cell_type": "markdown",
      "source": [
        "We can clearly see that Random Forest is the winner out of the 3 models with an accuracy of 97% , F1 score of 0.97 and AUC of 0.97. "
      ],
      "metadata": {
        "id": "_tT5av8pFu5s"
      }
    },
    {
      "cell_type": "markdown",
      "source": [
        "### Feature Importance"
      ],
      "metadata": {
        "id": "6S-uN0Jyy07-"
      }
    },
    {
      "cell_type": "code",
      "source": [
        "feature_names = list(new_df.columns)\n",
        "rf_feature_importances = rf.feature_importances_\n",
        "rf_feature_names, rf_feature_scores = zip(*sorted(zip(feature_names, \n",
        "rf_feature_importances), key=lambda x: x[1]))"
      ],
      "metadata": {
        "id": "7aWDBMqkxZrf"
      },
      "execution_count": 57,
      "outputs": []
    },
    {
      "cell_type": "code",
      "source": [
        "# plot the feature importance plots\n",
        "y_position = list(range(len(rf_feature_names)))\n",
        "plt.barh(y_position, rf_feature_scores, align='center', \n",
        " tick_label=rf_feature_names)\n",
        "\n",
        "plt.xlabel('Relative Importance Score')\n",
        "plt.ylabel('Feature')\n"
      ],
      "metadata": {
        "colab": {
          "base_uri": "https://localhost:8080/",
          "height": 296
        },
        "id": "BQ9X9KPSzy7X",
        "outputId": "efbbf238-a713-4aa3-d63e-9115d68e51f2"
      },
      "execution_count": 58,
      "outputs": [
        {
          "output_type": "execute_result",
          "data": {
            "text/plain": [
              "Text(0, 0.5, 'Feature')"
            ]
          },
          "metadata": {},
          "execution_count": 58
        },
        {
          "output_type": "display_data",
          "data": {
            "text/plain": [
              "<Figure size 432x288 with 1 Axes>"
            ],
            "image/png": "[encoded data removed]"
          },
          "metadata": {
            "needs_background": "light"
          }
        }
      ]
    },
    {
      "cell_type": "markdown",
      "source": [
        "We can see the feature importances for the random forest model. The top three features that contributed toward classifying an URL as \"Phishing\" or \"Legitimate\" are SSLFinal_State, URL_of_Anchor and web_traffic."
      ],
      "metadata": {
        "id": "gp5f0DRbyyfY"
      }
    },
    {
      "cell_type": "markdown",
      "source": [
        "# Conclusion"
      ],
      "metadata": {
        "id": "1ERtXz0l_dSB"
      }
    },
    {
      "cell_type": "markdown",
      "source": [
        "In this Project, we analyzed the cyber security dataset classifying an URL as \"Phishing\" or \"Legitimate\". We explored various features in the dataset by drawing graphs. We buit classification models like SGD Classifier, Logistic Regression and Random Forest. We did performance metrics for each of these models. We can conclude that the Random Forest model is the winner among the three models with an accuracy of 97%. The F1 score is 97% and the AUC is 0.97. This indicates that we have built an effective model which can classify the URLs correctly with very minimal mis-classification."
      ],
      "metadata": {
        "id": "rKu6athp_HxX"
      }
    }
  ]
}